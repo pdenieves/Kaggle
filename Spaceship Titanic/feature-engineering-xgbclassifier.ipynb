{
 "cells": [
  {
   "cell_type": "markdown",
   "id": "6e718786",
   "metadata": {
    "papermill": {
     "duration": 0.156852,
     "end_time": "2022-04-22T18:04:59.608264",
     "exception": false,
     "start_time": "2022-04-22T18:04:59.451412",
     "status": "completed"
    },
    "tags": []
   },
   "source": [
    "# Spaceship Titanic"
   ]
  },
  {
   "cell_type": "markdown",
   "id": "d5924259",
   "metadata": {
    "papermill": {
     "duration": 0.151185,
     "end_time": "2022-04-22T18:04:59.913651",
     "exception": false,
     "start_time": "2022-04-22T18:04:59.762466",
     "status": "completed"
    },
    "tags": []
   },
   "source": [
    "This is a notebook rather long. It's not a try to get a good ranking in the competition. It is my second attempt to experiment and learn on feature analysis, imputation and engineering. As you can see, I have generated new features, but not all them were used finally. I've discarded several of them for the final model. They were just part of the data exploration.\n",
    "\n",
    "I've got some ideas from other scientist's notebooks, and I thank them a lot. Their work really helped me."
   ]
  },
  {
   "cell_type": "markdown",
   "id": "e4bf2053",
   "metadata": {
    "execution": {
     "iopub.execute_input": "2022-04-21T18:43:19.548953Z",
     "iopub.status.busy": "2022-04-21T18:43:19.548497Z",
     "iopub.status.idle": "2022-04-21T18:43:19.578788Z",
     "shell.execute_reply": "2022-04-21T18:43:19.57766Z",
     "shell.execute_reply.started": "2022-04-21T18:43:19.548858Z"
    },
    "papermill": {
     "duration": 0.150414,
     "end_time": "2022-04-22T18:05:00.217632",
     "exception": false,
     "start_time": "2022-04-22T18:05:00.067218",
     "status": "completed"
    },
    "tags": []
   },
   "source": [
    "1. [Data load](#data_load)\n",
    "2. [Review data](#review_data)\n",
    "3. [Feature engineering](#feature_engineering)\n",
    "4. [Preparation of the training datasets](#preparation_datasets)\n",
    "5. [Training the model](#training_model)\n",
    "6. [Make the prediction](#make_prediction)"
   ]
  },
  {
   "cell_type": "code",
   "execution_count": 1,
   "id": "36f42b5a",
   "metadata": {
    "execution": {
     "iopub.execute_input": "2022-04-22T18:05:00.529334Z",
     "iopub.status.busy": "2022-04-22T18:05:00.528611Z",
     "iopub.status.idle": "2022-04-22T18:05:01.801355Z",
     "shell.execute_reply": "2022-04-22T18:05:01.800388Z",
     "shell.execute_reply.started": "2022-04-22T17:57:12.341245Z"
    },
    "papermill": {
     "duration": 1.433493,
     "end_time": "2022-04-22T18:05:01.801559",
     "exception": false,
     "start_time": "2022-04-22T18:05:00.368066",
     "status": "completed"
    },
    "tags": []
   },
   "outputs": [],
   "source": [
    "import numpy as np\n",
    "import pandas as pd\n",
    "from datetime import datetime\n",
    "\n",
    "import seaborn as sns\n",
    "from matplotlib import pyplot as plt\n",
    "%matplotlib inline\n",
    "\n",
    "from sklearn.model_selection import train_test_split\n",
    "\n",
    "import warnings \n",
    "warnings.simplefilter(action='ignore')\n",
    "pd.options.mode.chained_assignment = None "
   ]
  },
  {
   "cell_type": "markdown",
   "id": "e4081765",
   "metadata": {
    "papermill": {
     "duration": 0.153982,
     "end_time": "2022-04-22T18:05:02.109616",
     "exception": false,
     "start_time": "2022-04-22T18:05:01.955634",
     "status": "completed"
    },
    "tags": []
   },
   "source": [
    "<a id='data_load'></a>\n",
    "# 1. Data load"
   ]
  },
  {
   "cell_type": "code",
   "execution_count": 2,
   "id": "c725d2bd",
   "metadata": {
    "execution": {
     "iopub.execute_input": "2022-04-22T18:05:02.418393Z",
     "iopub.status.busy": "2022-04-22T18:05:02.417379Z",
     "iopub.status.idle": "2022-04-22T18:05:02.510107Z",
     "shell.execute_reply": "2022-04-22T18:05:02.510616Z",
     "shell.execute_reply.started": "2022-04-22T17:57:13.838296Z"
    },
    "papermill": {
     "duration": 0.249383,
     "end_time": "2022-04-22T18:05:02.510848",
     "exception": false,
     "start_time": "2022-04-22T18:05:02.261465",
     "status": "completed"
    },
    "tags": []
   },
   "outputs": [
    {
     "name": "stdout",
     "output_type": "stream",
     "text": [
      "Dimensions - Train (8693, 14)\n"
     ]
    },
    {
     "data": {
      "text/html": [
       "<div>\n",
       "<style scoped>\n",
       "    .dataframe tbody tr th:only-of-type {\n",
       "        vertical-align: middle;\n",
       "    }\n",
       "\n",
       "    .dataframe tbody tr th {\n",
       "        vertical-align: top;\n",
       "    }\n",
       "\n",
       "    .dataframe thead th {\n",
       "        text-align: right;\n",
       "    }\n",
       "</style>\n",
       "<table border=\"1\" class=\"dataframe\">\n",
       "  <thead>\n",
       "    <tr style=\"text-align: right;\">\n",
       "      <th></th>\n",
       "      <th>PassengerId</th>\n",
       "      <th>HomePlanet</th>\n",
       "      <th>CryoSleep</th>\n",
       "      <th>Cabin</th>\n",
       "      <th>Destination</th>\n",
       "      <th>Age</th>\n",
       "      <th>VIP</th>\n",
       "      <th>RoomService</th>\n",
       "      <th>FoodCourt</th>\n",
       "      <th>ShoppingMall</th>\n",
       "      <th>Spa</th>\n",
       "      <th>VRDeck</th>\n",
       "      <th>Name</th>\n",
       "      <th>Transported</th>\n",
       "    </tr>\n",
       "  </thead>\n",
       "  <tbody>\n",
       "    <tr>\n",
       "      <th>0</th>\n",
       "      <td>0001_01</td>\n",
       "      <td>Europa</td>\n",
       "      <td>False</td>\n",
       "      <td>B/0/P</td>\n",
       "      <td>TRAPPIST-1e</td>\n",
       "      <td>39.0</td>\n",
       "      <td>False</td>\n",
       "      <td>0.0</td>\n",
       "      <td>0.0</td>\n",
       "      <td>0.0</td>\n",
       "      <td>0.0</td>\n",
       "      <td>0.0</td>\n",
       "      <td>Maham Ofracculy</td>\n",
       "      <td>False</td>\n",
       "    </tr>\n",
       "    <tr>\n",
       "      <th>1</th>\n",
       "      <td>0002_01</td>\n",
       "      <td>Earth</td>\n",
       "      <td>False</td>\n",
       "      <td>F/0/S</td>\n",
       "      <td>TRAPPIST-1e</td>\n",
       "      <td>24.0</td>\n",
       "      <td>False</td>\n",
       "      <td>109.0</td>\n",
       "      <td>9.0</td>\n",
       "      <td>25.0</td>\n",
       "      <td>549.0</td>\n",
       "      <td>44.0</td>\n",
       "      <td>Juanna Vines</td>\n",
       "      <td>True</td>\n",
       "    </tr>\n",
       "    <tr>\n",
       "      <th>2</th>\n",
       "      <td>0003_01</td>\n",
       "      <td>Europa</td>\n",
       "      <td>False</td>\n",
       "      <td>A/0/S</td>\n",
       "      <td>TRAPPIST-1e</td>\n",
       "      <td>58.0</td>\n",
       "      <td>True</td>\n",
       "      <td>43.0</td>\n",
       "      <td>3576.0</td>\n",
       "      <td>0.0</td>\n",
       "      <td>6715.0</td>\n",
       "      <td>49.0</td>\n",
       "      <td>Altark Susent</td>\n",
       "      <td>False</td>\n",
       "    </tr>\n",
       "    <tr>\n",
       "      <th>3</th>\n",
       "      <td>0003_02</td>\n",
       "      <td>Europa</td>\n",
       "      <td>False</td>\n",
       "      <td>A/0/S</td>\n",
       "      <td>TRAPPIST-1e</td>\n",
       "      <td>33.0</td>\n",
       "      <td>False</td>\n",
       "      <td>0.0</td>\n",
       "      <td>1283.0</td>\n",
       "      <td>371.0</td>\n",
       "      <td>3329.0</td>\n",
       "      <td>193.0</td>\n",
       "      <td>Solam Susent</td>\n",
       "      <td>False</td>\n",
       "    </tr>\n",
       "    <tr>\n",
       "      <th>4</th>\n",
       "      <td>0004_01</td>\n",
       "      <td>Earth</td>\n",
       "      <td>False</td>\n",
       "      <td>F/1/S</td>\n",
       "      <td>TRAPPIST-1e</td>\n",
       "      <td>16.0</td>\n",
       "      <td>False</td>\n",
       "      <td>303.0</td>\n",
       "      <td>70.0</td>\n",
       "      <td>151.0</td>\n",
       "      <td>565.0</td>\n",
       "      <td>2.0</td>\n",
       "      <td>Willy Santantines</td>\n",
       "      <td>True</td>\n",
       "    </tr>\n",
       "  </tbody>\n",
       "</table>\n",
       "</div>"
      ],
      "text/plain": [
       "  PassengerId HomePlanet CryoSleep  Cabin  Destination   Age    VIP  \\\n",
       "0     0001_01     Europa     False  B/0/P  TRAPPIST-1e  39.0  False   \n",
       "1     0002_01      Earth     False  F/0/S  TRAPPIST-1e  24.0  False   \n",
       "2     0003_01     Europa     False  A/0/S  TRAPPIST-1e  58.0   True   \n",
       "3     0003_02     Europa     False  A/0/S  TRAPPIST-1e  33.0  False   \n",
       "4     0004_01      Earth     False  F/1/S  TRAPPIST-1e  16.0  False   \n",
       "\n",
       "   RoomService  FoodCourt  ShoppingMall     Spa  VRDeck               Name  \\\n",
       "0          0.0        0.0           0.0     0.0     0.0    Maham Ofracculy   \n",
       "1        109.0        9.0          25.0   549.0    44.0       Juanna Vines   \n",
       "2         43.0     3576.0           0.0  6715.0    49.0      Altark Susent   \n",
       "3          0.0     1283.0         371.0  3329.0   193.0       Solam Susent   \n",
       "4        303.0       70.0         151.0   565.0     2.0  Willy Santantines   \n",
       "\n",
       "   Transported  \n",
       "0        False  \n",
       "1         True  \n",
       "2        False  \n",
       "3        False  \n",
       "4         True  "
      ]
     },
     "execution_count": 2,
     "metadata": {},
     "output_type": "execute_result"
    }
   ],
   "source": [
    "# Load train dataset\n",
    "train_df = pd.read_csv('../input/spaceship-titanic/train.csv', sep=',', encoding='UTF-8')\n",
    "\n",
    "print(f'Dimensions - Train {train_df.shape}')\n",
    "\n",
    "train_df.head()"
   ]
  },
  {
   "cell_type": "code",
   "execution_count": 3,
   "id": "959cfb7c",
   "metadata": {
    "execution": {
     "iopub.execute_input": "2022-04-22T18:05:02.826474Z",
     "iopub.status.busy": "2022-04-22T18:05:02.825695Z",
     "iopub.status.idle": "2022-04-22T18:05:02.871193Z",
     "shell.execute_reply": "2022-04-22T18:05:02.871798Z",
     "shell.execute_reply.started": "2022-04-22T17:57:13.928586Z"
    },
    "papermill": {
     "duration": 0.20589,
     "end_time": "2022-04-22T18:05:02.871993",
     "exception": false,
     "start_time": "2022-04-22T18:05:02.666103",
     "status": "completed"
    },
    "tags": []
   },
   "outputs": [
    {
     "name": "stdout",
     "output_type": "stream",
     "text": [
      "Dimensions - Test (4277, 13)\n"
     ]
    },
    {
     "data": {
      "text/html": [
       "<div>\n",
       "<style scoped>\n",
       "    .dataframe tbody tr th:only-of-type {\n",
       "        vertical-align: middle;\n",
       "    }\n",
       "\n",
       "    .dataframe tbody tr th {\n",
       "        vertical-align: top;\n",
       "    }\n",
       "\n",
       "    .dataframe thead th {\n",
       "        text-align: right;\n",
       "    }\n",
       "</style>\n",
       "<table border=\"1\" class=\"dataframe\">\n",
       "  <thead>\n",
       "    <tr style=\"text-align: right;\">\n",
       "      <th></th>\n",
       "      <th>PassengerId</th>\n",
       "      <th>HomePlanet</th>\n",
       "      <th>CryoSleep</th>\n",
       "      <th>Cabin</th>\n",
       "      <th>Destination</th>\n",
       "      <th>Age</th>\n",
       "      <th>VIP</th>\n",
       "      <th>RoomService</th>\n",
       "      <th>FoodCourt</th>\n",
       "      <th>ShoppingMall</th>\n",
       "      <th>Spa</th>\n",
       "      <th>VRDeck</th>\n",
       "      <th>Name</th>\n",
       "    </tr>\n",
       "  </thead>\n",
       "  <tbody>\n",
       "    <tr>\n",
       "      <th>0</th>\n",
       "      <td>0013_01</td>\n",
       "      <td>Earth</td>\n",
       "      <td>True</td>\n",
       "      <td>G/3/S</td>\n",
       "      <td>TRAPPIST-1e</td>\n",
       "      <td>27.0</td>\n",
       "      <td>False</td>\n",
       "      <td>0.0</td>\n",
       "      <td>0.0</td>\n",
       "      <td>0.0</td>\n",
       "      <td>0.0</td>\n",
       "      <td>0.0</td>\n",
       "      <td>Nelly Carsoning</td>\n",
       "    </tr>\n",
       "    <tr>\n",
       "      <th>1</th>\n",
       "      <td>0018_01</td>\n",
       "      <td>Earth</td>\n",
       "      <td>False</td>\n",
       "      <td>F/4/S</td>\n",
       "      <td>TRAPPIST-1e</td>\n",
       "      <td>19.0</td>\n",
       "      <td>False</td>\n",
       "      <td>0.0</td>\n",
       "      <td>9.0</td>\n",
       "      <td>0.0</td>\n",
       "      <td>2823.0</td>\n",
       "      <td>0.0</td>\n",
       "      <td>Lerome Peckers</td>\n",
       "    </tr>\n",
       "    <tr>\n",
       "      <th>2</th>\n",
       "      <td>0019_01</td>\n",
       "      <td>Europa</td>\n",
       "      <td>True</td>\n",
       "      <td>C/0/S</td>\n",
       "      <td>55 Cancri e</td>\n",
       "      <td>31.0</td>\n",
       "      <td>False</td>\n",
       "      <td>0.0</td>\n",
       "      <td>0.0</td>\n",
       "      <td>0.0</td>\n",
       "      <td>0.0</td>\n",
       "      <td>0.0</td>\n",
       "      <td>Sabih Unhearfus</td>\n",
       "    </tr>\n",
       "    <tr>\n",
       "      <th>3</th>\n",
       "      <td>0021_01</td>\n",
       "      <td>Europa</td>\n",
       "      <td>False</td>\n",
       "      <td>C/1/S</td>\n",
       "      <td>TRAPPIST-1e</td>\n",
       "      <td>38.0</td>\n",
       "      <td>False</td>\n",
       "      <td>0.0</td>\n",
       "      <td>6652.0</td>\n",
       "      <td>0.0</td>\n",
       "      <td>181.0</td>\n",
       "      <td>585.0</td>\n",
       "      <td>Meratz Caltilter</td>\n",
       "    </tr>\n",
       "    <tr>\n",
       "      <th>4</th>\n",
       "      <td>0023_01</td>\n",
       "      <td>Earth</td>\n",
       "      <td>False</td>\n",
       "      <td>F/5/S</td>\n",
       "      <td>TRAPPIST-1e</td>\n",
       "      <td>20.0</td>\n",
       "      <td>False</td>\n",
       "      <td>10.0</td>\n",
       "      <td>0.0</td>\n",
       "      <td>635.0</td>\n",
       "      <td>0.0</td>\n",
       "      <td>0.0</td>\n",
       "      <td>Brence Harperez</td>\n",
       "    </tr>\n",
       "  </tbody>\n",
       "</table>\n",
       "</div>"
      ],
      "text/plain": [
       "  PassengerId HomePlanet CryoSleep  Cabin  Destination   Age    VIP  \\\n",
       "0     0013_01      Earth      True  G/3/S  TRAPPIST-1e  27.0  False   \n",
       "1     0018_01      Earth     False  F/4/S  TRAPPIST-1e  19.0  False   \n",
       "2     0019_01     Europa      True  C/0/S  55 Cancri e  31.0  False   \n",
       "3     0021_01     Europa     False  C/1/S  TRAPPIST-1e  38.0  False   \n",
       "4     0023_01      Earth     False  F/5/S  TRAPPIST-1e  20.0  False   \n",
       "\n",
       "   RoomService  FoodCourt  ShoppingMall     Spa  VRDeck              Name  \n",
       "0          0.0        0.0           0.0     0.0     0.0   Nelly Carsoning  \n",
       "1          0.0        9.0           0.0  2823.0     0.0    Lerome Peckers  \n",
       "2          0.0        0.0           0.0     0.0     0.0   Sabih Unhearfus  \n",
       "3          0.0     6652.0           0.0   181.0   585.0  Meratz Caltilter  \n",
       "4         10.0        0.0         635.0     0.0     0.0   Brence Harperez  "
      ]
     },
     "execution_count": 3,
     "metadata": {},
     "output_type": "execute_result"
    }
   ],
   "source": [
    "# Load test dataset\n",
    "test_df = pd.read_csv('../input/spaceship-titanic/test.csv', sep=',', encoding='UTF-8')\n",
    "\n",
    "print(f'Dimensions - Test {test_df.shape}')\n",
    "\n",
    "test_df.head()"
   ]
  },
  {
   "cell_type": "code",
   "execution_count": 4,
   "id": "723bacc7",
   "metadata": {
    "execution": {
     "iopub.execute_input": "2022-04-22T18:05:03.184304Z",
     "iopub.status.busy": "2022-04-22T18:05:03.183604Z",
     "iopub.status.idle": "2022-04-22T18:05:03.203000Z",
     "shell.execute_reply": "2022-04-22T18:05:03.203486Z",
     "shell.execute_reply.started": "2022-04-22T17:57:13.979959Z"
    },
    "papermill": {
     "duration": 0.177747,
     "end_time": "2022-04-22T18:05:03.203674",
     "exception": false,
     "start_time": "2022-04-22T18:05:03.025927",
     "status": "completed"
    },
    "tags": []
   },
   "outputs": [
    {
     "data": {
      "text/plain": [
       "Transported\n",
       "False    4315\n",
       "True     4378\n",
       "Name: Transported, dtype: int64"
      ]
     },
     "execution_count": 4,
     "metadata": {},
     "output_type": "execute_result"
    }
   ],
   "source": [
    "train_df['Transported'].describe()\n",
    "train_df.groupby(['Transported'])['Transported'].count().head()"
   ]
  },
  {
   "cell_type": "markdown",
   "id": "f9a7a9c2",
   "metadata": {
    "papermill": {
     "duration": 0.154835,
     "end_time": "2022-04-22T18:05:03.511634",
     "exception": false,
     "start_time": "2022-04-22T18:05:03.356799",
     "status": "completed"
    },
    "tags": []
   },
   "source": [
    "<a id='review_data'></a>\n",
    "# 2. Review data"
   ]
  },
  {
   "cell_type": "code",
   "execution_count": 5,
   "id": "c7916b62",
   "metadata": {
    "execution": {
     "iopub.execute_input": "2022-04-22T18:05:03.822789Z",
     "iopub.status.busy": "2022-04-22T18:05:03.822182Z",
     "iopub.status.idle": "2022-04-22T18:05:03.837739Z",
     "shell.execute_reply": "2022-04-22T18:05:03.838725Z",
     "shell.execute_reply.started": "2022-04-22T17:57:14.006271Z"
    },
    "papermill": {
     "duration": 0.172896,
     "end_time": "2022-04-22T18:05:03.839097",
     "exception": false,
     "start_time": "2022-04-22T18:05:03.666201",
     "status": "completed"
    },
    "tags": []
   },
   "outputs": [
    {
     "name": "stdout",
     "output_type": "stream",
     "text": [
      "Train dataset: 8693\n",
      "Test dataset: 4277\n",
      "Combined: 12970\n"
     ]
    }
   ],
   "source": [
    "# For the data analysis and to simplify feature engineering, I unify both datasets.\n",
    "\n",
    "test_df['Transported'] = 'Unknown'\n",
    "combi_df = pd.concat([train_df, test_df], ignore_index=True)\n",
    "\n",
    "print(f'Train dataset: {len(train_df)}')\n",
    "print(f'Test dataset: {len(test_df)}')\n",
    "print(f'Combined: {len(combi_df)}')"
   ]
  },
  {
   "cell_type": "code",
   "execution_count": 6,
   "id": "65728126",
   "metadata": {
    "execution": {
     "iopub.execute_input": "2022-04-22T18:05:04.154832Z",
     "iopub.status.busy": "2022-04-22T18:05:04.154156Z",
     "iopub.status.idle": "2022-04-22T18:05:04.177055Z",
     "shell.execute_reply": "2022-04-22T18:05:04.176354Z",
     "shell.execute_reply.started": "2022-04-22T17:57:14.025820Z"
    },
    "papermill": {
     "duration": 0.182662,
     "end_time": "2022-04-22T18:05:04.177201",
     "exception": false,
     "start_time": "2022-04-22T18:05:03.994539",
     "status": "completed"
    },
    "tags": []
   },
   "outputs": [
    {
     "data": {
      "text/plain": [
       "PassengerId     0.000000\n",
       "HomePlanet      0.022205\n",
       "CryoSleep       0.023901\n",
       "Cabin           0.023053\n",
       "Destination     0.021126\n",
       "Age             0.020817\n",
       "VIP             0.022822\n",
       "RoomService     0.020278\n",
       "FoodCourt       0.022282\n",
       "ShoppingMall    0.023593\n",
       "Spa             0.021897\n",
       "VRDeck          0.020663\n",
       "Name            0.022668\n",
       "Transported     0.000000\n",
       "dtype: float64"
      ]
     },
     "execution_count": 6,
     "metadata": {},
     "output_type": "execute_result"
    }
   ],
   "source": [
    "# Check missing values\n",
    "\n",
    "combi_df.isna().sum()/len(combi_df)"
   ]
  },
  {
   "cell_type": "markdown",
   "id": "be9d0e15",
   "metadata": {
    "papermill": {
     "duration": 0.153456,
     "end_time": "2022-04-22T18:05:04.488723",
     "exception": false,
     "start_time": "2022-04-22T18:05:04.335267",
     "status": "completed"
    },
    "tags": []
   },
   "source": [
    "<a id='feature_engineering'></a>\n",
    "# 3. Feature engineering"
   ]
  },
  {
   "cell_type": "code",
   "execution_count": 7,
   "id": "f45d0fb1",
   "metadata": {
    "execution": {
     "iopub.execute_input": "2022-04-22T18:05:04.803322Z",
     "iopub.status.busy": "2022-04-22T18:05:04.802268Z",
     "iopub.status.idle": "2022-04-22T18:05:04.813051Z",
     "shell.execute_reply": "2022-04-22T18:05:04.812355Z",
     "shell.execute_reply.started": "2022-04-22T17:57:14.042549Z"
    },
    "papermill": {
     "duration": 0.170139,
     "end_time": "2022-04-22T18:05:04.813197",
     "exception": false,
     "start_time": "2022-04-22T18:05:04.643058",
     "status": "completed"
    },
    "tags": []
   },
   "outputs": [],
   "source": [
    "# Make a copy for feature engineering\n",
    "combi_2 = combi_df.copy()"
   ]
  },
  {
   "cell_type": "code",
   "execution_count": 8,
   "id": "48767ef0",
   "metadata": {
    "execution": {
     "iopub.execute_input": "2022-04-22T18:05:05.129704Z",
     "iopub.status.busy": "2022-04-22T18:05:05.128729Z",
     "iopub.status.idle": "2022-04-22T18:05:05.131891Z",
     "shell.execute_reply": "2022-04-22T18:05:05.132350Z",
     "shell.execute_reply.started": "2022-04-22T17:57:14.059298Z"
    },
    "papermill": {
     "duration": 0.16305,
     "end_time": "2022-04-22T18:05:05.132538",
     "exception": false,
     "start_time": "2022-04-22T18:05:04.969488",
     "status": "completed"
    },
    "tags": []
   },
   "outputs": [],
   "source": [
    "# General logical values conversion:\n",
    "#   True --> 1\n",
    "#   False --> 0"
   ]
  },
  {
   "cell_type": "markdown",
   "id": "e54bb62a",
   "metadata": {
    "papermill": {
     "duration": 0.153428,
     "end_time": "2022-04-22T18:05:05.441009",
     "exception": false,
     "start_time": "2022-04-22T18:05:05.287581",
     "status": "completed"
    },
    "tags": []
   },
   "source": [
    "## Feature: *PassengerId*"
   ]
  },
  {
   "cell_type": "code",
   "execution_count": 9,
   "id": "9ef65e1f",
   "metadata": {
    "execution": {
     "iopub.execute_input": "2022-04-22T18:05:05.755630Z",
     "iopub.status.busy": "2022-04-22T18:05:05.754631Z",
     "iopub.status.idle": "2022-04-22T18:05:05.774843Z",
     "shell.execute_reply": "2022-04-22T18:05:05.775542Z",
     "shell.execute_reply.started": "2022-04-22T17:57:14.066279Z"
    },
    "papermill": {
     "duration": 0.180728,
     "end_time": "2022-04-22T18:05:05.775721",
     "exception": false,
     "start_time": "2022-04-22T18:05:05.594993",
     "status": "completed"
    },
    "tags": []
   },
   "outputs": [
    {
     "data": {
      "text/plain": [
       "count       12970\n",
       "unique      12970\n",
       "top       0001_01\n",
       "freq            1\n",
       "Name: PassengerId, dtype: object"
      ]
     },
     "execution_count": 9,
     "metadata": {},
     "output_type": "execute_result"
    }
   ],
   "source": [
    "combi_2['PassengerId'].describe()"
   ]
  },
  {
   "cell_type": "code",
   "execution_count": 10,
   "id": "6b038ba4",
   "metadata": {
    "execution": {
     "iopub.execute_input": "2022-04-22T18:05:06.094519Z",
     "iopub.status.busy": "2022-04-22T18:05:06.093427Z",
     "iopub.status.idle": "2022-04-22T18:05:06.116651Z",
     "shell.execute_reply": "2022-04-22T18:05:06.115966Z",
     "shell.execute_reply.started": "2022-04-22T17:57:14.101388Z"
    },
    "papermill": {
     "duration": 0.185606,
     "end_time": "2022-04-22T18:05:06.116793",
     "exception": false,
     "start_time": "2022-04-22T18:05:05.931187",
     "status": "completed"
    },
    "tags": []
   },
   "outputs": [],
   "source": [
    "# Extract the number of members in a group and de group ID\n",
    "combi_2['GroupID'] = combi_2['PassengerId'].apply(lambda x: x.split('_')[0])\n",
    "combi_2['GroupNum'] = combi_2['PassengerId'].apply(lambda x: x.split('_')[1]).astype(int)"
   ]
  },
  {
   "cell_type": "code",
   "execution_count": 11,
   "id": "dc4c0902",
   "metadata": {
    "execution": {
     "iopub.execute_input": "2022-04-22T18:05:06.434252Z",
     "iopub.status.busy": "2022-04-22T18:05:06.433275Z",
     "iopub.status.idle": "2022-04-22T18:05:06.453646Z",
     "shell.execute_reply": "2022-04-22T18:05:06.454212Z",
     "shell.execute_reply.started": "2022-04-22T17:57:14.127387Z"
    },
    "papermill": {
     "duration": 0.182468,
     "end_time": "2022-04-22T18:05:06.454395",
     "exception": false,
     "start_time": "2022-04-22T18:05:06.271927",
     "status": "completed"
    },
    "tags": []
   },
   "outputs": [],
   "source": [
    "# Get de number of members of each group\n",
    "combi_2['GroupMembers'] = combi_2.groupby(['GroupID'])['GroupNum'].transform('max')"
   ]
  },
  {
   "cell_type": "markdown",
   "id": "9d011849",
   "metadata": {
    "papermill": {
     "duration": 0.153613,
     "end_time": "2022-04-22T18:05:06.762096",
     "exception": false,
     "start_time": "2022-04-22T18:05:06.608483",
     "status": "completed"
    },
    "tags": []
   },
   "source": [
    "## Feature (new): *GroupMembers*"
   ]
  },
  {
   "cell_type": "code",
   "execution_count": 12,
   "id": "6a82174f",
   "metadata": {
    "execution": {
     "iopub.execute_input": "2022-04-22T18:05:07.076914Z",
     "iopub.status.busy": "2022-04-22T18:05:07.075901Z",
     "iopub.status.idle": "2022-04-22T18:05:07.085132Z",
     "shell.execute_reply": "2022-04-22T18:05:07.085582Z",
     "shell.execute_reply.started": "2022-04-22T17:57:14.151756Z"
    },
    "papermill": {
     "duration": 0.169267,
     "end_time": "2022-04-22T18:05:07.085761",
     "exception": false,
     "start_time": "2022-04-22T18:05:06.916494",
     "status": "completed"
    },
    "tags": []
   },
   "outputs": [
    {
     "data": {
      "text/plain": [
       "GroupMembers\n",
       "1    7145\n",
       "2    2590\n",
       "3    1506\n",
       "4     616\n",
       "5     380\n",
       "7     329\n",
       "6     252\n",
       "8     152\n",
       "Name: GroupMembers, dtype: int64"
      ]
     },
     "execution_count": 12,
     "metadata": {},
     "output_type": "execute_result"
    }
   ],
   "source": [
    "combi_2.groupby(['GroupMembers'])['GroupMembers'].count().sort_values(ascending = False).head(10)"
   ]
  },
  {
   "cell_type": "code",
   "execution_count": 13,
   "id": "81654e7a",
   "metadata": {
    "execution": {
     "iopub.execute_input": "2022-04-22T18:05:07.400179Z",
     "iopub.status.busy": "2022-04-22T18:05:07.399530Z",
     "iopub.status.idle": "2022-04-22T18:05:07.734922Z",
     "shell.execute_reply": "2022-04-22T18:05:07.734263Z",
     "shell.execute_reply.started": "2022-04-22T17:57:14.161386Z"
    },
    "papermill": {
     "duration": 0.492972,
     "end_time": "2022-04-22T18:05:07.735079",
     "exception": false,
     "start_time": "2022-04-22T18:05:07.242107",
     "status": "completed"
    },
    "tags": []
   },
   "outputs": [
    {
     "data": {
      "text/plain": [
       "<AxesSubplot:xlabel='GroupMembers', ylabel='count'>"
      ]
     },
     "execution_count": 13,
     "metadata": {},
     "output_type": "execute_result"
    },
    {
     "data": {
      "image/png": "[encoded data removed]",
      "text/plain": [
       "<Figure size 432x288 with 1 Axes>"
      ]
     },
     "metadata": {
      "needs_background": "light"
     },
     "output_type": "display_data"
    }
   ],
   "source": [
    "# Let's see the relationship between GroupMembers and Transported\n",
    "sns.countplot(x='GroupMembers', hue='Transported', palette='rocket', \n",
    "              data=combi_2[combi_2['Transported'] != 'Unknown'])"
   ]
  },
  {
   "cell_type": "markdown",
   "id": "3da493bf",
   "metadata": {
    "papermill": {
     "duration": 0.159424,
     "end_time": "2022-04-22T18:05:08.052215",
     "exception": false,
     "start_time": "2022-04-22T18:05:07.892791",
     "status": "completed"
    },
    "tags": []
   },
   "source": [
    "## Feature: *HomePlanet*"
   ]
  },
  {
   "cell_type": "code",
   "execution_count": 14,
   "id": "50aa38b6",
   "metadata": {
    "execution": {
     "iopub.execute_input": "2022-04-22T18:05:08.380616Z",
     "iopub.status.busy": "2022-04-22T18:05:08.377606Z",
     "iopub.status.idle": "2022-04-22T18:05:08.384447Z",
     "shell.execute_reply": "2022-04-22T18:05:08.385036Z",
     "shell.execute_reply.started": "2022-04-22T17:57:14.473806Z"
    },
    "papermill": {
     "duration": 0.175107,
     "end_time": "2022-04-22T18:05:08.385241",
     "exception": false,
     "start_time": "2022-04-22T18:05:08.210134",
     "status": "completed"
    },
    "tags": []
   },
   "outputs": [
    {
     "data": {
      "text/plain": [
       "count     12682\n",
       "unique        3\n",
       "top       Earth\n",
       "freq       6865\n",
       "Name: HomePlanet, dtype: object"
      ]
     },
     "execution_count": 14,
     "metadata": {},
     "output_type": "execute_result"
    }
   ],
   "source": [
    "combi_2['HomePlanet'].describe()"
   ]
  },
  {
   "cell_type": "code",
   "execution_count": 15,
   "id": "e1d9e85a",
   "metadata": {
    "execution": {
     "iopub.execute_input": "2022-04-22T18:05:08.707694Z",
     "iopub.status.busy": "2022-04-22T18:05:08.707051Z",
     "iopub.status.idle": "2022-04-22T18:05:08.742438Z",
     "shell.execute_reply": "2022-04-22T18:05:08.741786Z",
     "shell.execute_reply.started": "2022-04-22T17:57:14.488660Z"
    },
    "papermill": {
     "duration": 0.200224,
     "end_time": "2022-04-22T18:05:08.742618",
     "exception": false,
     "start_time": "2022-04-22T18:05:08.542394",
     "status": "completed"
    },
    "tags": []
   },
   "outputs": [
    {
     "data": {
      "text/plain": [
       "HomePlanet\n",
       "Earth      6865\n",
       "Europa     3133\n",
       "Mars       2684\n",
       "Unknown     288\n",
       "Name: HomePlanet, dtype: int64"
      ]
     },
     "execution_count": 15,
     "metadata": {},
     "output_type": "execute_result"
    }
   ],
   "source": [
    "combi_2.fillna('Unknown').groupby(['HomePlanet'])['HomePlanet'].count().head()"
   ]
  },
  {
   "cell_type": "code",
   "execution_count": 16,
   "id": "73ff4fef",
   "metadata": {
    "execution": {
     "iopub.execute_input": "2022-04-22T18:05:09.081070Z",
     "iopub.status.busy": "2022-04-22T18:05:09.079979Z",
     "iopub.status.idle": "2022-04-22T18:05:09.085768Z",
     "shell.execute_reply": "2022-04-22T18:05:09.086589Z",
     "shell.execute_reply.started": "2022-04-22T17:57:14.544350Z"
    },
    "papermill": {
     "duration": 0.187261,
     "end_time": "2022-04-22T18:05:09.086897",
     "exception": false,
     "start_time": "2022-04-22T18:05:08.899636",
     "status": "completed"
    },
    "tags": []
   },
   "outputs": [],
   "source": [
    "# I'll impute the missing values once all features are analyzed."
   ]
  },
  {
   "cell_type": "code",
   "execution_count": 17,
   "id": "1805c6b6",
   "metadata": {
    "execution": {
     "iopub.execute_input": "2022-04-22T18:05:09.409164Z",
     "iopub.status.busy": "2022-04-22T18:05:09.408525Z",
     "iopub.status.idle": "2022-04-22T18:05:09.653294Z",
     "shell.execute_reply": "2022-04-22T18:05:09.653780Z",
     "shell.execute_reply.started": "2022-04-22T17:57:14.549329Z"
    },
    "papermill": {
     "duration": 0.405779,
     "end_time": "2022-04-22T18:05:09.653999",
     "exception": false,
     "start_time": "2022-04-22T18:05:09.248220",
     "status": "completed"
    },
    "tags": []
   },
   "outputs": [
    {
     "data": {
      "text/plain": [
       "<AxesSubplot:xlabel='HomePlanet', ylabel='count'>"
      ]
     },
     "execution_count": 17,
     "metadata": {},
     "output_type": "execute_result"
    },
    {
     "data": {
      "image/png": "[encoded data removed]",
      "text/plain": [
       "<Figure size 432x288 with 1 Axes>"
      ]
     },
     "metadata": {
      "needs_background": "light"
     },
     "output_type": "display_data"
    }
   ],
   "source": [
    "# Let's see the relationship between HomePlanet and Transported\n",
    "sns.countplot(x='HomePlanet', hue='Transported', palette='rocket', \n",
    "              data=combi_2[combi_2['Transported'] != 'Unknown'])"
   ]
  },
  {
   "cell_type": "markdown",
   "id": "82c06df4",
   "metadata": {
    "papermill": {
     "duration": 0.159692,
     "end_time": "2022-04-22T18:05:09.974369",
     "exception": false,
     "start_time": "2022-04-22T18:05:09.814677",
     "status": "completed"
    },
    "tags": []
   },
   "source": [
    "## Feature: *CryoSleep*"
   ]
  },
  {
   "cell_type": "code",
   "execution_count": 18,
   "id": "b4d7b21b",
   "metadata": {
    "execution": {
     "iopub.execute_input": "2022-04-22T18:05:10.300360Z",
     "iopub.status.busy": "2022-04-22T18:05:10.299682Z",
     "iopub.status.idle": "2022-04-22T18:05:10.311284Z",
     "shell.execute_reply": "2022-04-22T18:05:10.310620Z",
     "shell.execute_reply.started": "2022-04-22T17:57:14.767395Z"
    },
    "papermill": {
     "duration": 0.173793,
     "end_time": "2022-04-22T18:05:10.311425",
     "exception": false,
     "start_time": "2022-04-22T18:05:10.137632",
     "status": "completed"
    },
    "tags": []
   },
   "outputs": [
    {
     "data": {
      "text/plain": [
       "count     12660\n",
       "unique        2\n",
       "top       False\n",
       "freq       8079\n",
       "Name: CryoSleep, dtype: object"
      ]
     },
     "execution_count": 18,
     "metadata": {},
     "output_type": "execute_result"
    }
   ],
   "source": [
    "combi_2['CryoSleep'].describe()"
   ]
  },
  {
   "cell_type": "code",
   "execution_count": 19,
   "id": "bc617aae",
   "metadata": {
    "execution": {
     "iopub.execute_input": "2022-04-22T18:05:10.631199Z",
     "iopub.status.busy": "2022-04-22T18:05:10.630478Z",
     "iopub.status.idle": "2022-04-22T18:05:10.671435Z",
     "shell.execute_reply": "2022-04-22T18:05:10.670907Z",
     "shell.execute_reply.started": "2022-04-22T17:57:14.780640Z"
    },
    "papermill": {
     "duration": 0.20228,
     "end_time": "2022-04-22T18:05:10.671580",
     "exception": false,
     "start_time": "2022-04-22T18:05:10.469300",
     "status": "completed"
    },
    "tags": []
   },
   "outputs": [
    {
     "data": {
      "text/plain": [
       "CryoSleep\n",
       "False      8079\n",
       "True       4581\n",
       "Unknown     310\n",
       "Name: CryoSleep, dtype: int64"
      ]
     },
     "execution_count": 19,
     "metadata": {},
     "output_type": "execute_result"
    }
   ],
   "source": [
    "combi_2.fillna('Unknown').groupby(['CryoSleep'])['CryoSleep'].count().head()"
   ]
  },
  {
   "cell_type": "code",
   "execution_count": 20,
   "id": "a9b7b2f8",
   "metadata": {
    "execution": {
     "iopub.execute_input": "2022-04-22T18:05:10.992430Z",
     "iopub.status.busy": "2022-04-22T18:05:10.991762Z",
     "iopub.status.idle": "2022-04-22T18:05:10.999523Z",
     "shell.execute_reply": "2022-04-22T18:05:11.000033Z",
     "shell.execute_reply.started": "2022-04-22T17:57:14.836351Z"
    },
    "papermill": {
     "duration": 0.170127,
     "end_time": "2022-04-22T18:05:11.000217",
     "exception": false,
     "start_time": "2022-04-22T18:05:10.830090",
     "status": "completed"
    },
    "tags": []
   },
   "outputs": [],
   "source": [
    "# Impute missing data with the most frequent value (False)\n",
    "combi_2.loc[combi_2['CryoSleep'].isna(), 'CryoSleep'] = False"
   ]
  },
  {
   "cell_type": "code",
   "execution_count": 21,
   "id": "f8a2a951",
   "metadata": {
    "execution": {
     "iopub.execute_input": "2022-04-22T18:05:11.327656Z",
     "iopub.status.busy": "2022-04-22T18:05:11.326605Z",
     "iopub.status.idle": "2022-04-22T18:05:11.565678Z",
     "shell.execute_reply": "2022-04-22T18:05:11.566181Z",
     "shell.execute_reply.started": "2022-04-22T17:57:14.845466Z"
    },
    "papermill": {
     "duration": 0.403124,
     "end_time": "2022-04-22T18:05:11.566369",
     "exception": false,
     "start_time": "2022-04-22T18:05:11.163245",
     "status": "completed"
    },
    "tags": []
   },
   "outputs": [
    {
     "data": {
      "text/plain": [
       "<AxesSubplot:xlabel='CryoSleep', ylabel='count'>"
      ]
     },
     "execution_count": 21,
     "metadata": {},
     "output_type": "execute_result"
    },
    {
     "data": {
      "image/png": "[encoded data removed]",
      "text/plain": [
       "<Figure size 432x288 with 1 Axes>"
      ]
     },
     "metadata": {
      "needs_background": "light"
     },
     "output_type": "display_data"
    }
   ],
   "source": [
    "# Let's see the relationship between CryoSleep and Transported\n",
    "sns.countplot(x='CryoSleep', hue='Transported', palette='rocket',\n",
    "              data=combi_2[combi_2['Transported'] != 'Unknown'])\n",
    "\n",
    "# In case of CryoSleep=True, it's highly probably to be transported."
   ]
  },
  {
   "cell_type": "code",
   "execution_count": 22,
   "id": "89a534e9",
   "metadata": {
    "execution": {
     "iopub.execute_input": "2022-04-22T18:05:11.904615Z",
     "iopub.status.busy": "2022-04-22T18:05:11.892375Z",
     "iopub.status.idle": "2022-04-22T18:05:11.910317Z",
     "shell.execute_reply": "2022-04-22T18:05:11.909575Z",
     "shell.execute_reply.started": "2022-04-22T17:57:15.065233Z"
    },
    "papermill": {
     "duration": 0.181691,
     "end_time": "2022-04-22T18:05:11.910465",
     "exception": false,
     "start_time": "2022-04-22T18:05:11.728774",
     "status": "completed"
    },
    "tags": []
   },
   "outputs": [],
   "source": [
    "# and convert logic values to float\n",
    "combi_2['CryoSleep'] = combi_2['CryoSleep'].replace({False:0, True:1})"
   ]
  },
  {
   "cell_type": "markdown",
   "id": "2a5d2e5d",
   "metadata": {
    "papermill": {
     "duration": 0.163089,
     "end_time": "2022-04-22T18:05:12.235114",
     "exception": false,
     "start_time": "2022-04-22T18:05:12.072025",
     "status": "completed"
    },
    "tags": []
   },
   "source": [
    "## Feature: *Cabin*"
   ]
  },
  {
   "cell_type": "code",
   "execution_count": 23,
   "id": "b827479e",
   "metadata": {
    "execution": {
     "iopub.execute_input": "2022-04-22T18:05:12.566982Z",
     "iopub.status.busy": "2022-04-22T18:05:12.566251Z",
     "iopub.status.idle": "2022-04-22T18:05:12.576774Z",
     "shell.execute_reply": "2022-04-22T18:05:12.576228Z",
     "shell.execute_reply.started": "2022-04-22T17:57:15.082392Z"
    },
    "papermill": {
     "duration": 0.181504,
     "end_time": "2022-04-22T18:05:12.576954",
     "exception": false,
     "start_time": "2022-04-22T18:05:12.395450",
     "status": "completed"
    },
    "tags": []
   },
   "outputs": [
    {
     "data": {
      "text/plain": [
       "count       12671\n",
       "unique       9825\n",
       "top       G/734/S\n",
       "freq            8\n",
       "Name: Cabin, dtype: object"
      ]
     },
     "execution_count": 23,
     "metadata": {},
     "output_type": "execute_result"
    }
   ],
   "source": [
    "combi_2['Cabin'].describe()"
   ]
  },
  {
   "cell_type": "code",
   "execution_count": 24,
   "id": "ace54625",
   "metadata": {
    "execution": {
     "iopub.execute_input": "2022-04-22T18:05:12.920878Z",
     "iopub.status.busy": "2022-04-22T18:05:12.919792Z",
     "iopub.status.idle": "2022-04-22T18:05:12.931144Z",
     "shell.execute_reply": "2022-04-22T18:05:12.930524Z",
     "shell.execute_reply.started": "2022-04-22T17:57:15.095958Z"
    },
    "papermill": {
     "duration": 0.193348,
     "end_time": "2022-04-22T18:05:12.931288",
     "exception": false,
     "start_time": "2022-04-22T18:05:12.737940",
     "status": "completed"
    },
    "tags": []
   },
   "outputs": [
    {
     "data": {
      "text/plain": [
       "Cabin\n",
       "G/734/S     8\n",
       "G/160/P     8\n",
       "G/1368/P    7\n",
       "E/228/S     7\n",
       "G/1476/S    7\n",
       "D/176/S     7\n",
       "F/1411/P    7\n",
       "G/748/S     7\n",
       "D/273/S     7\n",
       "C/21/P      7\n",
       "Name: Cabin, dtype: int64"
      ]
     },
     "execution_count": 24,
     "metadata": {},
     "output_type": "execute_result"
    }
   ],
   "source": [
    "combi_2.groupby(['Cabin'])['Cabin'].count().sort_values(ascending = False).head(10)"
   ]
  },
  {
   "cell_type": "code",
   "execution_count": 25,
   "id": "42addd91",
   "metadata": {
    "execution": {
     "iopub.execute_input": "2022-04-22T18:05:13.271085Z",
     "iopub.status.busy": "2022-04-22T18:05:13.270002Z",
     "iopub.status.idle": "2022-04-22T18:05:13.271985Z",
     "shell.execute_reply": "2022-04-22T18:05:13.272588Z",
     "shell.execute_reply.started": "2022-04-22T17:57:15.120952Z"
    },
    "papermill": {
     "duration": 0.177245,
     "end_time": "2022-04-22T18:05:13.272761",
     "exception": false,
     "start_time": "2022-04-22T18:05:13.095516",
     "status": "completed"
    },
    "tags": []
   },
   "outputs": [],
   "source": [
    "# Impute the missing data with a ficticious value ('X/0/X')\n",
    "combi_2['Cabin'].fillna('X/0/X', inplace=True)"
   ]
  },
  {
   "cell_type": "code",
   "execution_count": 26,
   "id": "182e0790",
   "metadata": {
    "execution": {
     "iopub.execute_input": "2022-04-22T18:05:13.604144Z",
     "iopub.status.busy": "2022-04-22T18:05:13.603205Z",
     "iopub.status.idle": "2022-04-22T18:05:13.650099Z",
     "shell.execute_reply": "2022-04-22T18:05:13.649370Z",
     "shell.execute_reply.started": "2022-04-22T17:57:15.135440Z"
    },
    "papermill": {
     "duration": 0.213015,
     "end_time": "2022-04-22T18:05:13.650250",
     "exception": false,
     "start_time": "2022-04-22T18:05:13.437235",
     "status": "completed"
    },
    "tags": []
   },
   "outputs": [],
   "source": [
    "# Extract the Deck and the Side from the Cabin code.\n",
    "combi_2['Deck'] = combi_2['Cabin'].apply(lambda x: x.split('/')[0])\n",
    "combi_2['CabinNum'] = combi_2['Cabin'].apply(lambda x: x.split('/')[1]).astype(int)\n",
    "combi_2['Side'] = combi_2['Cabin'].apply(lambda x: x.split('/')[2])\n",
    "\n",
    "\n",
    "# Get the number of passengers in the cabin\n",
    "combi_2['CabinPassengers'] = combi_2.groupby(['Cabin'])['PassengerId'].transform('count').astype(int)"
   ]
  },
  {
   "cell_type": "markdown",
   "id": "b6ebdd8e",
   "metadata": {
    "papermill": {
     "duration": 0.163519,
     "end_time": "2022-04-22T18:05:13.975239",
     "exception": false,
     "start_time": "2022-04-22T18:05:13.811720",
     "status": "completed"
    },
    "tags": []
   },
   "source": [
    "## Feature (new): *CabinNum* "
   ]
  },
  {
   "cell_type": "code",
   "execution_count": 27,
   "id": "73034223",
   "metadata": {
    "execution": {
     "iopub.execute_input": "2022-04-22T18:05:14.314661Z",
     "iopub.status.busy": "2022-04-22T18:05:14.304983Z",
     "iopub.status.idle": "2022-04-22T18:05:15.140303Z",
     "shell.execute_reply": "2022-04-22T18:05:15.139679Z",
     "shell.execute_reply.started": "2022-04-22T17:57:15.194078Z"
    },
    "papermill": {
     "duration": 1.003322,
     "end_time": "2022-04-22T18:05:15.140467",
     "exception": false,
     "start_time": "2022-04-22T18:05:14.137145",
     "status": "completed"
    },
    "tags": []
   },
   "outputs": [
    {
     "data": {
      "text/plain": [
       "(0.0, 2000.0)"
      ]
     },
     "execution_count": 27,
     "metadata": {},
     "output_type": "execute_result"
    },
    {
     "data": {
      "image/png": "[encoded data removed]",
      "text/plain": [
       "<Figure size 1080x288 with 1 Axes>"
      ]
     },
     "metadata": {
      "needs_background": "light"
     },
     "output_type": "display_data"
    }
   ],
   "source": [
    "# As @samuelcortinhas pointed, it appears that CabinNum is grouped into segments of 300 cabins. \n",
    "# Perhaps, it is due to the location in the ship, but it's a guess.\n",
    "plt.figure(figsize=(15,4))\n",
    "sns.histplot(x='CabinNum', hue='Transported', binwidth=20, palette='rocket',\n",
    "             data=combi_2[combi_2['Transported'] != 'Unknown'])\n",
    "plt.vlines(300, ymin=0, ymax=200, color='black')\n",
    "plt.vlines(600, ymin=0, ymax=200, color='black')\n",
    "plt.vlines(900, ymin=0, ymax=200, color='black')\n",
    "plt.vlines(1200, ymin=0, ymax=200, color='black')\n",
    "plt.vlines(1500, ymin=0, ymax=200, color='black')\n",
    "plt.vlines(1800, ymin=0, ymax=200, color='black')\n",
    "plt.xlim([0,2000])"
   ]
  },
  {
   "cell_type": "code",
   "execution_count": 28,
   "id": "07dcb210",
   "metadata": {
    "execution": {
     "iopub.execute_input": "2022-04-22T18:05:15.484020Z",
     "iopub.status.busy": "2022-04-22T18:05:15.482986Z",
     "iopub.status.idle": "2022-04-22T18:05:15.494628Z",
     "shell.execute_reply": "2022-04-22T18:05:15.495129Z",
     "shell.execute_reply.started": "2022-04-22T17:57:15.970991Z"
    },
    "papermill": {
     "duration": 0.185449,
     "end_time": "2022-04-22T18:05:15.495350",
     "exception": false,
     "start_time": "2022-04-22T18:05:15.309901",
     "status": "completed"
    },
    "tags": []
   },
   "outputs": [],
   "source": [
    "# Group the cabins into the chunks (one-hot encoding)\n",
    "\n",
    "combi_2['CabinChunk_1'] = (combi_2['CabinNum'] < 300).astype(int)   # one-hot encoding\n",
    "combi_2['CabinChunk_2'] = ((combi_2['CabinNum'] >= 300) & (combi_2['CabinNum'] < 600)).astype(int)\n",
    "combi_2['CabinChunk_3'] = ((combi_2['CabinNum'] >= 600) & (combi_2['CabinNum'] < 900)).astype(int)\n",
    "combi_2['CabinChunk_4'] = ((combi_2['CabinNum'] >= 900) & (combi_2['CabinNum'] < 1200)).astype(int)\n",
    "combi_2['CabinChunk_5'] = ((combi_2['CabinNum'] >= 1200) & (combi_2['CabinNum'] < 1500)).astype(int)\n",
    "combi_2['CabinChunk_6'] = ((combi_2['CabinNum'] >= 1500) & (combi_2['CabinNum'] < 1800)).astype(int)\n",
    "combi_2['CabinChunk_7'] = (combi_2['CabinNum'] >= 1800).astype(int)"
   ]
  },
  {
   "cell_type": "markdown",
   "id": "a0b7d7eb",
   "metadata": {
    "papermill": {
     "duration": 0.224694,
     "end_time": "2022-04-22T18:05:15.886437",
     "exception": false,
     "start_time": "2022-04-22T18:05:15.661743",
     "status": "completed"
    },
    "tags": []
   },
   "source": [
    "## Feature (new): *Deck*"
   ]
  },
  {
   "cell_type": "code",
   "execution_count": 29,
   "id": "a27d4c9a",
   "metadata": {
    "execution": {
     "iopub.execute_input": "2022-04-22T18:05:16.220132Z",
     "iopub.status.busy": "2022-04-22T18:05:16.219475Z",
     "iopub.status.idle": "2022-04-22T18:05:16.239963Z",
     "shell.execute_reply": "2022-04-22T18:05:16.240533Z",
     "shell.execute_reply.started": "2022-04-22T17:57:15.984791Z"
    },
    "papermill": {
     "duration": 0.187535,
     "end_time": "2022-04-22T18:05:16.240710",
     "exception": false,
     "start_time": "2022-04-22T18:05:16.053175",
     "status": "completed"
    },
    "tags": []
   },
   "outputs": [
    {
     "data": {
      "text/plain": [
       "array(['A', 'B', 'C', 'D', 'E', 'F', 'G', 'T', 'X'], dtype=object)"
      ]
     },
     "execution_count": 29,
     "metadata": {},
     "output_type": "execute_result"
    }
   ],
   "source": [
    "combi_2['Deck'].sort_values().unique()"
   ]
  },
  {
   "cell_type": "code",
   "execution_count": 30,
   "id": "43cb3443",
   "metadata": {
    "execution": {
     "iopub.execute_input": "2022-04-22T18:05:16.568830Z",
     "iopub.status.busy": "2022-04-22T18:05:16.568130Z",
     "iopub.status.idle": "2022-04-22T18:05:16.579306Z",
     "shell.execute_reply": "2022-04-22T18:05:16.579904Z",
     "shell.execute_reply.started": "2022-04-22T17:57:16.009650Z"
    },
    "papermill": {
     "duration": 0.177014,
     "end_time": "2022-04-22T18:05:16.580173",
     "exception": false,
     "start_time": "2022-04-22T18:05:16.403159",
     "status": "completed"
    },
    "tags": []
   },
   "outputs": [
    {
     "data": {
      "text/plain": [
       "Deck\n",
       "A     354\n",
       "B    1141\n",
       "C    1102\n",
       "D     720\n",
       "E    1323\n",
       "F    4239\n",
       "G    3781\n",
       "T      11\n",
       "X     299\n",
       "Name: Deck, dtype: int64"
      ]
     },
     "execution_count": 30,
     "metadata": {},
     "output_type": "execute_result"
    }
   ],
   "source": [
    "combi_2.groupby(['Deck'])['Deck'].count().head(20)"
   ]
  },
  {
   "cell_type": "code",
   "execution_count": 31,
   "id": "c1da5a4b",
   "metadata": {
    "execution": {
     "iopub.execute_input": "2022-04-22T18:05:16.911439Z",
     "iopub.status.busy": "2022-04-22T18:05:16.910745Z",
     "iopub.status.idle": "2022-04-22T18:05:17.225549Z",
     "shell.execute_reply": "2022-04-22T18:05:17.226238Z",
     "shell.execute_reply.started": "2022-04-22T17:57:16.024722Z"
    },
    "papermill": {
     "duration": 0.481704,
     "end_time": "2022-04-22T18:05:17.226463",
     "exception": false,
     "start_time": "2022-04-22T18:05:16.744759",
     "status": "completed"
    },
    "tags": []
   },
   "outputs": [
    {
     "data": {
      "text/plain": [
       "<AxesSubplot:xlabel='Deck', ylabel='count'>"
      ]
     },
     "execution_count": 31,
     "metadata": {},
     "output_type": "execute_result"
    },
    {
     "data": {
      "image/png": "[encoded data removed]",
      "text/plain": [
       "<Figure size 720x288 with 1 Axes>"
      ]
     },
     "metadata": {
      "needs_background": "light"
     },
     "output_type": "display_data"
    }
   ],
   "source": [
    "# Let's see the relationship between Deck and Transported\n",
    "plt.figure(figsize=(10,4))\n",
    "sns.countplot(x='Deck', hue='Transported', palette='rocket', order=['A','B','C','D','E','F','G','T'],\n",
    "              data=combi_2[combi_2['Transported'] != 'Unknown'])"
   ]
  },
  {
   "cell_type": "code",
   "execution_count": 32,
   "id": "d36e9d80",
   "metadata": {
    "execution": {
     "iopub.execute_input": "2022-04-22T18:05:17.563247Z",
     "iopub.status.busy": "2022-04-22T18:05:17.562572Z",
     "iopub.status.idle": "2022-04-22T18:05:17.565071Z",
     "shell.execute_reply": "2022-04-22T18:05:17.564417Z",
     "shell.execute_reply.started": "2022-04-22T17:57:16.307406Z"
    },
    "papermill": {
     "duration": 0.173247,
     "end_time": "2022-04-22T18:05:17.565224",
     "exception": false,
     "start_time": "2022-04-22T18:05:17.391977",
     "status": "completed"
    },
    "tags": []
   },
   "outputs": [],
   "source": [
    "# I'll impute the missing values later."
   ]
  },
  {
   "cell_type": "markdown",
   "id": "f6f9c7c1",
   "metadata": {
    "papermill": {
     "duration": 0.16737,
     "end_time": "2022-04-22T18:05:17.898077",
     "exception": false,
     "start_time": "2022-04-22T18:05:17.730707",
     "status": "completed"
    },
    "tags": []
   },
   "source": [
    "## Feature (new): *Side*"
   ]
  },
  {
   "cell_type": "code",
   "execution_count": 33,
   "id": "5ad4a05c",
   "metadata": {
    "execution": {
     "iopub.execute_input": "2022-04-22T18:05:18.241589Z",
     "iopub.status.busy": "2022-04-22T18:05:18.240869Z",
     "iopub.status.idle": "2022-04-22T18:05:18.248704Z",
     "shell.execute_reply": "2022-04-22T18:05:18.248159Z",
     "shell.execute_reply.started": "2022-04-22T17:57:16.314021Z"
    },
    "papermill": {
     "duration": 0.181023,
     "end_time": "2022-04-22T18:05:18.248868",
     "exception": false,
     "start_time": "2022-04-22T18:05:18.067845",
     "status": "completed"
    },
    "tags": []
   },
   "outputs": [
    {
     "data": {
      "text/plain": [
       "Side\n",
       "P    6290\n",
       "S    6381\n",
       "X     299\n",
       "Name: Side, dtype: int64"
      ]
     },
     "execution_count": 33,
     "metadata": {},
     "output_type": "execute_result"
    }
   ],
   "source": [
    "combi_2.groupby(['Side'])['Side'].count().head()"
   ]
  },
  {
   "cell_type": "code",
   "execution_count": 34,
   "id": "6438074f",
   "metadata": {
    "execution": {
     "iopub.execute_input": "2022-04-22T18:05:18.586862Z",
     "iopub.status.busy": "2022-04-22T18:05:18.586165Z",
     "iopub.status.idle": "2022-04-22T18:05:18.828187Z",
     "shell.execute_reply": "2022-04-22T18:05:18.827508Z",
     "shell.execute_reply.started": "2022-04-22T17:57:16.332405Z"
    },
    "papermill": {
     "duration": 0.412563,
     "end_time": "2022-04-22T18:05:18.828351",
     "exception": false,
     "start_time": "2022-04-22T18:05:18.415788",
     "status": "completed"
    },
    "tags": []
   },
   "outputs": [
    {
     "data": {
      "text/plain": [
       "<AxesSubplot:xlabel='Side', ylabel='count'>"
      ]
     },
     "execution_count": 34,
     "metadata": {},
     "output_type": "execute_result"
    },
    {
     "data": {
      "image/png": "[encoded data removed]",
      "text/plain": [
       "<Figure size 432x288 with 1 Axes>"
      ]
     },
     "metadata": {
      "needs_background": "light"
     },
     "output_type": "display_data"
    }
   ],
   "source": [
    "# Let's see the relationship between Side and Transported\n",
    "sns.countplot(x='Side', hue='Transported', palette='rocket',\n",
    "              data=combi_2[combi_2['Transported'] != 'Unknown'])"
   ]
  },
  {
   "cell_type": "code",
   "execution_count": 35,
   "id": "fd56afa1",
   "metadata": {
    "execution": {
     "iopub.execute_input": "2022-04-22T18:05:19.174965Z",
     "iopub.status.busy": "2022-04-22T18:05:19.174295Z",
     "iopub.status.idle": "2022-04-22T18:05:19.210783Z",
     "shell.execute_reply": "2022-04-22T18:05:19.210256Z",
     "shell.execute_reply.started": "2022-04-22T17:57:16.740145Z"
    },
    "papermill": {
     "duration": 0.212468,
     "end_time": "2022-04-22T18:05:19.210960",
     "exception": false,
     "start_time": "2022-04-22T18:05:18.998492",
     "status": "completed"
    },
    "tags": []
   },
   "outputs": [
    {
     "data": {
      "text/plain": [
       "Index(['PassengerId', 'HomePlanet', 'CryoSleep', 'Cabin', 'Destination', 'Age',\n",
       "       'VIP', 'RoomService', 'FoodCourt', 'ShoppingMall', 'Spa', 'VRDeck',\n",
       "       'Name', 'Transported', 'GroupID', 'GroupNum', 'GroupMembers', 'Deck',\n",
       "       'CabinNum', 'CabinPassengers', 'CabinChunk_1', 'CabinChunk_2',\n",
       "       'CabinChunk_3', 'CabinChunk_4', 'CabinChunk_5', 'CabinChunk_6',\n",
       "       'CabinChunk_7', 'Side', 'Side_P', 'Side_S', 'Side_X'],\n",
       "      dtype='object')"
      ]
     },
     "execution_count": 35,
     "metadata": {},
     "output_type": "execute_result"
    }
   ],
   "source": [
    "# Generate the dummy variables\n",
    "combi_2['Side_copy'] = combi_2['Side'].copy()\n",
    "combi_2 = pd.get_dummies(combi_2, columns=['Side'], drop_first=False)\n",
    "combi_2 = combi_2.rename({'Side_copy': 'Side'}, axis=1)\n",
    "combi_2.columns"
   ]
  },
  {
   "cell_type": "markdown",
   "id": "df92f6ca",
   "metadata": {
    "papermill": {
     "duration": 0.166382,
     "end_time": "2022-04-22T18:05:19.547035",
     "exception": false,
     "start_time": "2022-04-22T18:05:19.380653",
     "status": "completed"
    },
    "tags": []
   },
   "source": [
    "## Feature (new): *CabinPassengers*"
   ]
  },
  {
   "cell_type": "code",
   "execution_count": 36,
   "id": "3227d1b8",
   "metadata": {
    "execution": {
     "iopub.execute_input": "2022-04-22T18:05:19.965271Z",
     "iopub.status.busy": "2022-04-22T18:05:19.964195Z",
     "iopub.status.idle": "2022-04-22T18:05:19.973820Z",
     "shell.execute_reply": "2022-04-22T18:05:19.974651Z",
     "shell.execute_reply.started": "2022-04-22T17:57:16.770820Z"
    },
    "papermill": {
     "duration": 0.213342,
     "end_time": "2022-04-22T18:05:19.975042",
     "exception": false,
     "start_time": "2022-04-22T18:05:19.761700",
     "status": "completed"
    },
    "tags": []
   },
   "outputs": [
    {
     "data": {
      "text/plain": [
       "CabinPassengers\n",
       "1      8141\n",
       "2      2066\n",
       "3      1095\n",
       "4       596\n",
       "5       350\n",
       "6       288\n",
       "7       119\n",
       "8        16\n",
       "299     299\n",
       "Name: CabinPassengers, dtype: int64"
      ]
     },
     "execution_count": 36,
     "metadata": {},
     "output_type": "execute_result"
    }
   ],
   "source": [
    "combi_2.groupby(['CabinPassengers'])['CabinPassengers'].count().head(10)"
   ]
  },
  {
   "cell_type": "code",
   "execution_count": 37,
   "id": "9b0ef515",
   "metadata": {
    "execution": {
     "iopub.execute_input": "2022-04-22T18:05:20.377590Z",
     "iopub.status.busy": "2022-04-22T18:05:20.376434Z",
     "iopub.status.idle": "2022-04-22T18:05:20.385989Z",
     "shell.execute_reply": "2022-04-22T18:05:20.386750Z",
     "shell.execute_reply.started": "2022-04-22T17:57:16.779378Z"
    },
    "papermill": {
     "duration": 0.19538,
     "end_time": "2022-04-22T18:05:20.386981",
     "exception": false,
     "start_time": "2022-04-22T18:05:20.191601",
     "status": "completed"
    },
    "tags": []
   },
   "outputs": [],
   "source": [
    "# In case the cabin 'X/0/X', the value should be 0\n",
    "combi_2.loc[combi_2['Cabin'] == 'X/0/X', 'CabinPassengers'] = 0"
   ]
  },
  {
   "cell_type": "code",
   "execution_count": 38,
   "id": "58411801",
   "metadata": {
    "execution": {
     "iopub.execute_input": "2022-04-22T18:05:20.738641Z",
     "iopub.status.busy": "2022-04-22T18:05:20.737705Z",
     "iopub.status.idle": "2022-04-22T18:05:21.183245Z",
     "shell.execute_reply": "2022-04-22T18:05:21.181845Z",
     "shell.execute_reply.started": "2022-04-22T17:57:16.793756Z"
    },
    "papermill": {
     "duration": 0.619948,
     "end_time": "2022-04-22T18:05:21.183408",
     "exception": false,
     "start_time": "2022-04-22T18:05:20.563460",
     "status": "completed"
    },
    "tags": []
   },
   "outputs": [
    {
     "data": {
      "text/plain": [
       "<AxesSubplot:xlabel='CabinPassengers', ylabel='count'>"
      ]
     },
     "execution_count": 38,
     "metadata": {},
     "output_type": "execute_result"
    },
    {
     "data": {
      "image/png": "[encoded data removed]",
      "text/plain": [
       "<Figure size 720x288 with 1 Axes>"
      ]
     },
     "metadata": {
      "needs_background": "light"
     },
     "output_type": "display_data"
    }
   ],
   "source": [
    "# Let's see the relationship between CabinPassengers and Transported\n",
    "plt.figure(figsize=(10,4))\n",
    "\n",
    "sns.countplot(x='CabinPassengers', hue='Transported', palette='rocket',\n",
    "              data=combi_2[combi_2['Transported'] != 'Unknown'])"
   ]
  },
  {
   "cell_type": "markdown",
   "id": "1634b05c",
   "metadata": {
    "papermill": {
     "duration": 0.168709,
     "end_time": "2022-04-22T18:05:21.526507",
     "exception": false,
     "start_time": "2022-04-22T18:05:21.357798",
     "status": "completed"
    },
    "tags": []
   },
   "source": [
    "## Feature: *Destination*"
   ]
  },
  {
   "cell_type": "code",
   "execution_count": 39,
   "id": "dc9accc6",
   "metadata": {
    "execution": {
     "iopub.execute_input": "2022-04-22T18:05:21.875675Z",
     "iopub.status.busy": "2022-04-22T18:05:21.874739Z",
     "iopub.status.idle": "2022-04-22T18:05:21.879159Z",
     "shell.execute_reply": "2022-04-22T18:05:21.878505Z",
     "shell.execute_reply.started": "2022-04-22T17:57:17.077583Z"
    },
    "papermill": {
     "duration": 0.18412,
     "end_time": "2022-04-22T18:05:21.879300",
     "exception": false,
     "start_time": "2022-04-22T18:05:21.695180",
     "status": "completed"
    },
    "tags": []
   },
   "outputs": [
    {
     "data": {
      "text/plain": [
       "count           12696\n",
       "unique              3\n",
       "top       TRAPPIST-1e\n",
       "freq             8871\n",
       "Name: Destination, dtype: object"
      ]
     },
     "execution_count": 39,
     "metadata": {},
     "output_type": "execute_result"
    }
   ],
   "source": [
    "combi_2['Destination'].describe()"
   ]
  },
  {
   "cell_type": "code",
   "execution_count": 40,
   "id": "3c3ca401",
   "metadata": {
    "execution": {
     "iopub.execute_input": "2022-04-22T18:05:22.250209Z",
     "iopub.status.busy": "2022-04-22T18:05:22.247668Z",
     "iopub.status.idle": "2022-04-22T18:05:22.254584Z",
     "shell.execute_reply": "2022-04-22T18:05:22.255089Z",
     "shell.execute_reply.started": "2022-04-22T17:57:17.091633Z"
    },
    "papermill": {
     "duration": 0.196766,
     "end_time": "2022-04-22T18:05:22.255312",
     "exception": false,
     "start_time": "2022-04-22T18:05:22.058546",
     "status": "completed"
    },
    "tags": []
   },
   "outputs": [
    {
     "data": {
      "text/plain": [
       "Destination\n",
       "TRAPPIST-1e      8871\n",
       "55 Cancri e      2641\n",
       "PSO J318.5-22    1184\n",
       "Name: Destination, dtype: int64"
      ]
     },
     "execution_count": 40,
     "metadata": {},
     "output_type": "execute_result"
    }
   ],
   "source": [
    "combi_2.groupby(['Destination'])['Destination'].count().sort_values(ascending = False).head()"
   ]
  },
  {
   "cell_type": "code",
   "execution_count": 41,
   "id": "ebe3ae35",
   "metadata": {
    "execution": {
     "iopub.execute_input": "2022-04-22T18:05:22.621295Z",
     "iopub.status.busy": "2022-04-22T18:05:22.620570Z",
     "iopub.status.idle": "2022-04-22T18:05:22.623254Z",
     "shell.execute_reply": "2022-04-22T18:05:22.622555Z",
     "shell.execute_reply.started": "2022-04-22T17:57:17.111263Z"
    },
    "papermill": {
     "duration": 0.188515,
     "end_time": "2022-04-22T18:05:22.623394",
     "exception": false,
     "start_time": "2022-04-22T18:05:22.434879",
     "status": "completed"
    },
    "tags": []
   },
   "outputs": [],
   "source": [
    "# Most of the passengers are going to TRAPPIST-1e. I'll impute this value to the missing data.\n",
    "combi_2['Destination'].fillna('TRAPPIST-1e', inplace=True)"
   ]
  },
  {
   "cell_type": "code",
   "execution_count": 42,
   "id": "aaf02dc5",
   "metadata": {
    "execution": {
     "iopub.execute_input": "2022-04-22T18:05:22.991557Z",
     "iopub.status.busy": "2022-04-22T18:05:22.987535Z",
     "iopub.status.idle": "2022-04-22T18:05:23.247254Z",
     "shell.execute_reply": "2022-04-22T18:05:23.246500Z",
     "shell.execute_reply.started": "2022-04-22T17:57:17.126460Z"
    },
    "papermill": {
     "duration": 0.454091,
     "end_time": "2022-04-22T18:05:23.247486",
     "exception": false,
     "start_time": "2022-04-22T18:05:22.793395",
     "status": "completed"
    },
    "tags": []
   },
   "outputs": [
    {
     "data": {
      "text/plain": [
       "<AxesSubplot:xlabel='Destination', ylabel='count'>"
      ]
     },
     "execution_count": 42,
     "metadata": {},
     "output_type": "execute_result"
    },
    {
     "data": {
      "image/png": "[encoded data removed]",
      "text/plain": [
       "<Figure size 432x288 with 1 Axes>"
      ]
     },
     "metadata": {
      "needs_background": "light"
     },
     "output_type": "display_data"
    }
   ],
   "source": [
    "# Let's see the relationship between Destination and Transported\n",
    "sns.countplot(x='Destination', hue='Transported', palette='rocket',\n",
    "              data=combi_2[combi_2['Transported'] != 'Unknown'])"
   ]
  },
  {
   "cell_type": "code",
   "execution_count": 43,
   "id": "1b42521e",
   "metadata": {
    "execution": {
     "iopub.execute_input": "2022-04-22T18:05:23.632683Z",
     "iopub.status.busy": "2022-04-22T18:05:23.631930Z",
     "iopub.status.idle": "2022-04-22T18:05:23.660556Z",
     "shell.execute_reply": "2022-04-22T18:05:23.661101Z",
     "shell.execute_reply.started": "2022-04-22T17:57:17.351901Z"
    },
    "papermill": {
     "duration": 0.223079,
     "end_time": "2022-04-22T18:05:23.661303",
     "exception": false,
     "start_time": "2022-04-22T18:05:23.438224",
     "status": "completed"
    },
    "tags": []
   },
   "outputs": [
    {
     "data": {
      "text/plain": [
       "Index(['PassengerId', 'HomePlanet', 'CryoSleep', 'Cabin', 'Age', 'VIP',\n",
       "       'RoomService', 'FoodCourt', 'ShoppingMall', 'Spa', 'VRDeck', 'Name',\n",
       "       'Transported', 'GroupID', 'GroupNum', 'GroupMembers', 'Deck',\n",
       "       'CabinNum', 'CabinPassengers', 'CabinChunk_1', 'CabinChunk_2',\n",
       "       'CabinChunk_3', 'CabinChunk_4', 'CabinChunk_5', 'CabinChunk_6',\n",
       "       'CabinChunk_7', 'Side', 'Side_P', 'Side_S', 'Side_X', 'Destination',\n",
       "       'Destination_55 Cancri e', 'Destination_PSO J318.5-22',\n",
       "       'Destination_TRAPPIST-1e'],\n",
       "      dtype='object')"
      ]
     },
     "execution_count": 43,
     "metadata": {},
     "output_type": "execute_result"
    }
   ],
   "source": [
    "# and generate the dummy variables, keeping the original feature\n",
    "combi_2['Destination_copy'] = combi_2['Destination'].copy()\n",
    "combi_2 = pd.get_dummies(combi_2, columns=['Destination'], drop_first=False)\n",
    "combi_2 = combi_2.rename({'Destination_copy': 'Destination'}, axis=1)\n",
    "combi_2.columns"
   ]
  },
  {
   "cell_type": "markdown",
   "id": "7d59708e",
   "metadata": {
    "papermill": {
     "duration": 0.182562,
     "end_time": "2022-04-22T18:05:24.022991",
     "exception": false,
     "start_time": "2022-04-22T18:05:23.840429",
     "status": "completed"
    },
    "tags": []
   },
   "source": [
    "## Feature: *Age*"
   ]
  },
  {
   "cell_type": "code",
   "execution_count": 44,
   "id": "ccf17b5b",
   "metadata": {
    "execution": {
     "iopub.execute_input": "2022-04-22T18:05:24.374975Z",
     "iopub.status.busy": "2022-04-22T18:05:24.373969Z",
     "iopub.status.idle": "2022-04-22T18:05:24.386058Z",
     "shell.execute_reply": "2022-04-22T18:05:24.386898Z",
     "shell.execute_reply.started": "2022-04-22T17:57:17.381767Z"
    },
    "papermill": {
     "duration": 0.192445,
     "end_time": "2022-04-22T18:05:24.387097",
     "exception": false,
     "start_time": "2022-04-22T18:05:24.194652",
     "status": "completed"
    },
    "tags": []
   },
   "outputs": [
    {
     "data": {
      "text/plain": [
       "count    12700.000000\n",
       "mean        28.771969\n",
       "std         14.387261\n",
       "min          0.000000\n",
       "25%         19.000000\n",
       "50%         27.000000\n",
       "75%         38.000000\n",
       "max         79.000000\n",
       "Name: Age, dtype: float64"
      ]
     },
     "execution_count": 44,
     "metadata": {},
     "output_type": "execute_result"
    }
   ],
   "source": [
    "combi_2['Age'].describe()"
   ]
  },
  {
   "cell_type": "code",
   "execution_count": 45,
   "id": "c4b9a907",
   "metadata": {
    "execution": {
     "iopub.execute_input": "2022-04-22T18:05:24.735871Z",
     "iopub.status.busy": "2022-04-22T18:05:24.734901Z",
     "iopub.status.idle": "2022-04-22T18:05:24.744985Z",
     "shell.execute_reply": "2022-04-22T18:05:24.745543Z",
     "shell.execute_reply.started": "2022-04-22T17:57:17.397239Z"
    },
    "papermill": {
     "duration": 0.185162,
     "end_time": "2022-04-22T18:05:24.745716",
     "exception": false,
     "start_time": "2022-04-22T18:05:24.560554",
     "status": "completed"
    },
    "tags": []
   },
   "outputs": [
    {
     "data": {
      "text/plain": [
       "Age\n",
       "18.0    496\n",
       "24.0    482\n",
       "21.0    468\n",
       "19.0    455\n",
       "22.0    454\n",
       "20.0    437\n",
       "23.0    436\n",
       "26.0    400\n",
       "25.0    399\n",
       "28.0    388\n",
       "Name: Age, dtype: int64"
      ]
     },
     "execution_count": 45,
     "metadata": {},
     "output_type": "execute_result"
    }
   ],
   "source": [
    "combi_2.groupby(['Age'])['Age'].count().sort_values(ascending = False).head(10)"
   ]
  },
  {
   "cell_type": "code",
   "execution_count": 46,
   "id": "94d8cc8b",
   "metadata": {
    "execution": {
     "iopub.execute_input": "2022-04-22T18:05:25.092001Z",
     "iopub.status.busy": "2022-04-22T18:05:25.091017Z",
     "iopub.status.idle": "2022-04-22T18:05:25.095383Z",
     "shell.execute_reply": "2022-04-22T18:05:25.095983Z",
     "shell.execute_reply.started": "2022-04-22T17:57:17.409165Z"
    },
    "papermill": {
     "duration": 0.178801,
     "end_time": "2022-04-22T18:05:25.096165",
     "exception": false,
     "start_time": "2022-04-22T18:05:24.917364",
     "status": "completed"
    },
    "tags": []
   },
   "outputs": [],
   "source": [
    "# Impute missing data with a fictocious value (0). There are others fields with that value.\n",
    "combi_2['Age'].fillna(0, inplace=True)"
   ]
  },
  {
   "cell_type": "code",
   "execution_count": 47,
   "id": "0ea3a58d",
   "metadata": {
    "execution": {
     "iopub.execute_input": "2022-04-22T18:05:25.461939Z",
     "iopub.status.busy": "2022-04-22T18:05:25.460912Z",
     "iopub.status.idle": "2022-04-22T18:05:25.761174Z",
     "shell.execute_reply": "2022-04-22T18:05:25.760572Z",
     "shell.execute_reply.started": "2022-04-22T17:57:17.419822Z"
    },
    "papermill": {
     "duration": 0.486898,
     "end_time": "2022-04-22T18:05:25.761319",
     "exception": false,
     "start_time": "2022-04-22T18:05:25.274421",
     "status": "completed"
    },
    "tags": []
   },
   "outputs": [
    {
     "data": {
      "text/plain": [
       "<AxesSubplot:xlabel='Age', ylabel='Density'>"
      ]
     },
     "execution_count": 47,
     "metadata": {},
     "output_type": "execute_result"
    },
    {
     "data": {
      "image/png": "[encoded data removed]",
      "text/plain": [
       "<Figure size 720x288 with 1 Axes>"
      ]
     },
     "metadata": {
      "needs_background": "light"
     },
     "output_type": "display_data"
    }
   ],
   "source": [
    "# Let's see the relationship between Age and Transported\n",
    "n_bins = int(combi_2['Age'].max()+1)\n",
    "plt.figure(figsize=(10,4))\n",
    "sns.histplot(x='Age', hue='Transported', stat='density', bins=n_bins, element='step', palette='rocket', \n",
    "             data=combi_2[combi_2['Transported'] != 'Unknown'])\n",
    "\n",
    "# Kids are more likely to be transported"
   ]
  },
  {
   "cell_type": "code",
   "execution_count": 48,
   "id": "cc38302c",
   "metadata": {
    "execution": {
     "iopub.execute_input": "2022-04-22T18:05:26.120274Z",
     "iopub.status.busy": "2022-04-22T18:05:26.119619Z",
     "iopub.status.idle": "2022-04-22T18:05:26.873049Z",
     "shell.execute_reply": "2022-04-22T18:05:26.873550Z",
     "shell.execute_reply.started": "2022-04-22T17:57:17.701956Z"
    },
    "papermill": {
     "duration": 0.938727,
     "end_time": "2022-04-22T18:05:26.873745",
     "exception": false,
     "start_time": "2022-04-22T18:05:25.935018",
     "status": "completed"
    },
    "tags": []
   },
   "outputs": [
    {
     "data": {
      "text/plain": [
       "<AxesSubplot:xlabel='Age', ylabel='Count'>"
      ]
     },
     "execution_count": 48,
     "metadata": {},
     "output_type": "execute_result"
    },
    {
     "data": {
      "image/png": "[encoded data removed]",
      "text/plain": [
       "<Figure size 864x288 with 1 Axes>"
      ]
     },
     "metadata": {
      "needs_background": "light"
     },
     "output_type": "display_data"
    }
   ],
   "source": [
    "# Let's see the relationship between Deck and Transported\n",
    "plt.figure(figsize=(12,4))\n",
    "sns.histplot(data=train_df, x='Age', hue='Transported', binwidth=1, kde=True, palette='rocket')\n",
    "\n",
    "# Kids are more likely to be transported"
   ]
  },
  {
   "cell_type": "markdown",
   "id": "6fd2fe00",
   "metadata": {
    "papermill": {
     "duration": 0.175489,
     "end_time": "2022-04-22T18:05:27.226538",
     "exception": false,
     "start_time": "2022-04-22T18:05:27.051049",
     "status": "completed"
    },
    "tags": []
   },
   "source": [
    "## Feature (new): *AgeGroup*"
   ]
  },
  {
   "cell_type": "code",
   "execution_count": 49,
   "id": "2e9fc2cb",
   "metadata": {
    "execution": {
     "iopub.execute_input": "2022-04-22T18:05:27.590603Z",
     "iopub.status.busy": "2022-04-22T18:05:27.589436Z",
     "iopub.status.idle": "2022-04-22T18:05:27.598029Z",
     "shell.execute_reply": "2022-04-22T18:05:27.597315Z",
     "shell.execute_reply.started": "2022-04-22T17:57:18.451768Z"
    },
    "papermill": {
     "duration": 0.194212,
     "end_time": "2022-04-22T18:05:27.598176",
     "exception": false,
     "start_time": "2022-04-22T18:05:27.403964",
     "status": "completed"
    },
    "tags": []
   },
   "outputs": [],
   "source": [
    "# I group ages in a new feature.\n",
    "# I set numeric values, due to it is a ordered set.\n",
    "combi_2['AgeGroup'] = 0\n",
    "combi_2.loc[(combi_2['Age'] == 0), 'AgeGroup'] = 0\n",
    "combi_2.loc[(combi_2['Age'] > 0) & (combi_2['Age'] < 18), 'AgeGroup'] = 1\n",
    "combi_2.loc[(combi_2['Age'] >= 18) & (combi_2['Age'] < 26),'AgeGroup'] = 2\n",
    "combi_2.loc[(combi_2['Age'] >= 26) & (combi_2['Age'] < 40),'AgeGroup'] = 3\n",
    "combi_2.loc[(combi_2['Age'] >= 40), 'AgeGroup'] = 4"
   ]
  },
  {
   "cell_type": "code",
   "execution_count": 50,
   "id": "bfc9378b",
   "metadata": {
    "execution": {
     "iopub.execute_input": "2022-04-22T18:05:27.962784Z",
     "iopub.status.busy": "2022-04-22T18:05:27.961708Z",
     "iopub.status.idle": "2022-04-22T18:05:28.225425Z",
     "shell.execute_reply": "2022-04-22T18:05:28.224755Z",
     "shell.execute_reply.started": "2022-04-22T17:57:18.469148Z"
    },
    "papermill": {
     "duration": 0.450346,
     "end_time": "2022-04-22T18:05:28.225589",
     "exception": false,
     "start_time": "2022-04-22T18:05:27.775243",
     "status": "completed"
    },
    "tags": []
   },
   "outputs": [
    {
     "data": {
      "text/plain": [
       "<AxesSubplot:xlabel='AgeGroup', ylabel='count'>"
      ]
     },
     "execution_count": 50,
     "metadata": {},
     "output_type": "execute_result"
    },
    {
     "data": {
      "image/png": "[encoded data removed]",
      "text/plain": [
       "<Figure size 720x288 with 1 Axes>"
      ]
     },
     "metadata": {
      "needs_background": "light"
     },
     "output_type": "display_data"
    }
   ],
   "source": [
    "# Let's see the distribution\n",
    "n_bins = int(combi_2['AgeGroup'].max()+1)\n",
    "plt.figure(figsize=(10,4))\n",
    "\n",
    "sns.countplot(x='AgeGroup', hue='Transported', palette='rocket',\n",
    "              data=combi_2[combi_2['Transported'] != 'Unknown'])"
   ]
  },
  {
   "cell_type": "markdown",
   "id": "ce038208",
   "metadata": {
    "papermill": {
     "duration": 0.176608,
     "end_time": "2022-04-22T18:05:28.582511",
     "exception": false,
     "start_time": "2022-04-22T18:05:28.405903",
     "status": "completed"
    },
    "tags": []
   },
   "source": [
    "## Feature: *VIP*"
   ]
  },
  {
   "cell_type": "code",
   "execution_count": 51,
   "id": "20077f0b",
   "metadata": {
    "execution": {
     "iopub.execute_input": "2022-04-22T18:05:28.949759Z",
     "iopub.status.busy": "2022-04-22T18:05:28.949060Z",
     "iopub.status.idle": "2022-04-22T18:05:28.953716Z",
     "shell.execute_reply": "2022-04-22T18:05:28.953101Z",
     "shell.execute_reply.started": "2022-04-22T17:57:18.715099Z"
    },
    "papermill": {
     "duration": 0.195095,
     "end_time": "2022-04-22T18:05:28.953892",
     "exception": false,
     "start_time": "2022-04-22T18:05:28.758797",
     "status": "completed"
    },
    "tags": []
   },
   "outputs": [
    {
     "data": {
      "text/plain": [
       "count     12674\n",
       "unique        2\n",
       "top       False\n",
       "freq      12401\n",
       "Name: VIP, dtype: object"
      ]
     },
     "execution_count": 51,
     "metadata": {},
     "output_type": "execute_result"
    }
   ],
   "source": [
    "combi_2['VIP'].describe()"
   ]
  },
  {
   "cell_type": "code",
   "execution_count": 52,
   "id": "00808dd2",
   "metadata": {
    "execution": {
     "iopub.execute_input": "2022-04-22T18:05:29.319143Z",
     "iopub.status.busy": "2022-04-22T18:05:29.316595Z",
     "iopub.status.idle": "2022-04-22T18:05:29.323443Z",
     "shell.execute_reply": "2022-04-22T18:05:29.322833Z",
     "shell.execute_reply.started": "2022-04-22T17:57:18.730579Z"
    },
    "papermill": {
     "duration": 0.192291,
     "end_time": "2022-04-22T18:05:29.323580",
     "exception": false,
     "start_time": "2022-04-22T18:05:29.131289",
     "status": "completed"
    },
    "tags": []
   },
   "outputs": [
    {
     "data": {
      "text/plain": [
       "VIP\n",
       "False    12401\n",
       "True       273\n",
       "Name: VIP, dtype: int64"
      ]
     },
     "execution_count": 52,
     "metadata": {},
     "output_type": "execute_result"
    }
   ],
   "source": [
    "combi_2.groupby(['VIP'])['VIP'].count().head()"
   ]
  },
  {
   "cell_type": "code",
   "execution_count": 53,
   "id": "c65f1fe9",
   "metadata": {
    "execution": {
     "iopub.execute_input": "2022-04-22T18:05:29.687491Z",
     "iopub.status.busy": "2022-04-22T18:05:29.686833Z",
     "iopub.status.idle": "2022-04-22T18:05:29.689949Z",
     "shell.execute_reply": "2022-04-22T18:05:29.689428Z",
     "shell.execute_reply.started": "2022-04-22T17:57:18.753216Z"
    },
    "papermill": {
     "duration": 0.189599,
     "end_time": "2022-04-22T18:05:29.690101",
     "exception": false,
     "start_time": "2022-04-22T18:05:29.500502",
     "status": "completed"
    },
    "tags": []
   },
   "outputs": [],
   "source": [
    "# Impute missing data with the most frequent value (False)\n",
    "combi_2.loc[combi_2['VIP'].isna(), 'VIP'] = False"
   ]
  },
  {
   "cell_type": "code",
   "execution_count": 54,
   "id": "6f016cf1",
   "metadata": {
    "execution": {
     "iopub.execute_input": "2022-04-22T18:05:30.056480Z",
     "iopub.status.busy": "2022-04-22T18:05:30.055783Z",
     "iopub.status.idle": "2022-04-22T18:05:30.278902Z",
     "shell.execute_reply": "2022-04-22T18:05:30.278120Z",
     "shell.execute_reply.started": "2022-04-22T17:57:18.763021Z"
    },
    "papermill": {
     "duration": 0.410882,
     "end_time": "2022-04-22T18:05:30.279073",
     "exception": false,
     "start_time": "2022-04-22T18:05:29.868191",
     "status": "completed"
    },
    "tags": []
   },
   "outputs": [
    {
     "data": {
      "text/plain": [
       "<AxesSubplot:xlabel='VIP', ylabel='count'>"
      ]
     },
     "execution_count": 54,
     "metadata": {},
     "output_type": "execute_result"
    },
    {
     "data": {
      "image/png": "[encoded data removed]",
      "text/plain": [
       "<Figure size 432x288 with 1 Axes>"
      ]
     },
     "metadata": {
      "needs_background": "light"
     },
     "output_type": "display_data"
    }
   ],
   "source": [
    "# Let's see the relationship between VIP and Transported\n",
    "sns.countplot(x='VIP', hue='Transported', palette='rocket',\n",
    "              data=combi_2[combi_2['Transported'] != 'Unknown'])"
   ]
  },
  {
   "cell_type": "code",
   "execution_count": 55,
   "id": "bd1b7035",
   "metadata": {
    "execution": {
     "iopub.execute_input": "2022-04-22T18:05:30.658443Z",
     "iopub.status.busy": "2022-04-22T18:05:30.646386Z",
     "iopub.status.idle": "2022-04-22T18:05:30.662941Z",
     "shell.execute_reply": "2022-04-22T18:05:30.662272Z",
     "shell.execute_reply.started": "2022-04-22T17:57:18.971514Z"
    },
    "papermill": {
     "duration": 0.200827,
     "end_time": "2022-04-22T18:05:30.663088",
     "exception": false,
     "start_time": "2022-04-22T18:05:30.462261",
     "status": "completed"
    },
    "tags": []
   },
   "outputs": [],
   "source": [
    "# and convert logic values to float\n",
    "combi_2['VIP'] = combi_2['VIP'].replace({False:0, True:1})"
   ]
  },
  {
   "cell_type": "markdown",
   "id": "63b0ebcc",
   "metadata": {
    "papermill": {
     "duration": 0.200473,
     "end_time": "2022-04-22T18:05:31.048650",
     "exception": false,
     "start_time": "2022-04-22T18:05:30.848177",
     "status": "completed"
    },
    "tags": []
   },
   "source": [
    "## Feature: *RoomService*"
   ]
  },
  {
   "cell_type": "code",
   "execution_count": 56,
   "id": "51f8b188",
   "metadata": {
    "execution": {
     "iopub.execute_input": "2022-04-22T18:05:31.422175Z",
     "iopub.status.busy": "2022-04-22T18:05:31.421503Z",
     "iopub.status.idle": "2022-04-22T18:05:31.430131Z",
     "shell.execute_reply": "2022-04-22T18:05:31.430715Z",
     "shell.execute_reply.started": "2022-04-22T17:57:18.989179Z"
    },
    "papermill": {
     "duration": 0.195635,
     "end_time": "2022-04-22T18:05:31.430929",
     "exception": false,
     "start_time": "2022-04-22T18:05:31.235294",
     "status": "completed"
    },
    "tags": []
   },
   "outputs": [
    {
     "data": {
      "text/plain": [
       "count    12707.000000\n",
       "mean       222.897852\n",
       "std        647.596664\n",
       "min          0.000000\n",
       "25%          0.000000\n",
       "50%          0.000000\n",
       "75%         49.000000\n",
       "max      14327.000000\n",
       "Name: RoomService, dtype: float64"
      ]
     },
     "execution_count": 56,
     "metadata": {},
     "output_type": "execute_result"
    }
   ],
   "source": [
    "combi_2['RoomService'].describe()"
   ]
  },
  {
   "cell_type": "code",
   "execution_count": 57,
   "id": "5f25518b",
   "metadata": {
    "execution": {
     "iopub.execute_input": "2022-04-22T18:05:31.793185Z",
     "iopub.status.busy": "2022-04-22T18:05:31.792487Z",
     "iopub.status.idle": "2022-04-22T18:05:31.802684Z",
     "shell.execute_reply": "2022-04-22T18:05:31.803262Z",
     "shell.execute_reply.started": "2022-04-22T17:57:19.003013Z"
    },
    "papermill": {
     "duration": 0.193272,
     "end_time": "2022-04-22T18:05:31.803439",
     "exception": false,
     "start_time": "2022-04-22T18:05:31.610167",
     "status": "completed"
    },
    "tags": []
   },
   "outputs": [
    {
     "data": {
      "text/plain": [
       "RoomService\n",
       "0.0     8303\n",
       "1.0      185\n",
       "2.0      113\n",
       "3.0       89\n",
       "4.0       71\n",
       "5.0       43\n",
       "6.0       40\n",
       "9.0       38\n",
       "8.0       36\n",
       "13.0      29\n",
       "Name: RoomService, dtype: int64"
      ]
     },
     "execution_count": 57,
     "metadata": {},
     "output_type": "execute_result"
    }
   ],
   "source": [
    "combi_2.groupby(['RoomService'])['RoomService'].count().sort_values(ascending = False).head(10)"
   ]
  },
  {
   "cell_type": "code",
   "execution_count": 58,
   "id": "705b6831",
   "metadata": {
    "execution": {
     "iopub.execute_input": "2022-04-22T18:05:32.167189Z",
     "iopub.status.busy": "2022-04-22T18:05:32.166469Z",
     "iopub.status.idle": "2022-04-22T18:05:32.170973Z",
     "shell.execute_reply": "2022-04-22T18:05:32.171559Z",
     "shell.execute_reply.started": "2022-04-22T17:57:19.021502Z"
    },
    "papermill": {
     "duration": 0.188761,
     "end_time": "2022-04-22T18:05:32.171742",
     "exception": false,
     "start_time": "2022-04-22T18:05:31.982981",
     "status": "completed"
    },
    "tags": []
   },
   "outputs": [],
   "source": [
    "# Impute missing data with the most frequent value.\n",
    "combi_2['RoomService'].fillna(0, inplace=True)"
   ]
  },
  {
   "cell_type": "code",
   "execution_count": 59,
   "id": "29edee30",
   "metadata": {
    "execution": {
     "iopub.execute_input": "2022-04-22T18:05:32.537113Z",
     "iopub.status.busy": "2022-04-22T18:05:32.536467Z",
     "iopub.status.idle": "2022-04-22T18:05:32.840841Z",
     "shell.execute_reply": "2022-04-22T18:05:32.840159Z",
     "shell.execute_reply.started": "2022-04-22T17:57:19.033041Z"
    },
    "papermill": {
     "duration": 0.486746,
     "end_time": "2022-04-22T18:05:32.840991",
     "exception": false,
     "start_time": "2022-04-22T18:05:32.354245",
     "status": "completed"
    },
    "tags": []
   },
   "outputs": [
    {
     "data": {
      "text/plain": [
       "<AxesSubplot:xlabel='RoomService', ylabel='Density'>"
      ]
     },
     "execution_count": 59,
     "metadata": {},
     "output_type": "execute_result"
    },
    {
     "data": {
      "image/png": "[encoded data removed]",
      "text/plain": [
       "<Figure size 432x288 with 1 Axes>"
      ]
     },
     "metadata": {
      "needs_background": "light"
     },
     "output_type": "display_data"
    }
   ],
   "source": [
    "# Let's see the relationship between RoomService and Transported\n",
    "sns.histplot(x='RoomService', hue='Transported', stat='density', bins=100, element='step', palette='rocket', \n",
    "             data=combi_2[combi_2['Transported'] != 'Unknown'])"
   ]
  },
  {
   "cell_type": "code",
   "execution_count": 60,
   "id": "3ba1086d",
   "metadata": {
    "execution": {
     "iopub.execute_input": "2022-04-22T18:05:33.208341Z",
     "iopub.status.busy": "2022-04-22T18:05:33.207616Z",
     "iopub.status.idle": "2022-04-22T18:05:33.516316Z",
     "shell.execute_reply": "2022-04-22T18:05:33.516931Z",
     "shell.execute_reply.started": "2022-04-22T17:57:19.298106Z"
    },
    "papermill": {
     "duration": 0.49377,
     "end_time": "2022-04-22T18:05:33.517134",
     "exception": false,
     "start_time": "2022-04-22T18:05:33.023364",
     "status": "completed"
    },
    "tags": []
   },
   "outputs": [
    {
     "data": {
      "text/plain": [
       "<AxesSubplot:xlabel='RoomService_log', ylabel='Density'>"
      ]
     },
     "execution_count": 60,
     "metadata": {},
     "output_type": "execute_result"
    },
    {
     "data": {
      "image/png": "[encoded data removed]",
      "text/plain": [
       "<Figure size 432x288 with 1 Axes>"
      ]
     },
     "metadata": {
      "needs_background": "light"
     },
     "output_type": "display_data"
    }
   ],
   "source": [
    "# In order to decrease skew in distributions, I remove outliers and apply the logarithmic transform to the feature.\n",
    "clamp_max = np.percentile(combi_2['RoomService'], 80)\n",
    "combi_2['RoomService_log']=np.log(1 + np.clip(combi_2['RoomService'], 0, clamp_max))\n",
    "\n",
    "sns.histplot(x='RoomService_log', hue='Transported', stat='density', binwidth=1, element='step', palette='rocket', \n",
    "             data=combi_2[combi_2['Transported'] != 'Unknown'])"
   ]
  },
  {
   "cell_type": "markdown",
   "id": "d82f6b06",
   "metadata": {
    "papermill": {
     "duration": 0.184061,
     "end_time": "2022-04-22T18:05:33.887429",
     "exception": false,
     "start_time": "2022-04-22T18:05:33.703368",
     "status": "completed"
    },
    "tags": []
   },
   "source": [
    "## Feature: *FoodCourt*"
   ]
  },
  {
   "cell_type": "code",
   "execution_count": 61,
   "id": "da3cd0ef",
   "metadata": {
    "execution": {
     "iopub.execute_input": "2022-04-22T18:05:34.266579Z",
     "iopub.status.busy": "2022-04-22T18:05:34.265878Z",
     "iopub.status.idle": "2022-04-22T18:05:34.272954Z",
     "shell.execute_reply": "2022-04-22T18:05:34.273552Z",
     "shell.execute_reply.started": "2022-04-22T17:57:19.550219Z"
    },
    "papermill": {
     "duration": 0.199515,
     "end_time": "2022-04-22T18:05:34.273744",
     "exception": false,
     "start_time": "2022-04-22T18:05:34.074229",
     "status": "completed"
    },
    "tags": []
   },
   "outputs": [
    {
     "data": {
      "text/plain": [
       "count    12681.000000\n",
       "mean       451.961675\n",
       "std       1584.370747\n",
       "min          0.000000\n",
       "25%          0.000000\n",
       "50%          0.000000\n",
       "75%         77.000000\n",
       "max      29813.000000\n",
       "Name: FoodCourt, dtype: float64"
      ]
     },
     "execution_count": 61,
     "metadata": {},
     "output_type": "execute_result"
    }
   ],
   "source": [
    "combi_2['FoodCourt'].describe()"
   ]
  },
  {
   "cell_type": "code",
   "execution_count": 62,
   "id": "307c4d23",
   "metadata": {
    "execution": {
     "iopub.execute_input": "2022-04-22T18:05:34.644783Z",
     "iopub.status.busy": "2022-04-22T18:05:34.644146Z",
     "iopub.status.idle": "2022-04-22T18:05:34.654495Z",
     "shell.execute_reply": "2022-04-22T18:05:34.655113Z",
     "shell.execute_reply.started": "2022-04-22T17:57:19.565603Z"
    },
    "papermill": {
     "duration": 0.196321,
     "end_time": "2022-04-22T18:05:34.655304",
     "exception": false,
     "start_time": "2022-04-22T18:05:34.458983",
     "status": "completed"
    },
    "tags": []
   },
   "outputs": [
    {
     "data": {
      "text/plain": [
       "FoodCourt\n",
       "0.0     8146\n",
       "1.0      175\n",
       "2.0      105\n",
       "4.0       75\n",
       "3.0       74\n",
       "5.0       52\n",
       "6.0       51\n",
       "7.0       40\n",
       "10.0      39\n",
       "9.0       36\n",
       "Name: FoodCourt, dtype: int64"
      ]
     },
     "execution_count": 62,
     "metadata": {},
     "output_type": "execute_result"
    }
   ],
   "source": [
    "combi_2.groupby(['FoodCourt'])['FoodCourt'].count().sort_values(ascending=False).head(10)"
   ]
  },
  {
   "cell_type": "code",
   "execution_count": 63,
   "id": "923e2923",
   "metadata": {
    "execution": {
     "iopub.execute_input": "2022-04-22T18:05:35.025288Z",
     "iopub.status.busy": "2022-04-22T18:05:35.024553Z",
     "iopub.status.idle": "2022-04-22T18:05:35.030353Z",
     "shell.execute_reply": "2022-04-22T18:05:35.030980Z",
     "shell.execute_reply.started": "2022-04-22T17:57:19.578586Z"
    },
    "papermill": {
     "duration": 0.193789,
     "end_time": "2022-04-22T18:05:35.031172",
     "exception": false,
     "start_time": "2022-04-22T18:05:34.837383",
     "status": "completed"
    },
    "tags": []
   },
   "outputs": [
    {
     "data": {
      "text/plain": [
       "0"
      ]
     },
     "execution_count": 63,
     "metadata": {},
     "output_type": "execute_result"
    }
   ],
   "source": [
    "combi_2['RoomService'].isna().sum()"
   ]
  },
  {
   "cell_type": "code",
   "execution_count": 64,
   "id": "a7d7bcbe",
   "metadata": {
    "execution": {
     "iopub.execute_input": "2022-04-22T18:05:35.417085Z",
     "iopub.status.busy": "2022-04-22T18:05:35.416354Z",
     "iopub.status.idle": "2022-04-22T18:05:35.420377Z",
     "shell.execute_reply": "2022-04-22T18:05:35.420941Z",
     "shell.execute_reply.started": "2022-04-22T17:57:19.590362Z"
    },
    "papermill": {
     "duration": 0.20021,
     "end_time": "2022-04-22T18:05:35.421113",
     "exception": false,
     "start_time": "2022-04-22T18:05:35.220903",
     "status": "completed"
    },
    "tags": []
   },
   "outputs": [],
   "source": [
    "# Impute missing data with the most frequent value.\n",
    "combi_2['FoodCourt'].fillna(0, inplace=True)"
   ]
  },
  {
   "cell_type": "code",
   "execution_count": 65,
   "id": "e7c490d3",
   "metadata": {
    "execution": {
     "iopub.execute_input": "2022-04-22T18:05:35.794185Z",
     "iopub.status.busy": "2022-04-22T18:05:35.793487Z",
     "iopub.status.idle": "2022-04-22T18:05:36.092688Z",
     "shell.execute_reply": "2022-04-22T18:05:36.093250Z",
     "shell.execute_reply.started": "2022-04-22T17:57:19.603996Z"
    },
    "papermill": {
     "duration": 0.487587,
     "end_time": "2022-04-22T18:05:36.093438",
     "exception": false,
     "start_time": "2022-04-22T18:05:35.605851",
     "status": "completed"
    },
    "tags": []
   },
   "outputs": [
    {
     "data": {
      "text/plain": [
       "<AxesSubplot:xlabel='FoodCourt', ylabel='Density'>"
      ]
     },
     "execution_count": 65,
     "metadata": {},
     "output_type": "execute_result"
    },
    {
     "data": {
      "image/png": "[encoded data removed]",
      "text/plain": [
       "<Figure size 432x288 with 1 Axes>"
      ]
     },
     "metadata": {
      "needs_background": "light"
     },
     "output_type": "display_data"
    }
   ],
   "source": [
    "# Let's see the relationship between FoodCourt and Transported\n",
    "sns.histplot(x='FoodCourt', hue='Transported', stat='density', bins=100, element='step', palette='rocket', \n",
    "             data=combi_2[combi_2['Transported'] != 'Unknown'])"
   ]
  },
  {
   "cell_type": "code",
   "execution_count": 66,
   "id": "7d0280bb",
   "metadata": {
    "execution": {
     "iopub.execute_input": "2022-04-22T18:05:36.471558Z",
     "iopub.status.busy": "2022-04-22T18:05:36.470905Z",
     "iopub.status.idle": "2022-04-22T18:05:36.733501Z",
     "shell.execute_reply": "2022-04-22T18:05:36.734012Z",
     "shell.execute_reply.started": "2022-04-22T17:57:19.852776Z"
    },
    "papermill": {
     "duration": 0.453616,
     "end_time": "2022-04-22T18:05:36.734196",
     "exception": false,
     "start_time": "2022-04-22T18:05:36.280580",
     "status": "completed"
    },
    "tags": []
   },
   "outputs": [
    {
     "data": {
      "text/plain": [
       "<AxesSubplot:xlabel='FoodCourt_log', ylabel='Density'>"
      ]
     },
     "execution_count": 66,
     "metadata": {},
     "output_type": "execute_result"
    },
    {
     "data": {
      "image/png": "[encoded data removed]",
      "text/plain": [
       "<Figure size 432x288 with 1 Axes>"
      ]
     },
     "metadata": {
      "needs_background": "light"
     },
     "output_type": "display_data"
    }
   ],
   "source": [
    "# In order to decrease skew in distributions, I remove outliers and apply the logarithmic transform to the feature.\n",
    "clamp_max = np.percentile(combi_2['FoodCourt'], 90)\n",
    "combi_2['FoodCourt_log'] = np.log(1 + np.clip(combi_2['FoodCourt'], 0, clamp_max))\n",
    "\n",
    "sns.histplot(x='FoodCourt_log', hue='Transported', stat='density', binwidth=1, element='step', palette='rocket', \n",
    "             data=combi_2[combi_2['Transported'] != 'Unknown'])"
   ]
  },
  {
   "cell_type": "markdown",
   "id": "5e5629e7",
   "metadata": {
    "papermill": {
     "duration": 0.18588,
     "end_time": "2022-04-22T18:05:37.106617",
     "exception": false,
     "start_time": "2022-04-22T18:05:36.920737",
     "status": "completed"
    },
    "tags": []
   },
   "source": [
    "## Feature: *ShoppingMall*"
   ]
  },
  {
   "cell_type": "code",
   "execution_count": 67,
   "id": "7ac68acf",
   "metadata": {
    "execution": {
     "iopub.execute_input": "2022-04-22T18:05:37.483398Z",
     "iopub.status.busy": "2022-04-22T18:05:37.482713Z",
     "iopub.status.idle": "2022-04-22T18:05:37.493073Z",
     "shell.execute_reply": "2022-04-22T18:05:37.493596Z",
     "shell.execute_reply.started": "2022-04-22T17:57:20.047364Z"
    },
    "papermill": {
     "duration": 0.200229,
     "end_time": "2022-04-22T18:05:37.493774",
     "exception": false,
     "start_time": "2022-04-22T18:05:37.293545",
     "status": "completed"
    },
    "tags": []
   },
   "outputs": [
    {
     "data": {
      "text/plain": [
       "count    12664.000000\n",
       "mean       174.906033\n",
       "std        590.558690\n",
       "min          0.000000\n",
       "25%          0.000000\n",
       "50%          0.000000\n",
       "75%         29.000000\n",
       "max      23492.000000\n",
       "Name: ShoppingMall, dtype: float64"
      ]
     },
     "execution_count": 67,
     "metadata": {},
     "output_type": "execute_result"
    }
   ],
   "source": [
    "combi_2['ShoppingMall'].describe()"
   ]
  },
  {
   "cell_type": "code",
   "execution_count": 68,
   "id": "d82879ae",
   "metadata": {
    "execution": {
     "iopub.execute_input": "2022-04-22T18:05:37.870468Z",
     "iopub.status.busy": "2022-04-22T18:05:37.869753Z",
     "iopub.status.idle": "2022-04-22T18:05:37.879166Z",
     "shell.execute_reply": "2022-04-22T18:05:37.878436Z",
     "shell.execute_reply.started": "2022-04-22T17:57:20.060827Z"
    },
    "papermill": {
     "duration": 0.200057,
     "end_time": "2022-04-22T18:05:37.879320",
     "exception": false,
     "start_time": "2022-04-22T18:05:37.679263",
     "status": "completed"
    },
    "tags": []
   },
   "outputs": [
    {
     "data": {
      "text/plain": [
       "ShoppingMall\n",
       "0.0    8331\n",
       "1.0     225\n",
       "2.0     112\n",
       "3.0      94\n",
       "4.0      69\n",
       "7.0      55\n",
       "5.0      49\n",
       "6.0      46\n",
       "9.0      45\n",
       "8.0      44\n",
       "Name: ShoppingMall, dtype: int64"
      ]
     },
     "execution_count": 68,
     "metadata": {},
     "output_type": "execute_result"
    }
   ],
   "source": [
    "combi_2.groupby(['ShoppingMall'])['ShoppingMall'].count().sort_values(ascending = False).head(10)"
   ]
  },
  {
   "cell_type": "code",
   "execution_count": 69,
   "id": "d6c085c0",
   "metadata": {
    "execution": {
     "iopub.execute_input": "2022-04-22T18:05:38.261047Z",
     "iopub.status.busy": "2022-04-22T18:05:38.260061Z",
     "iopub.status.idle": "2022-04-22T18:05:38.264546Z",
     "shell.execute_reply": "2022-04-22T18:05:38.265195Z",
     "shell.execute_reply.started": "2022-04-22T17:57:20.073621Z"
    },
    "papermill": {
     "duration": 0.197772,
     "end_time": "2022-04-22T18:05:38.265373",
     "exception": false,
     "start_time": "2022-04-22T18:05:38.067601",
     "status": "completed"
    },
    "tags": []
   },
   "outputs": [],
   "source": [
    "# Impute missing data with the most frequent value.\n",
    "combi_2['ShoppingMall'].fillna(0, inplace=True)"
   ]
  },
  {
   "cell_type": "code",
   "execution_count": 70,
   "id": "9ce55e43",
   "metadata": {
    "execution": {
     "iopub.execute_input": "2022-04-22T18:05:38.649568Z",
     "iopub.status.busy": "2022-04-22T18:05:38.643138Z",
     "iopub.status.idle": "2022-04-22T18:05:38.940524Z",
     "shell.execute_reply": "2022-04-22T18:05:38.941546Z",
     "shell.execute_reply.started": "2022-04-22T17:57:20.085197Z"
    },
    "papermill": {
     "duration": 0.487571,
     "end_time": "2022-04-22T18:05:38.941735",
     "exception": false,
     "start_time": "2022-04-22T18:05:38.454164",
     "status": "completed"
    },
    "tags": []
   },
   "outputs": [
    {
     "data": {
      "text/plain": [
       "<AxesSubplot:xlabel='ShoppingMall', ylabel='Density'>"
      ]
     },
     "execution_count": 70,
     "metadata": {},
     "output_type": "execute_result"
    },
    {
     "data": {
      "image/png": "[encoded data removed]",
      "text/plain": [
       "<Figure size 432x288 with 1 Axes>"
      ]
     },
     "metadata": {
      "needs_background": "light"
     },
     "output_type": "display_data"
    }
   ],
   "source": [
    "# Let's see the relationship between ShoppingMall and Transported\n",
    "sns.histplot(x='ShoppingMall', hue='Transported', stat='density', bins=100, element='step', palette='rocket', \n",
    "             data=combi_2[combi_2['Transported'] != 'Unknown'])"
   ]
  },
  {
   "cell_type": "code",
   "execution_count": 71,
   "id": "6ebb68fb",
   "metadata": {
    "execution": {
     "iopub.execute_input": "2022-04-22T18:05:39.325540Z",
     "iopub.status.busy": "2022-04-22T18:05:39.324519Z",
     "iopub.status.idle": "2022-04-22T18:05:39.632967Z",
     "shell.execute_reply": "2022-04-22T18:05:39.633509Z",
     "shell.execute_reply.started": "2022-04-22T17:57:20.330585Z"
    },
    "papermill": {
     "duration": 0.501292,
     "end_time": "2022-04-22T18:05:39.633718",
     "exception": false,
     "start_time": "2022-04-22T18:05:39.132426",
     "status": "completed"
    },
    "tags": []
   },
   "outputs": [
    {
     "data": {
      "text/plain": [
       "<AxesSubplot:xlabel='ShoppingMall_log', ylabel='Density'>"
      ]
     },
     "execution_count": 71,
     "metadata": {},
     "output_type": "execute_result"
    },
    {
     "data": {
      "image/png": "[encoded data removed]",
      "text/plain": [
       "<Figure size 432x288 with 1 Axes>"
      ]
     },
     "metadata": {
      "needs_background": "light"
     },
     "output_type": "display_data"
    }
   ],
   "source": [
    "# In order to decrease skew in distributions, I remove outliers and apply the logarithmic transform to the feature.\n",
    "clamp_max = np.percentile(combi_2['ShoppingMall'], 90)\n",
    "combi_2['ShoppingMall_log']=np.log(1 + np.clip(combi_2['ShoppingMall'], 0, clamp_max))\n",
    "\n",
    "sns.histplot(x='ShoppingMall_log', hue='Transported', stat='density', binwidth=1, element='step', palette='rocket', \n",
    "             data=combi_2[combi_2['Transported'] != 'Unknown'])"
   ]
  },
  {
   "cell_type": "markdown",
   "id": "48fec021",
   "metadata": {
    "papermill": {
     "duration": 0.194781,
     "end_time": "2022-04-22T18:05:40.020106",
     "exception": false,
     "start_time": "2022-04-22T18:05:39.825325",
     "status": "completed"
    },
    "tags": []
   },
   "source": [
    "## Feature: *Spa*"
   ]
  },
  {
   "cell_type": "code",
   "execution_count": 72,
   "id": "a0afe3d5",
   "metadata": {
    "execution": {
     "iopub.execute_input": "2022-04-22T18:05:40.406166Z",
     "iopub.status.busy": "2022-04-22T18:05:40.405480Z",
     "iopub.status.idle": "2022-04-22T18:05:40.412793Z",
     "shell.execute_reply": "2022-04-22T18:05:40.413420Z",
     "shell.execute_reply.started": "2022-04-22T17:57:20.586912Z"
    },
    "papermill": {
     "duration": 0.203566,
     "end_time": "2022-04-22T18:05:40.413612",
     "exception": false,
     "start_time": "2022-04-22T18:05:40.210046",
     "status": "completed"
    },
    "tags": []
   },
   "outputs": [
    {
     "data": {
      "text/plain": [
       "count    12686.000000\n",
       "mean       308.476904\n",
       "std       1130.279641\n",
       "min          0.000000\n",
       "25%          0.000000\n",
       "50%          0.000000\n",
       "75%         57.000000\n",
       "max      22408.000000\n",
       "Name: Spa, dtype: float64"
      ]
     },
     "execution_count": 72,
     "metadata": {},
     "output_type": "execute_result"
    }
   ],
   "source": [
    "combi_2['Spa'].describe()"
   ]
  },
  {
   "cell_type": "code",
   "execution_count": 73,
   "id": "495fa2b8",
   "metadata": {
    "execution": {
     "iopub.execute_input": "2022-04-22T18:05:40.799652Z",
     "iopub.status.busy": "2022-04-22T18:05:40.798970Z",
     "iopub.status.idle": "2022-04-22T18:05:40.808831Z",
     "shell.execute_reply": "2022-04-22T18:05:40.809445Z",
     "shell.execute_reply.started": "2022-04-22T17:57:20.604524Z"
    },
    "papermill": {
     "duration": 0.205652,
     "end_time": "2022-04-22T18:05:40.809635",
     "exception": false,
     "start_time": "2022-04-22T18:05:40.603983",
     "status": "completed"
    },
    "tags": []
   },
   "outputs": [
    {
     "data": {
      "text/plain": [
       "Spa\n",
       "0.0    7935\n",
       "1.0     218\n",
       "2.0     148\n",
       "3.0      82\n",
       "4.0      73\n",
       "5.0      69\n",
       "6.0      56\n",
       "7.0      53\n",
       "8.0      50\n",
       "9.0      44\n",
       "Name: Spa, dtype: int64"
      ]
     },
     "execution_count": 73,
     "metadata": {},
     "output_type": "execute_result"
    }
   ],
   "source": [
    "combi_2.groupby(['Spa'])['Spa'].count().sort_values(ascending=False).head(10)"
   ]
  },
  {
   "cell_type": "code",
   "execution_count": 74,
   "id": "d52a2cda",
   "metadata": {
    "execution": {
     "iopub.execute_input": "2022-04-22T18:05:41.199398Z",
     "iopub.status.busy": "2022-04-22T18:05:41.198738Z",
     "iopub.status.idle": "2022-04-22T18:05:41.202973Z",
     "shell.execute_reply": "2022-04-22T18:05:41.203565Z",
     "shell.execute_reply.started": "2022-04-22T17:57:20.618187Z"
    },
    "papermill": {
     "duration": 0.200943,
     "end_time": "2022-04-22T18:05:41.203734",
     "exception": false,
     "start_time": "2022-04-22T18:05:41.002791",
     "status": "completed"
    },
    "tags": []
   },
   "outputs": [],
   "source": [
    "# Impute missing data with the most frequent value.\n",
    "combi_2['Spa'].fillna(0, inplace=True)"
   ]
  },
  {
   "cell_type": "code",
   "execution_count": 75,
   "id": "ce66f3da",
   "metadata": {
    "execution": {
     "iopub.execute_input": "2022-04-22T18:05:41.588896Z",
     "iopub.status.busy": "2022-04-22T18:05:41.588094Z",
     "iopub.status.idle": "2022-04-22T18:05:41.879745Z",
     "shell.execute_reply": "2022-04-22T18:05:41.880249Z",
     "shell.execute_reply.started": "2022-04-22T17:57:20.628482Z"
    },
    "papermill": {
     "duration": 0.486456,
     "end_time": "2022-04-22T18:05:41.880430",
     "exception": false,
     "start_time": "2022-04-22T18:05:41.393974",
     "status": "completed"
    },
    "tags": []
   },
   "outputs": [
    {
     "data": {
      "text/plain": [
       "<AxesSubplot:xlabel='Spa', ylabel='Density'>"
      ]
     },
     "execution_count": 75,
     "metadata": {},
     "output_type": "execute_result"
    },
    {
     "data": {
      "image/png": "[encoded data removed]",
      "text/plain": [
       "<Figure size 432x288 with 1 Axes>"
      ]
     },
     "metadata": {
      "needs_background": "light"
     },
     "output_type": "display_data"
    }
   ],
   "source": [
    "# Let's see the relationship between Spa and Transported\n",
    "sns.histplot(x='Spa', hue='Transported', stat='density', bins=100, element='step', palette='rocket', \n",
    "             data=combi_2[combi_2['Transported'] != 'Unknown'])"
   ]
  },
  {
   "cell_type": "code",
   "execution_count": 76,
   "id": "ebab1175",
   "metadata": {
    "execution": {
     "iopub.execute_input": "2022-04-22T18:05:42.303413Z",
     "iopub.status.busy": "2022-04-22T18:05:42.302275Z",
     "iopub.status.idle": "2022-04-22T18:05:42.564131Z",
     "shell.execute_reply": "2022-04-22T18:05:42.563519Z",
     "shell.execute_reply.started": "2022-04-22T17:57:20.877748Z"
    },
    "papermill": {
     "duration": 0.460366,
     "end_time": "2022-04-22T18:05:42.564290",
     "exception": false,
     "start_time": "2022-04-22T18:05:42.103924",
     "status": "completed"
    },
    "tags": []
   },
   "outputs": [
    {
     "data": {
      "text/plain": [
       "<AxesSubplot:xlabel='Spa_log', ylabel='Density'>"
      ]
     },
     "execution_count": 76,
     "metadata": {},
     "output_type": "execute_result"
    },
    {
     "data": {
      "image/png": "[encoded data removed]",
      "text/plain": [
       "<Figure size 432x288 with 1 Axes>"
      ]
     },
     "metadata": {
      "needs_background": "light"
     },
     "output_type": "display_data"
    }
   ],
   "source": [
    "# In order to decrease skew in distributions, I remove outliers and apply the logarithmic transform to the feature.\n",
    "clamp_max = np.percentile(combi_2['Spa'], 80)\n",
    "combi_2['Spa_log']=np.log(1 + np.clip(combi_2['Spa'], 0, clamp_max))\n",
    "\n",
    "sns.histplot(x='Spa_log', hue='Transported', stat='density', binwidth=1, element='step', palette='rocket', \n",
    "             data=combi_2[combi_2['Transported'] != 'Unknown'])"
   ]
  },
  {
   "cell_type": "markdown",
   "id": "f2168ef5",
   "metadata": {
    "papermill": {
     "duration": 0.194162,
     "end_time": "2022-04-22T18:05:42.956234",
     "exception": false,
     "start_time": "2022-04-22T18:05:42.762072",
     "status": "completed"
    },
    "tags": []
   },
   "source": [
    "## Feature: *VRDeck*"
   ]
  },
  {
   "cell_type": "code",
   "execution_count": 77,
   "id": "e0d8a95f",
   "metadata": {
    "execution": {
     "iopub.execute_input": "2022-04-22T18:05:43.352121Z",
     "iopub.status.busy": "2022-04-22T18:05:43.351438Z",
     "iopub.status.idle": "2022-04-22T18:05:43.362800Z",
     "shell.execute_reply": "2022-04-22T18:05:43.362142Z",
     "shell.execute_reply.started": "2022-04-22T17:57:21.133163Z"
    },
    "papermill": {
     "duration": 0.208994,
     "end_time": "2022-04-22T18:05:43.362965",
     "exception": false,
     "start_time": "2022-04-22T18:05:43.153971",
     "status": "completed"
    },
    "tags": []
   },
   "outputs": [
    {
     "data": {
      "text/plain": [
       "count    12702.000000\n",
       "mean       306.789482\n",
       "std       1180.097223\n",
       "min          0.000000\n",
       "25%          0.000000\n",
       "50%          0.000000\n",
       "75%         42.000000\n",
       "max      24133.000000\n",
       "Name: VRDeck, dtype: float64"
      ]
     },
     "execution_count": 77,
     "metadata": {},
     "output_type": "execute_result"
    }
   ],
   "source": [
    "combi_2['VRDeck'].describe()"
   ]
  },
  {
   "cell_type": "code",
   "execution_count": 78,
   "id": "94a98e1f",
   "metadata": {
    "execution": {
     "iopub.execute_input": "2022-04-22T18:05:43.760093Z",
     "iopub.status.busy": "2022-04-22T18:05:43.759413Z",
     "iopub.status.idle": "2022-04-22T18:05:43.768184Z",
     "shell.execute_reply": "2022-04-22T18:05:43.767446Z",
     "shell.execute_reply.started": "2022-04-22T17:57:21.147164Z"
    },
    "papermill": {
     "duration": 0.210609,
     "end_time": "2022-04-22T18:05:43.768367",
     "exception": false,
     "start_time": "2022-04-22T18:05:43.557758",
     "status": "completed"
    },
    "tags": []
   },
   "outputs": [
    {
     "data": {
      "text/plain": [
       "VRDeck\n",
       "0.0    8252\n",
       "1.0     211\n",
       "2.0     108\n",
       "3.0      89\n",
       "5.0      68\n",
       "4.0      67\n",
       "6.0      53\n",
       "7.0      52\n",
       "8.0      40\n",
       "9.0      34\n",
       "Name: VRDeck, dtype: int64"
      ]
     },
     "execution_count": 78,
     "metadata": {},
     "output_type": "execute_result"
    }
   ],
   "source": [
    "combi_2.groupby(['VRDeck'])['VRDeck'].count().sort_values(ascending = False).head(10)"
   ]
  },
  {
   "cell_type": "code",
   "execution_count": 79,
   "id": "2b5e6999",
   "metadata": {
    "execution": {
     "iopub.execute_input": "2022-04-22T18:05:44.162338Z",
     "iopub.status.busy": "2022-04-22T18:05:44.161682Z",
     "iopub.status.idle": "2022-04-22T18:05:44.165949Z",
     "shell.execute_reply": "2022-04-22T18:05:44.166518Z",
     "shell.execute_reply.started": "2022-04-22T17:57:21.161780Z"
    },
    "papermill": {
     "duration": 0.204069,
     "end_time": "2022-04-22T18:05:44.166691",
     "exception": false,
     "start_time": "2022-04-22T18:05:43.962622",
     "status": "completed"
    },
    "tags": []
   },
   "outputs": [],
   "source": [
    "# Impute missing data with the most frequent value.\n",
    "combi_2['VRDeck'].fillna(0, inplace=True)"
   ]
  },
  {
   "cell_type": "code",
   "execution_count": 80,
   "id": "09064372",
   "metadata": {
    "execution": {
     "iopub.execute_input": "2022-04-22T18:05:44.557066Z",
     "iopub.status.busy": "2022-04-22T18:05:44.556441Z",
     "iopub.status.idle": "2022-04-22T18:05:44.849651Z",
     "shell.execute_reply": "2022-04-22T18:05:44.849101Z",
     "shell.execute_reply.started": "2022-04-22T17:57:21.172488Z"
    },
    "papermill": {
     "duration": 0.490067,
     "end_time": "2022-04-22T18:05:44.849834",
     "exception": false,
     "start_time": "2022-04-22T18:05:44.359767",
     "status": "completed"
    },
    "tags": []
   },
   "outputs": [
    {
     "data": {
      "text/plain": [
       "<AxesSubplot:xlabel='VRDeck', ylabel='Density'>"
      ]
     },
     "execution_count": 80,
     "metadata": {},
     "output_type": "execute_result"
    },
    {
     "data": {
      "image/png": "[encoded data removed]",
      "text/plain": [
       "<Figure size 432x288 with 1 Axes>"
      ]
     },
     "metadata": {
      "needs_background": "light"
     },
     "output_type": "display_data"
    }
   ],
   "source": [
    "# Let's see the relationship between VRDeck and Transported\n",
    "sns.histplot(x='VRDeck', hue='Transported', stat='density', bins=100, element='step', palette='rocket', \n",
    "             data=combi_2[combi_2['Transported'] != 'Unknown'])"
   ]
  },
  {
   "cell_type": "code",
   "execution_count": 81,
   "id": "5a3e8f50",
   "metadata": {
    "execution": {
     "iopub.execute_input": "2022-04-22T18:05:45.251574Z",
     "iopub.status.busy": "2022-04-22T18:05:45.250777Z",
     "iopub.status.idle": "2022-04-22T18:05:45.540403Z",
     "shell.execute_reply": "2022-04-22T18:05:45.539781Z",
     "shell.execute_reply.started": "2022-04-22T17:57:21.363915Z"
    },
    "papermill": {
     "duration": 0.492821,
     "end_time": "2022-04-22T18:05:45.540575",
     "exception": false,
     "start_time": "2022-04-22T18:05:45.047754",
     "status": "completed"
    },
    "tags": []
   },
   "outputs": [
    {
     "data": {
      "text/plain": [
       "<AxesSubplot:xlabel='VRDeck_log', ylabel='Density'>"
      ]
     },
     "execution_count": 81,
     "metadata": {},
     "output_type": "execute_result"
    },
    {
     "data": {
      "image/png": "[encoded data removed]",
      "text/plain": [
       "<Figure size 432x288 with 1 Axes>"
      ]
     },
     "metadata": {
      "needs_background": "light"
     },
     "output_type": "display_data"
    }
   ],
   "source": [
    "# In order to decrease skew in distributions, I remove outliers and apply the logarithmic transform to the feature.\n",
    "clamp_max = np.percentile(combi_2['VRDeck'], 80)\n",
    "combi_2['VRDeck_log'] = np.log(1 + np.clip(combi_2['VRDeck'], 0, clamp_max))\n",
    "\n",
    "sns.histplot(x='VRDeck_log', hue='Transported', stat='density', binwidth=1, element='step', palette='rocket', \n",
    "             data=combi_2[combi_2['Transported'] != 'Unknown'])"
   ]
  },
  {
   "cell_type": "markdown",
   "id": "ff9f6cad",
   "metadata": {
    "papermill": {
     "duration": 0.197826,
     "end_time": "2022-04-22T18:05:45.938591",
     "exception": false,
     "start_time": "2022-04-22T18:05:45.740765",
     "status": "completed"
    },
    "tags": []
   },
   "source": [
    "## Feature (new): *Amenities*"
   ]
  },
  {
   "cell_type": "code",
   "execution_count": 82,
   "id": "0a6be935",
   "metadata": {
    "execution": {
     "iopub.execute_input": "2022-04-22T18:05:46.338849Z",
     "iopub.status.busy": "2022-04-22T18:05:46.338200Z",
     "iopub.status.idle": "2022-04-22T18:05:46.344720Z",
     "shell.execute_reply": "2022-04-22T18:05:46.345316Z",
     "shell.execute_reply.started": "2022-04-22T17:57:21.801152Z"
    },
    "papermill": {
     "duration": 0.205622,
     "end_time": "2022-04-22T18:05:46.345495",
     "exception": false,
     "start_time": "2022-04-22T18:05:46.139873",
     "status": "completed"
    },
    "tags": []
   },
   "outputs": [],
   "source": [
    "# Total amount of the amenities\n",
    "combi_2['Amenities'] = combi_2['RoomService'] + combi_2['FoodCourt'] + combi_2['ShoppingMall'] + combi_2['Spa'] + combi_2['VRDeck']"
   ]
  },
  {
   "cell_type": "code",
   "execution_count": 83,
   "id": "ad148d6a",
   "metadata": {
    "execution": {
     "iopub.execute_input": "2022-04-22T18:05:46.749224Z",
     "iopub.status.busy": "2022-04-22T18:05:46.748193Z",
     "iopub.status.idle": "2022-04-22T18:05:46.756407Z",
     "shell.execute_reply": "2022-04-22T18:05:46.757048Z",
     "shell.execute_reply.started": "2022-04-22T17:57:21.809482Z"
    },
    "papermill": {
     "duration": 0.212352,
     "end_time": "2022-04-22T18:05:46.757247",
     "exception": false,
     "start_time": "2022-04-22T18:05:46.544895",
     "status": "completed"
    },
    "tags": []
   },
   "outputs": [
    {
     "data": {
      "text/plain": [
       "Amenities\n",
       "0.0      5457\n",
       "809.0      76\n",
       "788.0      56\n",
       "803.0      51\n",
       "804.0      50\n",
       "908.0      49\n",
       "907.0      45\n",
       "716.0      43\n",
       "791.0      42\n",
       "888.0      39\n",
       "Name: Amenities, dtype: int64"
      ]
     },
     "execution_count": 83,
     "metadata": {},
     "output_type": "execute_result"
    }
   ],
   "source": [
    "combi_2.groupby(['Amenities'])['Amenities'].count().sort_values(ascending = False).head(10)"
   ]
  },
  {
   "cell_type": "code",
   "execution_count": 84,
   "id": "9665d732",
   "metadata": {
    "execution": {
     "iopub.execute_input": "2022-04-22T18:05:47.162001Z",
     "iopub.status.busy": "2022-04-22T18:05:47.161315Z",
     "iopub.status.idle": "2022-04-22T18:05:47.447091Z",
     "shell.execute_reply": "2022-04-22T18:05:47.447600Z",
     "shell.execute_reply.started": "2022-04-22T17:57:21.828269Z"
    },
    "papermill": {
     "duration": 0.490973,
     "end_time": "2022-04-22T18:05:47.447796",
     "exception": false,
     "start_time": "2022-04-22T18:05:46.956823",
     "status": "completed"
    },
    "tags": []
   },
   "outputs": [
    {
     "data": {
      "text/plain": [
       "<AxesSubplot:xlabel='Amenities', ylabel='Density'>"
      ]
     },
     "execution_count": 84,
     "metadata": {},
     "output_type": "execute_result"
    },
    {
     "data": {
      "image/png": "[encoded data removed]",
      "text/plain": [
       "<Figure size 432x288 with 1 Axes>"
      ]
     },
     "metadata": {
      "needs_background": "light"
     },
     "output_type": "display_data"
    }
   ],
   "source": [
    "# Let's see the relationship between the new feature and Transported\n",
    "sns.histplot(x='Amenities', hue='Transported', stat='density', bins=100, element='step', palette='rocket', \n",
    "             data=combi_2[combi_2['Transported'] != 'Unknown'])"
   ]
  },
  {
   "cell_type": "code",
   "execution_count": 85,
   "id": "f2cbfce1",
   "metadata": {
    "execution": {
     "iopub.execute_input": "2022-04-22T18:05:47.860388Z",
     "iopub.status.busy": "2022-04-22T18:05:47.859702Z",
     "iopub.status.idle": "2022-04-22T18:05:48.380912Z",
     "shell.execute_reply": "2022-04-22T18:05:48.380360Z",
     "shell.execute_reply.started": "2022-04-22T17:57:22.063350Z"
    },
    "papermill": {
     "duration": 0.732512,
     "end_time": "2022-04-22T18:05:48.381063",
     "exception": false,
     "start_time": "2022-04-22T18:05:47.648551",
     "status": "completed"
    },
    "tags": []
   },
   "outputs": [
    {
     "data": {
      "text/plain": [
       "<AxesSubplot:xlabel='Amenities_log', ylabel='Density'>"
      ]
     },
     "execution_count": 85,
     "metadata": {},
     "output_type": "execute_result"
    },
    {
     "data": {
      "image/png": "[encoded data removed]",
      "text/plain": [
       "<Figure size 432x288 with 1 Axes>"
      ]
     },
     "metadata": {
      "needs_background": "light"
     },
     "output_type": "display_data"
    }
   ],
   "source": [
    "# In order to decrease skew in distributions, I remove outliers and apply the logarithmic transform to the feature.\n",
    "clamp_max = np.percentile(combi_2['Amenities'], 80)\n",
    "combi_2['Amenities_log'] = np.log(1 + np.clip(combi_2['Amenities'], 0, clamp_max))\n",
    "\n",
    "sns.histplot(x='Amenities_log', hue='Transported', stat='density', binwidth=1, element='step', palette='rocket', \n",
    "             data=combi_2[combi_2['Transported'] != 'Unknown'])"
   ]
  },
  {
   "cell_type": "markdown",
   "id": "d05c0a9a",
   "metadata": {
    "papermill": {
     "duration": 0.198812,
     "end_time": "2022-04-22T18:05:48.782011",
     "exception": false,
     "start_time": "2022-04-22T18:05:48.583199",
     "status": "completed"
    },
    "tags": []
   },
   "source": [
    "## Feature (new): *Amenities_bin*"
   ]
  },
  {
   "cell_type": "code",
   "execution_count": 86,
   "id": "c9e0854b",
   "metadata": {
    "execution": {
     "iopub.execute_input": "2022-04-22T18:05:49.194600Z",
     "iopub.status.busy": "2022-04-22T18:05:49.193963Z",
     "iopub.status.idle": "2022-04-22T18:05:49.198665Z",
     "shell.execute_reply": "2022-04-22T18:05:49.198166Z",
     "shell.execute_reply.started": "2022-04-22T17:57:22.319572Z"
    },
    "papermill": {
     "duration": 0.214289,
     "end_time": "2022-04-22T18:05:49.198830",
     "exception": false,
     "start_time": "2022-04-22T18:05:48.984541",
     "status": "completed"
    },
    "tags": []
   },
   "outputs": [],
   "source": [
    "# New feature to store whether the passenger has spent money.\n",
    "combi_2.loc[combi_2['Amenities'] == 0, 'Amenities_bin'] = 0\n",
    "combi_2.loc[combi_2['Amenities'] > 0, 'Amenities_bin'] = 1"
   ]
  },
  {
   "cell_type": "code",
   "execution_count": 87,
   "id": "26f4bbed",
   "metadata": {
    "execution": {
     "iopub.execute_input": "2022-04-22T18:05:49.605676Z",
     "iopub.status.busy": "2022-04-22T18:05:49.605046Z",
     "iopub.status.idle": "2022-04-22T18:05:49.611553Z",
     "shell.execute_reply": "2022-04-22T18:05:49.612163Z",
     "shell.execute_reply.started": "2022-04-22T17:57:22.332633Z"
    },
    "papermill": {
     "duration": 0.21379,
     "end_time": "2022-04-22T18:05:49.612333",
     "exception": false,
     "start_time": "2022-04-22T18:05:49.398543",
     "status": "completed"
    },
    "tags": []
   },
   "outputs": [
    {
     "data": {
      "text/plain": [
       "Amenities_bin\n",
       "1.0    7513\n",
       "0.0    5457\n",
       "Name: Amenities_bin, dtype: int64"
      ]
     },
     "execution_count": 87,
     "metadata": {},
     "output_type": "execute_result"
    }
   ],
   "source": [
    "combi_2.groupby(['Amenities_bin'])['Amenities_bin'].count().sort_values(ascending = False).head()"
   ]
  },
  {
   "cell_type": "code",
   "execution_count": 88,
   "id": "20778f1a",
   "metadata": {
    "execution": {
     "iopub.execute_input": "2022-04-22T18:05:50.023061Z",
     "iopub.status.busy": "2022-04-22T18:05:50.022227Z",
     "iopub.status.idle": "2022-04-22T18:05:50.035483Z",
     "shell.execute_reply": "2022-04-22T18:05:50.035986Z",
     "shell.execute_reply.started": "2022-04-22T17:57:22.350497Z"
    },
    "papermill": {
     "duration": 0.224461,
     "end_time": "2022-04-22T18:05:50.036171",
     "exception": false,
     "start_time": "2022-04-22T18:05:49.811710",
     "status": "completed"
    },
    "tags": []
   },
   "outputs": [],
   "source": [
    "# Replace individual amenities by the new one, and generate new binary features\n",
    "combi_2.loc[combi_2['RoomService'] == 0, 'RoomService_bin'] = 0\n",
    "combi_2.loc[combi_2['RoomService'] > 0, 'RoomService_bin'] = 1\n",
    "\n",
    "combi_2.loc[combi_2['FoodCourt'] == 0, 'FoodCourt_bin'] = 0\n",
    "combi_2.loc[combi_2['FoodCourt'] > 0, 'FoodCourt_bin'] = 1\n",
    "\n",
    "combi_2.loc[combi_2['ShoppingMall'] == 0, 'ShoppingMall_bin'] = 0\n",
    "combi_2.loc[combi_2['ShoppingMall'] > 0, 'ShoppingMall_bin'] = 1\n",
    "\n",
    "combi_2.loc[combi_2['Spa'] == 0, 'Spa_bin'] = 0\n",
    "combi_2.loc[combi_2['Spa'] > 0, 'Spa_bin'] = 1\n",
    "\n",
    "combi_2.loc[combi_2['VRDeck'] == 0, 'VRDeck_bin'] = 0\n",
    "combi_2.loc[combi_2['VRDeck'] > 0, 'VRDeck_bin'] = 1"
   ]
  },
  {
   "cell_type": "markdown",
   "id": "4bc9f141",
   "metadata": {
    "papermill": {
     "duration": 0.197595,
     "end_time": "2022-04-22T18:05:50.435302",
     "exception": false,
     "start_time": "2022-04-22T18:05:50.237707",
     "status": "completed"
    },
    "tags": []
   },
   "source": [
    "## Feature: *Name*"
   ]
  },
  {
   "cell_type": "code",
   "execution_count": 89,
   "id": "6b22b46b",
   "metadata": {
    "execution": {
     "iopub.execute_input": "2022-04-22T18:05:50.852650Z",
     "iopub.status.busy": "2022-04-22T18:05:50.842901Z",
     "iopub.status.idle": "2022-04-22T18:05:50.861699Z",
     "shell.execute_reply": "2022-04-22T18:05:50.862229Z",
     "shell.execute_reply.started": "2022-04-22T17:57:22.372241Z"
    },
    "papermill": {
     "duration": 0.223655,
     "end_time": "2022-04-22T18:05:50.862400",
     "exception": false,
     "start_time": "2022-04-22T18:05:50.638745",
     "status": "completed"
    },
    "tags": []
   },
   "outputs": [
    {
     "data": {
      "text/plain": [
       "count                12676\n",
       "unique               12629\n",
       "top       Carry Contrevins\n",
       "freq                     2\n",
       "Name: Name, dtype: object"
      ]
     },
     "execution_count": 89,
     "metadata": {},
     "output_type": "execute_result"
    }
   ],
   "source": [
    "combi_2['Name'].describe()"
   ]
  },
  {
   "cell_type": "code",
   "execution_count": 90,
   "id": "dc866bfe",
   "metadata": {
    "execution": {
     "iopub.execute_input": "2022-04-22T18:05:51.346934Z",
     "iopub.status.busy": "2022-04-22T18:05:51.346262Z",
     "iopub.status.idle": "2022-04-22T18:05:51.357466Z",
     "shell.execute_reply": "2022-04-22T18:05:51.357993Z",
     "shell.execute_reply.started": "2022-04-22T17:57:22.402030Z"
    },
    "papermill": {
     "duration": 0.241469,
     "end_time": "2022-04-22T18:05:51.358459",
     "exception": false,
     "start_time": "2022-04-22T18:05:51.116990",
     "status": "completed"
    },
    "tags": []
   },
   "outputs": [
    {
     "data": {
      "text/plain": [
       "Name\n",
       "Evendy Buchansen    2\n",
       "Cocors Cola         2\n",
       "Lyney Sellahaney    2\n",
       "Alasmon Meteet      2\n",
       "Roydo Mayson        2\n",
       "Gollux Reedall      2\n",
       "Pennie Mcgoway      2\n",
       "Keitha Josey        2\n",
       "Asch Stradick       2\n",
       "Loree Wolfernan     2\n",
       "Name: Name, dtype: int64"
      ]
     },
     "execution_count": 90,
     "metadata": {},
     "output_type": "execute_result"
    }
   ],
   "source": [
    "combi_2.groupby(['Name'])['Name'].count().sort_values(ascending = False).head(10)"
   ]
  },
  {
   "cell_type": "code",
   "execution_count": 91,
   "id": "0e63bdce",
   "metadata": {
    "execution": {
     "iopub.execute_input": "2022-04-22T18:05:51.806217Z",
     "iopub.status.busy": "2022-04-22T18:05:51.805207Z",
     "iopub.status.idle": "2022-04-22T18:05:51.819232Z",
     "shell.execute_reply": "2022-04-22T18:05:51.819750Z",
     "shell.execute_reply.started": "2022-04-22T17:57:22.422492Z"
    },
    "papermill": {
     "duration": 0.23814,
     "end_time": "2022-04-22T18:05:51.820013",
     "exception": false,
     "start_time": "2022-04-22T18:05:51.581873",
     "status": "completed"
    },
    "tags": []
   },
   "outputs": [],
   "source": [
    "combi_2['Name'].fillna(' Unknown', inplace=True)\n",
    "combi_2['LastName'] = combi_2['Name'].apply(lambda x:x.split(\" \")[1])"
   ]
  },
  {
   "cell_type": "code",
   "execution_count": 92,
   "id": "cce30186",
   "metadata": {
    "execution": {
     "iopub.execute_input": "2022-04-22T18:05:52.244904Z",
     "iopub.status.busy": "2022-04-22T18:05:52.239084Z",
     "iopub.status.idle": "2022-04-22T18:05:52.261144Z",
     "shell.execute_reply": "2022-04-22T18:05:52.261765Z",
     "shell.execute_reply.started": "2022-04-22T17:57:22.436277Z"
    },
    "papermill": {
     "duration": 0.229161,
     "end_time": "2022-04-22T18:05:52.261984",
     "exception": false,
     "start_time": "2022-04-22T18:05:52.032823",
     "status": "completed"
    },
    "tags": []
   },
   "outputs": [
    {
     "data": {
      "text/plain": [
       "LastName\n",
       "Unknown        294\n",
       "Buckentry       19\n",
       "Belley          19\n",
       "Casonston       18\n",
       "Fowlesterez     18\n",
       "Hinglendez      18\n",
       "Gibbsonton      17\n",
       "Mclardson       17\n",
       "Domington       17\n",
       "Haydenzier      16\n",
       "Name: LastName, dtype: int64"
      ]
     },
     "execution_count": 92,
     "metadata": {},
     "output_type": "execute_result"
    }
   ],
   "source": [
    "combi_2.groupby(['LastName'])['LastName'].count().sort_values(ascending = False).head(10)"
   ]
  },
  {
   "cell_type": "markdown",
   "id": "9f2fac4c",
   "metadata": {
    "papermill": {
     "duration": 0.201147,
     "end_time": "2022-04-22T18:05:52.667042",
     "exception": false,
     "start_time": "2022-04-22T18:05:52.465895",
     "status": "completed"
    },
    "tags": []
   },
   "source": [
    "## Feature (new): *FamilyMembers*"
   ]
  },
  {
   "cell_type": "code",
   "execution_count": 93,
   "id": "40241df9",
   "metadata": {
    "execution": {
     "iopub.execute_input": "2022-04-22T18:05:53.107001Z",
     "iopub.status.busy": "2022-04-22T18:05:53.106301Z",
     "iopub.status.idle": "2022-04-22T18:05:53.136223Z",
     "shell.execute_reply": "2022-04-22T18:05:53.136831Z",
     "shell.execute_reply.started": "2022-04-22T17:57:22.460239Z"
    },
    "papermill": {
     "duration": 0.257473,
     "end_time": "2022-04-22T18:05:53.137027",
     "exception": false,
     "start_time": "2022-04-22T18:05:52.879554",
     "status": "completed"
    },
    "tags": []
   },
   "outputs": [],
   "source": [
    "# Get the number of members of every family (peoplpe with the same last name and in the same group)\n",
    "combi_2['FamilyMembers'] = combi_2.groupby(['LastName', 'GroupID'])['PassengerId'].transform('count')"
   ]
  },
  {
   "cell_type": "code",
   "execution_count": 94,
   "id": "0faee6df",
   "metadata": {
    "execution": {
     "iopub.execute_input": "2022-04-22T18:05:53.571387Z",
     "iopub.status.busy": "2022-04-22T18:05:53.570624Z",
     "iopub.status.idle": "2022-04-22T18:05:53.577321Z",
     "shell.execute_reply": "2022-04-22T18:05:53.577829Z",
     "shell.execute_reply.started": "2022-04-22T17:57:22.483494Z"
    },
    "papermill": {
     "duration": 0.228548,
     "end_time": "2022-04-22T18:05:53.578052",
     "exception": false,
     "start_time": "2022-04-22T18:05:53.349504",
     "status": "completed"
    },
    "tags": []
   },
   "outputs": [
    {
     "data": {
      "text/plain": [
       "FamilyMembers\n",
       "1    7793\n",
       "2    2684\n",
       "3    1350\n",
       "4     556\n",
       "5     270\n",
       "6     180\n",
       "7     105\n",
       "8      32\n",
       "Name: FamilyMembers, dtype: int64"
      ]
     },
     "execution_count": 94,
     "metadata": {},
     "output_type": "execute_result"
    }
   ],
   "source": [
    "combi_2.groupby(['FamilyMembers'])['FamilyMembers'].count().head(10)"
   ]
  },
  {
   "cell_type": "code",
   "execution_count": 95,
   "id": "abffbb24",
   "metadata": {
    "execution": {
     "iopub.execute_input": "2022-04-22T18:05:54.008327Z",
     "iopub.status.busy": "2022-04-22T18:05:54.002500Z",
     "iopub.status.idle": "2022-04-22T18:05:54.011207Z",
     "shell.execute_reply": "2022-04-22T18:05:54.011930Z",
     "shell.execute_reply.started": "2022-04-22T17:57:22.497158Z"
    },
    "papermill": {
     "duration": 0.223442,
     "end_time": "2022-04-22T18:05:54.012124",
     "exception": false,
     "start_time": "2022-04-22T18:05:53.788682",
     "status": "completed"
    },
    "tags": []
   },
   "outputs": [],
   "source": [
    "# In case the LastName is 'Unknown', the value should be 0 (no relatives)\n",
    "combi_2.loc[combi_2['LastName'] == 'Unknown', 'FamilyMembers'] = 0"
   ]
  },
  {
   "cell_type": "code",
   "execution_count": 96,
   "id": "f4b95cf9",
   "metadata": {
    "execution": {
     "iopub.execute_input": "2022-04-22T18:05:54.437415Z",
     "iopub.status.busy": "2022-04-22T18:05:54.436662Z",
     "iopub.status.idle": "2022-04-22T18:05:54.767284Z",
     "shell.execute_reply": "2022-04-22T18:05:54.767785Z",
     "shell.execute_reply.started": "2022-04-22T17:57:22.511338Z"
    },
    "papermill": {
     "duration": 0.544107,
     "end_time": "2022-04-22T18:05:54.768006",
     "exception": false,
     "start_time": "2022-04-22T18:05:54.223899",
     "status": "completed"
    },
    "tags": []
   },
   "outputs": [
    {
     "data": {
      "text/plain": [
       "<AxesSubplot:xlabel='FamilyMembers', ylabel='count'>"
      ]
     },
     "execution_count": 96,
     "metadata": {},
     "output_type": "execute_result"
    },
    {
     "data": {
      "image/png": "[encoded data removed]",
      "text/plain": [
       "<Figure size 432x288 with 1 Axes>"
      ]
     },
     "metadata": {
      "needs_background": "light"
     },
     "output_type": "display_data"
    }
   ],
   "source": [
    "# Let's see the relationship between FamilyMembers and Transported\n",
    "sns.countplot(x='FamilyMembers', hue='Transported', palette='rocket',\n",
    "              data=combi_2[combi_2['Transported'] != 'Unknown'])"
   ]
  },
  {
   "cell_type": "markdown",
   "id": "7078c762",
   "metadata": {
    "papermill": {
     "duration": 0.210536,
     "end_time": "2022-04-22T18:05:55.189782",
     "exception": false,
     "start_time": "2022-04-22T18:05:54.979246",
     "status": "completed"
    },
    "tags": []
   },
   "source": [
    "## Feature (new): *FamilyID*"
   ]
  },
  {
   "cell_type": "code",
   "execution_count": 97,
   "id": "b9228cd8",
   "metadata": {
    "execution": {
     "iopub.execute_input": "2022-04-22T18:05:55.628424Z",
     "iopub.status.busy": "2022-04-22T18:05:55.627695Z",
     "iopub.status.idle": "2022-04-22T18:05:55.630367Z",
     "shell.execute_reply": "2022-04-22T18:05:55.629875Z",
     "shell.execute_reply.started": "2022-04-22T17:57:22.782888Z"
    },
    "papermill": {
     "duration": 0.228828,
     "end_time": "2022-04-22T18:05:55.630507",
     "exception": false,
     "start_time": "2022-04-22T18:05:55.401679",
     "status": "completed"
    },
    "tags": []
   },
   "outputs": [],
   "source": [
    "# I generate a family ID. I't es very close to the Group ID, but conceptually are different.\n",
    "combi_2['FamilyID'] = combi_2['LastName'] + '-' + combi_2['GroupID'] "
   ]
  },
  {
   "cell_type": "code",
   "execution_count": 98,
   "id": "40d6b8f4",
   "metadata": {
    "execution": {
     "iopub.execute_input": "2022-04-22T18:05:56.054778Z",
     "iopub.status.busy": "2022-04-22T18:05:56.054136Z",
     "iopub.status.idle": "2022-04-22T18:05:56.075280Z",
     "shell.execute_reply": "2022-04-22T18:05:56.075887Z",
     "shell.execute_reply.started": "2022-04-22T17:57:22.794614Z"
    },
    "papermill": {
     "duration": 0.241336,
     "end_time": "2022-04-22T18:05:56.076100",
     "exception": false,
     "start_time": "2022-04-22T18:05:55.834764",
     "status": "completed"
    },
    "tags": []
   },
   "outputs": [
    {
     "data": {
      "text/html": [
       "<div>\n",
       "<style scoped>\n",
       "    .dataframe tbody tr th:only-of-type {\n",
       "        vertical-align: middle;\n",
       "    }\n",
       "\n",
       "    .dataframe tbody tr th {\n",
       "        vertical-align: top;\n",
       "    }\n",
       "\n",
       "    .dataframe thead th {\n",
       "        text-align: right;\n",
       "    }\n",
       "</style>\n",
       "<table border=\"1\" class=\"dataframe\">\n",
       "  <thead>\n",
       "    <tr style=\"text-align: right;\">\n",
       "      <th></th>\n",
       "      <th>FamilyID</th>\n",
       "      <th>GroupID</th>\n",
       "      <th>FamilyMembers</th>\n",
       "      <th>GroupMembers</th>\n",
       "    </tr>\n",
       "  </thead>\n",
       "  <tbody>\n",
       "    <tr>\n",
       "      <th>12947</th>\n",
       "      <td>Garnettiz-9238</td>\n",
       "      <td>9238</td>\n",
       "      <td>2</td>\n",
       "      <td>7</td>\n",
       "    </tr>\n",
       "    <tr>\n",
       "      <th>12948</th>\n",
       "      <td>Emenez-9238</td>\n",
       "      <td>9238</td>\n",
       "      <td>5</td>\n",
       "      <td>7</td>\n",
       "    </tr>\n",
       "    <tr>\n",
       "      <th>12949</th>\n",
       "      <td>Emenez-9238</td>\n",
       "      <td>9238</td>\n",
       "      <td>5</td>\n",
       "      <td>7</td>\n",
       "    </tr>\n",
       "    <tr>\n",
       "      <th>12950</th>\n",
       "      <td>Emenez-9238</td>\n",
       "      <td>9238</td>\n",
       "      <td>5</td>\n",
       "      <td>7</td>\n",
       "    </tr>\n",
       "    <tr>\n",
       "      <th>12951</th>\n",
       "      <td>Emenez-9238</td>\n",
       "      <td>9238</td>\n",
       "      <td>5</td>\n",
       "      <td>7</td>\n",
       "    </tr>\n",
       "    <tr>\n",
       "      <th>12952</th>\n",
       "      <td>Garnettiz-9238</td>\n",
       "      <td>9238</td>\n",
       "      <td>2</td>\n",
       "      <td>7</td>\n",
       "    </tr>\n",
       "    <tr>\n",
       "      <th>12953</th>\n",
       "      <td>Emenez-9238</td>\n",
       "      <td>9238</td>\n",
       "      <td>5</td>\n",
       "      <td>7</td>\n",
       "    </tr>\n",
       "  </tbody>\n",
       "</table>\n",
       "</div>"
      ],
      "text/plain": [
       "             FamilyID GroupID  FamilyMembers  GroupMembers\n",
       "12947  Garnettiz-9238    9238              2             7\n",
       "12948     Emenez-9238    9238              5             7\n",
       "12949     Emenez-9238    9238              5             7\n",
       "12950     Emenez-9238    9238              5             7\n",
       "12951     Emenez-9238    9238              5             7\n",
       "12952  Garnettiz-9238    9238              2             7\n",
       "12953     Emenez-9238    9238              5             7"
      ]
     },
     "execution_count": 98,
     "metadata": {},
     "output_type": "execute_result"
    }
   ],
   "source": [
    "combi_2[['FamilyID', 'GroupID', 'FamilyMembers', 'GroupMembers']] \\\n",
    "    [(combi_2['GroupID'] == '9238')] \\\n",
    "    .sort_values('GroupID', ascending=False)"
   ]
  },
  {
   "cell_type": "markdown",
   "id": "f8530372",
   "metadata": {
    "papermill": {
     "duration": 0.208905,
     "end_time": "2022-04-22T18:05:56.489773",
     "exception": false,
     "start_time": "2022-04-22T18:05:56.280868",
     "status": "completed"
    },
    "tags": []
   },
   "source": [
    "## Feature (new): *FamilyExpense*"
   ]
  },
  {
   "cell_type": "code",
   "execution_count": 99,
   "id": "cf074bda",
   "metadata": {
    "execution": {
     "iopub.execute_input": "2022-04-22T18:05:56.906215Z",
     "iopub.status.busy": "2022-04-22T18:05:56.905491Z",
     "iopub.status.idle": "2022-04-22T18:05:56.922754Z",
     "shell.execute_reply": "2022-04-22T18:05:56.923234Z",
     "shell.execute_reply.started": "2022-04-22T17:57:22.828118Z"
    },
    "papermill": {
     "duration": 0.224467,
     "end_time": "2022-04-22T18:05:56.923414",
     "exception": false,
     "start_time": "2022-04-22T18:05:56.698947",
     "status": "completed"
    },
    "tags": []
   },
   "outputs": [
    {
     "data": {
      "text/html": [
       "<div>\n",
       "<style scoped>\n",
       "    .dataframe tbody tr th:only-of-type {\n",
       "        vertical-align: middle;\n",
       "    }\n",
       "\n",
       "    .dataframe tbody tr th {\n",
       "        vertical-align: top;\n",
       "    }\n",
       "\n",
       "    .dataframe thead th {\n",
       "        text-align: right;\n",
       "    }\n",
       "</style>\n",
       "<table border=\"1\" class=\"dataframe\">\n",
       "  <thead>\n",
       "    <tr style=\"text-align: right;\">\n",
       "      <th></th>\n",
       "      <th>FamilyID</th>\n",
       "      <th>GroupID</th>\n",
       "      <th>FamilyMembers</th>\n",
       "      <th>GroupMembers</th>\n",
       "      <th>Amenities</th>\n",
       "    </tr>\n",
       "  </thead>\n",
       "  <tbody>\n",
       "    <tr>\n",
       "      <th>12947</th>\n",
       "      <td>Garnettiz-9238</td>\n",
       "      <td>9238</td>\n",
       "      <td>2</td>\n",
       "      <td>7</td>\n",
       "      <td>0.0</td>\n",
       "    </tr>\n",
       "    <tr>\n",
       "      <th>12948</th>\n",
       "      <td>Emenez-9238</td>\n",
       "      <td>9238</td>\n",
       "      <td>5</td>\n",
       "      <td>7</td>\n",
       "      <td>0.0</td>\n",
       "    </tr>\n",
       "    <tr>\n",
       "      <th>12949</th>\n",
       "      <td>Emenez-9238</td>\n",
       "      <td>9238</td>\n",
       "      <td>5</td>\n",
       "      <td>7</td>\n",
       "      <td>0.0</td>\n",
       "    </tr>\n",
       "    <tr>\n",
       "      <th>12950</th>\n",
       "      <td>Emenez-9238</td>\n",
       "      <td>9238</td>\n",
       "      <td>5</td>\n",
       "      <td>7</td>\n",
       "      <td>884.0</td>\n",
       "    </tr>\n",
       "    <tr>\n",
       "      <th>12951</th>\n",
       "      <td>Emenez-9238</td>\n",
       "      <td>9238</td>\n",
       "      <td>5</td>\n",
       "      <td>7</td>\n",
       "      <td>0.0</td>\n",
       "    </tr>\n",
       "    <tr>\n",
       "      <th>12952</th>\n",
       "      <td>Garnettiz-9238</td>\n",
       "      <td>9238</td>\n",
       "      <td>2</td>\n",
       "      <td>7</td>\n",
       "      <td>0.0</td>\n",
       "    </tr>\n",
       "    <tr>\n",
       "      <th>12953</th>\n",
       "      <td>Emenez-9238</td>\n",
       "      <td>9238</td>\n",
       "      <td>5</td>\n",
       "      <td>7</td>\n",
       "      <td>2757.0</td>\n",
       "    </tr>\n",
       "  </tbody>\n",
       "</table>\n",
       "</div>"
      ],
      "text/plain": [
       "             FamilyID GroupID  FamilyMembers  GroupMembers  Amenities\n",
       "12947  Garnettiz-9238    9238              2             7        0.0\n",
       "12948     Emenez-9238    9238              5             7        0.0\n",
       "12949     Emenez-9238    9238              5             7        0.0\n",
       "12950     Emenez-9238    9238              5             7      884.0\n",
       "12951     Emenez-9238    9238              5             7        0.0\n",
       "12952  Garnettiz-9238    9238              2             7        0.0\n",
       "12953     Emenez-9238    9238              5             7     2757.0"
      ]
     },
     "execution_count": 99,
     "metadata": {},
     "output_type": "execute_result"
    }
   ],
   "source": [
    "# I see than the family expense is made by only one of the members (in general).\n",
    "combi_2[['FamilyID', 'GroupID', 'FamilyMembers', 'GroupMembers', 'Amenities']] \\\n",
    "    [(combi_2['GroupID'] == '9238')] \\\n",
    "    .sort_values('GroupID', ascending=False)"
   ]
  },
  {
   "cell_type": "code",
   "execution_count": 100,
   "id": "1d2ad547",
   "metadata": {
    "execution": {
     "iopub.execute_input": "2022-04-22T18:05:57.337343Z",
     "iopub.status.busy": "2022-04-22T18:05:57.336646Z",
     "iopub.status.idle": "2022-04-22T18:05:57.361169Z",
     "shell.execute_reply": "2022-04-22T18:05:57.361705Z",
     "shell.execute_reply.started": "2022-04-22T17:57:22.848136Z"
    },
    "papermill": {
     "duration": 0.232579,
     "end_time": "2022-04-22T18:05:57.361898",
     "exception": false,
     "start_time": "2022-04-22T18:05:57.129319",
     "status": "completed"
    },
    "tags": []
   },
   "outputs": [],
   "source": [
    "combi_2['FamilyExpense'] = combi_2.groupby(['FamilyID'])['Amenities'].transform('sum')"
   ]
  },
  {
   "cell_type": "markdown",
   "id": "c25b28aa",
   "metadata": {
    "papermill": {
     "duration": 0.203755,
     "end_time": "2022-04-22T18:05:57.770753",
     "exception": false,
     "start_time": "2022-04-22T18:05:57.566998",
     "status": "completed"
    },
    "tags": []
   },
   "source": [
    "## Feature (new): *IndividualExpense*"
   ]
  },
  {
   "cell_type": "code",
   "execution_count": 101,
   "id": "0d66f163",
   "metadata": {
    "execution": {
     "iopub.execute_input": "2022-04-22T18:05:58.184417Z",
     "iopub.status.busy": "2022-04-22T18:05:58.183414Z",
     "iopub.status.idle": "2022-04-22T18:05:58.188873Z",
     "shell.execute_reply": "2022-04-22T18:05:58.189406Z",
     "shell.execute_reply.started": "2022-04-22T17:57:22.883898Z"
    },
    "papermill": {
     "duration": 0.214485,
     "end_time": "2022-04-22T18:05:58.189582",
     "exception": false,
     "start_time": "2022-04-22T18:05:57.975097",
     "status": "completed"
    },
    "tags": []
   },
   "outputs": [],
   "source": [
    "# It's more accurate the individual expense than the Amenities and the total family expense.\n",
    "combi_2['IndividualExpense'] = combi_2['FamilyExpense'] / combi_2['FamilyMembers']"
   ]
  },
  {
   "cell_type": "code",
   "execution_count": 102,
   "id": "9ae931c1",
   "metadata": {
    "execution": {
     "iopub.execute_input": "2022-04-22T18:05:58.605492Z",
     "iopub.status.busy": "2022-04-22T18:05:58.604457Z",
     "iopub.status.idle": "2022-04-22T18:05:58.628568Z",
     "shell.execute_reply": "2022-04-22T18:05:58.629137Z",
     "shell.execute_reply.started": "2022-04-22T17:57:22.891322Z"
    },
    "papermill": {
     "duration": 0.234721,
     "end_time": "2022-04-22T18:05:58.629319",
     "exception": false,
     "start_time": "2022-04-22T18:05:58.394598",
     "status": "completed"
    },
    "tags": []
   },
   "outputs": [
    {
     "data": {
      "text/html": [
       "<div>\n",
       "<style scoped>\n",
       "    .dataframe tbody tr th:only-of-type {\n",
       "        vertical-align: middle;\n",
       "    }\n",
       "\n",
       "    .dataframe tbody tr th {\n",
       "        vertical-align: top;\n",
       "    }\n",
       "\n",
       "    .dataframe thead th {\n",
       "        text-align: right;\n",
       "    }\n",
       "</style>\n",
       "<table border=\"1\" class=\"dataframe\">\n",
       "  <thead>\n",
       "    <tr style=\"text-align: right;\">\n",
       "      <th></th>\n",
       "      <th>FamilyID</th>\n",
       "      <th>GroupID</th>\n",
       "      <th>FamilyMembers</th>\n",
       "      <th>GroupMembers</th>\n",
       "      <th>Amenities</th>\n",
       "      <th>FamilyExpense</th>\n",
       "      <th>IndividualExpense</th>\n",
       "    </tr>\n",
       "  </thead>\n",
       "  <tbody>\n",
       "    <tr>\n",
       "      <th>12947</th>\n",
       "      <td>Garnettiz-9238</td>\n",
       "      <td>9238</td>\n",
       "      <td>2</td>\n",
       "      <td>7</td>\n",
       "      <td>0.0</td>\n",
       "      <td>0.0</td>\n",
       "      <td>0.0</td>\n",
       "    </tr>\n",
       "    <tr>\n",
       "      <th>12948</th>\n",
       "      <td>Emenez-9238</td>\n",
       "      <td>9238</td>\n",
       "      <td>5</td>\n",
       "      <td>7</td>\n",
       "      <td>0.0</td>\n",
       "      <td>3641.0</td>\n",
       "      <td>728.2</td>\n",
       "    </tr>\n",
       "    <tr>\n",
       "      <th>12949</th>\n",
       "      <td>Emenez-9238</td>\n",
       "      <td>9238</td>\n",
       "      <td>5</td>\n",
       "      <td>7</td>\n",
       "      <td>0.0</td>\n",
       "      <td>3641.0</td>\n",
       "      <td>728.2</td>\n",
       "    </tr>\n",
       "    <tr>\n",
       "      <th>12950</th>\n",
       "      <td>Emenez-9238</td>\n",
       "      <td>9238</td>\n",
       "      <td>5</td>\n",
       "      <td>7</td>\n",
       "      <td>884.0</td>\n",
       "      <td>3641.0</td>\n",
       "      <td>728.2</td>\n",
       "    </tr>\n",
       "    <tr>\n",
       "      <th>12951</th>\n",
       "      <td>Emenez-9238</td>\n",
       "      <td>9238</td>\n",
       "      <td>5</td>\n",
       "      <td>7</td>\n",
       "      <td>0.0</td>\n",
       "      <td>3641.0</td>\n",
       "      <td>728.2</td>\n",
       "    </tr>\n",
       "    <tr>\n",
       "      <th>12952</th>\n",
       "      <td>Garnettiz-9238</td>\n",
       "      <td>9238</td>\n",
       "      <td>2</td>\n",
       "      <td>7</td>\n",
       "      <td>0.0</td>\n",
       "      <td>0.0</td>\n",
       "      <td>0.0</td>\n",
       "    </tr>\n",
       "    <tr>\n",
       "      <th>12953</th>\n",
       "      <td>Emenez-9238</td>\n",
       "      <td>9238</td>\n",
       "      <td>5</td>\n",
       "      <td>7</td>\n",
       "      <td>2757.0</td>\n",
       "      <td>3641.0</td>\n",
       "      <td>728.2</td>\n",
       "    </tr>\n",
       "  </tbody>\n",
       "</table>\n",
       "</div>"
      ],
      "text/plain": [
       "             FamilyID GroupID  FamilyMembers  GroupMembers  Amenities  \\\n",
       "12947  Garnettiz-9238    9238              2             7        0.0   \n",
       "12948     Emenez-9238    9238              5             7        0.0   \n",
       "12949     Emenez-9238    9238              5             7        0.0   \n",
       "12950     Emenez-9238    9238              5             7      884.0   \n",
       "12951     Emenez-9238    9238              5             7        0.0   \n",
       "12952  Garnettiz-9238    9238              2             7        0.0   \n",
       "12953     Emenez-9238    9238              5             7     2757.0   \n",
       "\n",
       "       FamilyExpense  IndividualExpense  \n",
       "12947            0.0                0.0  \n",
       "12948         3641.0              728.2  \n",
       "12949         3641.0              728.2  \n",
       "12950         3641.0              728.2  \n",
       "12951         3641.0              728.2  \n",
       "12952            0.0                0.0  \n",
       "12953         3641.0              728.2  "
      ]
     },
     "execution_count": 102,
     "metadata": {},
     "output_type": "execute_result"
    }
   ],
   "source": [
    "combi_2[['FamilyID', 'GroupID', 'FamilyMembers', 'GroupMembers', 'Amenities', 'FamilyExpense', 'IndividualExpense']] \\\n",
    "    [(combi_2['GroupID'] == '9238')] \\\n",
    "    .sort_values('GroupID', ascending=False)"
   ]
  },
  {
   "cell_type": "code",
   "execution_count": 103,
   "id": "f6c6aece",
   "metadata": {
    "execution": {
     "iopub.execute_input": "2022-04-22T18:05:59.044279Z",
     "iopub.status.busy": "2022-04-22T18:05:59.043283Z",
     "iopub.status.idle": "2022-04-22T18:05:59.049195Z",
     "shell.execute_reply": "2022-04-22T18:05:59.049753Z",
     "shell.execute_reply.started": "2022-04-22T17:57:22.929312Z"
    },
    "papermill": {
     "duration": 0.214836,
     "end_time": "2022-04-22T18:05:59.049956",
     "exception": false,
     "start_time": "2022-04-22T18:05:58.835120",
     "status": "completed"
    },
    "tags": []
   },
   "outputs": [],
   "source": [
    "# If the family expense is 0, the individual amount will be null or infinite. I set these values to 0.\n",
    "combi_2.loc[combi_2['IndividualExpense'].isin([np.inf, -np.inf, np.nan]), 'IndividualExpense'] = 0"
   ]
  },
  {
   "cell_type": "markdown",
   "id": "248f14b2",
   "metadata": {
    "papermill": {
     "duration": 0.202027,
     "end_time": "2022-04-22T18:05:59.455632",
     "exception": false,
     "start_time": "2022-04-22T18:05:59.253605",
     "status": "completed"
    },
    "tags": []
   },
   "source": [
    "## Feature: *Transported*"
   ]
  },
  {
   "cell_type": "code",
   "execution_count": 104,
   "id": "6243e6d7",
   "metadata": {
    "execution": {
     "iopub.execute_input": "2022-04-22T18:05:59.866242Z",
     "iopub.status.busy": "2022-04-22T18:05:59.865300Z",
     "iopub.status.idle": "2022-04-22T18:05:59.871932Z",
     "shell.execute_reply": "2022-04-22T18:05:59.872387Z",
     "shell.execute_reply.started": "2022-04-22T17:57:22.937035Z"
    },
    "papermill": {
     "duration": 0.213029,
     "end_time": "2022-04-22T18:05:59.872559",
     "exception": false,
     "start_time": "2022-04-22T18:05:59.659530",
     "status": "completed"
    },
    "tags": []
   },
   "outputs": [
    {
     "data": {
      "text/plain": [
       "array([False, True, 'Unknown'], dtype=object)"
      ]
     },
     "execution_count": 104,
     "metadata": {},
     "output_type": "execute_result"
    }
   ],
   "source": [
    "combi_2['Transported'].unique()"
   ]
  },
  {
   "cell_type": "code",
   "execution_count": 105,
   "id": "bd3de1a5",
   "metadata": {
    "execution": {
     "iopub.execute_input": "2022-04-22T18:06:00.285133Z",
     "iopub.status.busy": "2022-04-22T18:06:00.284447Z",
     "iopub.status.idle": "2022-04-22T18:06:00.301249Z",
     "shell.execute_reply": "2022-04-22T18:06:00.301909Z",
     "shell.execute_reply.started": "2022-04-22T17:57:22.958059Z"
    },
    "papermill": {
     "duration": 0.224347,
     "end_time": "2022-04-22T18:06:00.302143",
     "exception": false,
     "start_time": "2022-04-22T18:06:00.077796",
     "status": "completed"
    },
    "tags": []
   },
   "outputs": [],
   "source": [
    "# Convert logic values to integers\n",
    "combi_2['Transported'] = combi_2['Transported'].replace({False:0, True:1, 'Unknown':2})"
   ]
  },
  {
   "cell_type": "markdown",
   "id": "8b6d7203",
   "metadata": {
    "papermill": {
     "duration": 0.204912,
     "end_time": "2022-04-22T18:06:00.735526",
     "exception": false,
     "start_time": "2022-04-22T18:06:00.530614",
     "status": "completed"
    },
    "tags": []
   },
   "source": [
    "<a id='impute_missing'></a>\n",
    "# 3.1 Impute missing values"
   ]
  },
  {
   "cell_type": "markdown",
   "id": "531bfcb7",
   "metadata": {
    "papermill": {
     "duration": 0.203063,
     "end_time": "2022-04-22T18:06:01.143179",
     "exception": false,
     "start_time": "2022-04-22T18:06:00.940116",
     "status": "completed"
    },
    "tags": []
   },
   "source": [
    "## Impute: *HomePlanet*"
   ]
  },
  {
   "cell_type": "code",
   "execution_count": 106,
   "id": "6a66b56b",
   "metadata": {
    "execution": {
     "iopub.execute_input": "2022-04-22T18:06:01.555128Z",
     "iopub.status.busy": "2022-04-22T18:06:01.554398Z",
     "iopub.status.idle": "2022-04-22T18:06:01.593345Z",
     "shell.execute_reply": "2022-04-22T18:06:01.593896Z",
     "shell.execute_reply.started": "2022-04-22T17:57:22.987968Z"
    },
    "papermill": {
     "duration": 0.24661,
     "end_time": "2022-04-22T18:06:01.594071",
     "exception": false,
     "start_time": "2022-04-22T18:06:01.347461",
     "status": "completed"
    },
    "tags": []
   },
   "outputs": [
    {
     "data": {
      "text/html": [
       "<div>\n",
       "<style scoped>\n",
       "    .dataframe tbody tr th:only-of-type {\n",
       "        vertical-align: middle;\n",
       "    }\n",
       "\n",
       "    .dataframe tbody tr th {\n",
       "        vertical-align: top;\n",
       "    }\n",
       "\n",
       "    .dataframe thead th {\n",
       "        text-align: right;\n",
       "    }\n",
       "</style>\n",
       "<table border=\"1\" class=\"dataframe\">\n",
       "  <thead>\n",
       "    <tr style=\"text-align: right;\">\n",
       "      <th>HomePlanet</th>\n",
       "      <th>Earth</th>\n",
       "      <th>Europa</th>\n",
       "      <th>Mars</th>\n",
       "    </tr>\n",
       "    <tr>\n",
       "      <th>GroupID</th>\n",
       "      <th></th>\n",
       "      <th></th>\n",
       "      <th></th>\n",
       "    </tr>\n",
       "  </thead>\n",
       "  <tbody>\n",
       "    <tr>\n",
       "      <th>0001</th>\n",
       "      <td>0.0</td>\n",
       "      <td>1.0</td>\n",
       "      <td>0.0</td>\n",
       "    </tr>\n",
       "    <tr>\n",
       "      <th>0002</th>\n",
       "      <td>1.0</td>\n",
       "      <td>0.0</td>\n",
       "      <td>0.0</td>\n",
       "    </tr>\n",
       "    <tr>\n",
       "      <th>0003</th>\n",
       "      <td>0.0</td>\n",
       "      <td>2.0</td>\n",
       "      <td>0.0</td>\n",
       "    </tr>\n",
       "    <tr>\n",
       "      <th>0004</th>\n",
       "      <td>1.0</td>\n",
       "      <td>0.0</td>\n",
       "      <td>0.0</td>\n",
       "    </tr>\n",
       "    <tr>\n",
       "      <th>0005</th>\n",
       "      <td>1.0</td>\n",
       "      <td>0.0</td>\n",
       "      <td>0.0</td>\n",
       "    </tr>\n",
       "  </tbody>\n",
       "</table>\n",
       "</div>"
      ],
      "text/plain": [
       "HomePlanet  Earth  Europa  Mars\n",
       "GroupID                        \n",
       "0001          0.0     1.0   0.0\n",
       "0002          1.0     0.0   0.0\n",
       "0003          0.0     2.0   0.0\n",
       "0004          1.0     0.0   0.0\n",
       "0005          1.0     0.0   0.0"
      ]
     },
     "execution_count": 106,
     "metadata": {},
     "output_type": "execute_result"
    }
   ],
   "source": [
    "# Joint distribution of Group and HomePlanet\n",
    "GHP_gb = combi_2.groupby(['GroupID','HomePlanet'])['HomePlanet'].size().unstack().fillna(0)\n",
    "GHP_gb.head()"
   ]
  },
  {
   "cell_type": "code",
   "execution_count": 107,
   "id": "616db3e4",
   "metadata": {
    "execution": {
     "iopub.execute_input": "2022-04-22T18:06:02.022142Z",
     "iopub.status.busy": "2022-04-22T18:06:02.021173Z",
     "iopub.status.idle": "2022-04-22T18:06:04.102211Z",
     "shell.execute_reply": "2022-04-22T18:06:04.101675Z",
     "shell.execute_reply.started": "2022-04-22T17:57:23.035015Z"
    },
    "papermill": {
     "duration": 2.299448,
     "end_time": "2022-04-22T18:06:04.102383",
     "exception": false,
     "start_time": "2022-04-22T18:06:01.802935",
     "status": "completed"
    },
    "tags": []
   },
   "outputs": [
    {
     "name": "stdout",
     "output_type": "stream",
     "text": [
      "#HomePlanet missing values before: 288\n",
      "#HomePlanet missing values after: 157\n"
     ]
    }
   ],
   "source": [
    "# Missing values imputation\n",
    "# (Extracted from SAMUEL CORTINHAS notebook)\n",
    "HP_bef = combi_2['HomePlanet'].isna().sum()\n",
    "\n",
    "# Passengers with missing HomePlanet and in a group with known HomePlanet\n",
    "GHP_index = combi_2[combi_2['HomePlanet'].isna()][(combi_2[combi_2['HomePlanet'].isna()]['GroupID']).isin(GHP_gb.index)].index\n",
    "\n",
    "# Fill corresponding missing values\n",
    "combi_2.loc[GHP_index,'HomePlanet'] = combi_2.iloc[GHP_index,:]['GroupID'].map(lambda x: GHP_gb.idxmax(axis=1)[x])\n",
    "\n",
    "# Print number of missing values left\n",
    "print('#HomePlanet missing values before:', HP_bef)\n",
    "print('#HomePlanet missing values after:', combi_2['HomePlanet'].isna().sum())"
   ]
  },
  {
   "cell_type": "code",
   "execution_count": 108,
   "id": "e4da36d5",
   "metadata": {
    "execution": {
     "iopub.execute_input": "2022-04-22T18:06:04.527078Z",
     "iopub.status.busy": "2022-04-22T18:06:04.526047Z",
     "iopub.status.idle": "2022-04-22T18:06:04.885245Z",
     "shell.execute_reply": "2022-04-22T18:06:04.885779Z",
     "shell.execute_reply.started": "2022-04-22T17:57:24.272878Z"
    },
    "papermill": {
     "duration": 0.574658,
     "end_time": "2022-04-22T18:06:04.886011",
     "exception": false,
     "start_time": "2022-04-22T18:06:04.311353",
     "status": "completed"
    },
    "tags": []
   },
   "outputs": [
    {
     "data": {
      "text/plain": [
       "<AxesSubplot:xlabel='Deck', ylabel='HomePlanet'>"
      ]
     },
     "execution_count": 108,
     "metadata": {},
     "output_type": "execute_result"
    },
    {
     "data": {
      "image/png": "[encoded data removed]",
      "text/plain": [
       "<Figure size 720x288 with 2 Axes>"
      ]
     },
     "metadata": {
      "needs_background": "light"
     },
     "output_type": "display_data"
    }
   ],
   "source": [
    "# Joint distribution of CabinDeck and HomePlanet\n",
    "CDHP_gb = combi_2.groupby(['Deck','HomePlanet'])['HomePlanet'].size().unstack().fillna(0)\n",
    "\n",
    "# Heatmap of missing values\n",
    "plt.figure(figsize=(10,4))\n",
    "sns.heatmap(CDHP_gb.T, annot=True, fmt='g', cmap='rocket_r')"
   ]
  },
  {
   "cell_type": "code",
   "execution_count": 109,
   "id": "15616f7f",
   "metadata": {
    "execution": {
     "iopub.execute_input": "2022-04-22T18:06:05.314761Z",
     "iopub.status.busy": "2022-04-22T18:06:05.314072Z",
     "iopub.status.idle": "2022-04-22T18:06:05.331306Z",
     "shell.execute_reply": "2022-04-22T18:06:05.330662Z",
     "shell.execute_reply.started": "2022-04-22T17:57:24.533988Z"
    },
    "papermill": {
     "duration": 0.234859,
     "end_time": "2022-04-22T18:06:05.331456",
     "exception": false,
     "start_time": "2022-04-22T18:06:05.096597",
     "status": "completed"
    },
    "tags": []
   },
   "outputs": [
    {
     "name": "stdout",
     "output_type": "stream",
     "text": [
      "#HomePlanet missing values before: 157\n",
      "#HomePlanet missing values after: 94\n"
     ]
    }
   ],
   "source": [
    "# Missing values before\n",
    "HP_bef = combi_2['HomePlanet'].isna().sum()\n",
    "\n",
    "# Decks A, B, C or T came from Europa\n",
    "combi_2.loc[(combi_2['HomePlanet'].isna()) & (combi_2['Deck'].isin(['A', 'B', 'C', 'T'])), 'HomePlanet'] = 'Europa'\n",
    "\n",
    "# Deck G came from Earth\n",
    "combi_2.loc[(combi_2['HomePlanet'].isna()) & (combi_2['Deck']=='G'), 'HomePlanet'] = 'Earth'\n",
    "\n",
    "# Print number of missing values left\n",
    "print('#HomePlanet missing values before:',HP_bef)\n",
    "print('#HomePlanet missing values after:', combi_2['HomePlanet'].isna().sum())"
   ]
  },
  {
   "cell_type": "code",
   "execution_count": 110,
   "id": "bad769a2",
   "metadata": {
    "execution": {
     "iopub.execute_input": "2022-04-22T18:06:05.749215Z",
     "iopub.status.busy": "2022-04-22T18:06:05.748482Z",
     "iopub.status.idle": "2022-04-22T18:06:05.764669Z",
     "shell.execute_reply": "2022-04-22T18:06:05.765257Z",
     "shell.execute_reply.started": "2022-04-22T17:57:24.556759Z"
    },
    "papermill": {
     "duration": 0.227402,
     "end_time": "2022-04-22T18:06:05.765433",
     "exception": false,
     "start_time": "2022-04-22T18:06:05.538031",
     "status": "completed"
    },
    "tags": []
   },
   "outputs": [],
   "source": [
    "# Joint distribution of LastName and HomePlanet\n",
    "SHP_gb = combi_2.groupby(['LastName','HomePlanet'])['HomePlanet'].size().unstack().fillna(0)"
   ]
  },
  {
   "cell_type": "code",
   "execution_count": 111,
   "id": "e3d62415",
   "metadata": {
    "execution": {
     "iopub.execute_input": "2022-04-22T18:06:06.198079Z",
     "iopub.status.busy": "2022-04-22T18:06:06.197384Z",
     "iopub.status.idle": "2022-04-22T18:06:06.621283Z",
     "shell.execute_reply": "2022-04-22T18:06:06.622174Z",
     "shell.execute_reply.started": "2022-04-22T17:57:24.576248Z"
    },
    "papermill": {
     "duration": 0.641149,
     "end_time": "2022-04-22T18:06:06.622415",
     "exception": false,
     "start_time": "2022-04-22T18:06:05.981266",
     "status": "completed"
    },
    "tags": []
   },
   "outputs": [
    {
     "name": "stdout",
     "output_type": "stream",
     "text": [
      "#HomePlanet missing values before: 94\n",
      "#HomePlanet missing values after: 5\n"
     ]
    }
   ],
   "source": [
    "# Missing values before\n",
    "HP_bef = combi_2['HomePlanet'].isna().sum()\n",
    "\n",
    "# Passengers with missing HomePlanet and in a family with known HomePlanet\n",
    "SHP_index = combi_2[combi_2['HomePlanet'].isna()][(combi_2[combi_2['HomePlanet'].isna()]['LastName']).isin(SHP_gb.index)].index\n",
    "\n",
    "# Fill corresponding missing values\n",
    "combi_2.loc[SHP_index,'HomePlanet'] = combi_2.iloc[SHP_index,:]['LastName'].map(lambda x: SHP_gb.idxmax(axis=1)[x])\n",
    "\n",
    "# Print number of missing values left\n",
    "print('#HomePlanet missing values before:',HP_bef)\n",
    "print('#HomePlanet missing values after:', combi_2['HomePlanet'].isna().sum())"
   ]
  },
  {
   "cell_type": "code",
   "execution_count": 112,
   "id": "96c77d60",
   "metadata": {
    "execution": {
     "iopub.execute_input": "2022-04-22T18:06:07.047195Z",
     "iopub.status.busy": "2022-04-22T18:06:07.046422Z",
     "iopub.status.idle": "2022-04-22T18:06:07.322029Z",
     "shell.execute_reply": "2022-04-22T18:06:07.321428Z",
     "shell.execute_reply.started": "2022-04-22T17:57:25.030805Z"
    },
    "papermill": {
     "duration": 0.489633,
     "end_time": "2022-04-22T18:06:07.322190",
     "exception": false,
     "start_time": "2022-04-22T18:06:06.832557",
     "status": "completed"
    },
    "tags": []
   },
   "outputs": [
    {
     "data": {
      "text/plain": [
       "<AxesSubplot:xlabel='HomePlanet', ylabel='Destination'>"
      ]
     },
     "execution_count": 112,
     "metadata": {},
     "output_type": "execute_result"
    },
    {
     "data": {
      "image/png": "[encoded data removed]",
      "text/plain": [
       "<Figure size 720x288 with 2 Axes>"
      ]
     },
     "metadata": {
      "needs_background": "light"
     },
     "output_type": "display_data"
    }
   ],
   "source": [
    "# Only a few HomePlanet missing values left - let's look at them\n",
    "combi_2[combi_2['HomePlanet'].isna()][['PassengerId','HomePlanet','Destination']]\n",
    "\n",
    "# Joint distribution of HomePlanet and Destination\n",
    "HPD_gb = combi_2.groupby(['HomePlanet','Destination'])['Destination'].size().unstack().fillna(0)\n",
    "\n",
    "# Heatmap of missing values\n",
    "plt.figure(figsize=(10,4))\n",
    "sns.heatmap(HPD_gb.T, annot=True, fmt='g', cmap='rocket_r')"
   ]
  },
  {
   "cell_type": "code",
   "execution_count": 113,
   "id": "b891b24d",
   "metadata": {
    "execution": {
     "iopub.execute_input": "2022-04-22T18:06:07.747076Z",
     "iopub.status.busy": "2022-04-22T18:06:07.746423Z",
     "iopub.status.idle": "2022-04-22T18:06:07.769380Z",
     "shell.execute_reply": "2022-04-22T18:06:07.769963Z",
     "shell.execute_reply.started": "2022-04-22T17:57:25.243509Z"
    },
    "papermill": {
     "duration": 0.236716,
     "end_time": "2022-04-22T18:06:07.770151",
     "exception": false,
     "start_time": "2022-04-22T18:06:07.533435",
     "status": "completed"
    },
    "tags": []
   },
   "outputs": [
    {
     "name": "stdout",
     "output_type": "stream",
     "text": [
      "#HomePlanet missing values before: 5\n",
      "#HomePlanet missing values after: 0\n"
     ]
    }
   ],
   "source": [
    "# Missing values before\n",
    "HP_bef = combi_2['HomePlanet'].isna().sum()\n",
    "\n",
    "# Fill remaining HomePlanet missing values with Earth (if not on deck D) or Mars (if on Deck D)\n",
    "combi_2.loc[(combi_2['HomePlanet'].isna()) & ~(combi_2['Deck']=='D'), 'HomePlanet']='Earth'\n",
    "combi_2.loc[(combi_2['HomePlanet'].isna()) & (combi_2['Deck']=='D'), 'HomePlanet']='Mars'\n",
    "\n",
    "# Print number of missing values left\n",
    "print('#HomePlanet missing values before:', HP_bef)\n",
    "print('#HomePlanet missing values after:', combi_2['HomePlanet'].isna().sum())"
   ]
  },
  {
   "cell_type": "code",
   "execution_count": 114,
   "id": "e9c2b098",
   "metadata": {
    "execution": {
     "iopub.execute_input": "2022-04-22T18:06:08.196963Z",
     "iopub.status.busy": "2022-04-22T18:06:08.196285Z",
     "iopub.status.idle": "2022-04-22T18:06:08.236838Z",
     "shell.execute_reply": "2022-04-22T18:06:08.237344Z",
     "shell.execute_reply.started": "2022-04-22T17:57:25.261030Z"
    },
    "papermill": {
     "duration": 0.254617,
     "end_time": "2022-04-22T18:06:08.237519",
     "exception": false,
     "start_time": "2022-04-22T18:06:07.982902",
     "status": "completed"
    },
    "tags": []
   },
   "outputs": [
    {
     "data": {
      "text/plain": [
       "Index(['PassengerId', 'CryoSleep', 'Cabin', 'Age', 'VIP', 'RoomService',\n",
       "       'FoodCourt', 'ShoppingMall', 'Spa', 'VRDeck', 'Name', 'Transported',\n",
       "       'GroupID', 'GroupNum', 'GroupMembers', 'Deck', 'CabinNum',\n",
       "       'CabinPassengers', 'CabinChunk_1', 'CabinChunk_2', 'CabinChunk_3',\n",
       "       'CabinChunk_4', 'CabinChunk_5', 'CabinChunk_6', 'CabinChunk_7', 'Side',\n",
       "       'Side_P', 'Side_S', 'Side_X', 'Destination', 'Destination_55 Cancri e',\n",
       "       'Destination_PSO J318.5-22', 'Destination_TRAPPIST-1e', 'AgeGroup',\n",
       "       'RoomService_log', 'FoodCourt_log', 'ShoppingMall_log', 'Spa_log',\n",
       "       'VRDeck_log', 'Amenities', 'Amenities_log', 'Amenities_bin',\n",
       "       'RoomService_bin', 'FoodCourt_bin', 'ShoppingMall_bin', 'Spa_bin',\n",
       "       'VRDeck_bin', 'LastName', 'FamilyMembers', 'FamilyID', 'FamilyExpense',\n",
       "       'IndividualExpense', 'HomePlanet', 'HomePlanet_Earth',\n",
       "       'HomePlanet_Europa', 'HomePlanet_Mars'],\n",
       "      dtype='object')"
      ]
     },
     "execution_count": 114,
     "metadata": {},
     "output_type": "execute_result"
    }
   ],
   "source": [
    "# Generate the dummy variables, keeping the original feature\n",
    "combi_2['HomePlanet_copy'] = combi_2['HomePlanet'].copy()\n",
    "combi_2 = pd.get_dummies(combi_2, columns=['HomePlanet'], drop_first=False)\n",
    "combi_2 = combi_2.rename({'HomePlanet_copy': 'HomePlanet'}, axis=1)\n",
    "combi_2.columns"
   ]
  },
  {
   "cell_type": "markdown",
   "id": "405061ed",
   "metadata": {
    "papermill": {
     "duration": 0.212668,
     "end_time": "2022-04-22T18:06:08.667839",
     "exception": false,
     "start_time": "2022-04-22T18:06:08.455171",
     "status": "completed"
    },
    "tags": []
   },
   "source": [
    "## Impute: *Deck*"
   ]
  },
  {
   "cell_type": "code",
   "execution_count": 115,
   "id": "81f90d5d",
   "metadata": {
    "execution": {
     "iopub.execute_input": "2022-04-22T18:06:09.097722Z",
     "iopub.status.busy": "2022-04-22T18:06:09.097100Z",
     "iopub.status.idle": "2022-04-22T18:06:09.100501Z",
     "shell.execute_reply": "2022-04-22T18:06:09.099875Z",
     "shell.execute_reply.started": "2022-04-22T17:57:25.311718Z"
    },
    "papermill": {
     "duration": 0.220452,
     "end_time": "2022-04-22T18:06:09.100648",
     "exception": false,
     "start_time": "2022-04-22T18:06:08.880196",
     "status": "completed"
    },
    "tags": []
   },
   "outputs": [],
   "source": [
    "# Missing values imputation (deck=X)\n",
    "# (Extracted from SAMUEL CORTINHAS notebook)\n",
    "# As Samuel pointed, groups tend to be on the same cabin deck."
   ]
  },
  {
   "cell_type": "code",
   "execution_count": 116,
   "id": "3c837522",
   "metadata": {
    "execution": {
     "iopub.execute_input": "2022-04-22T18:06:09.536619Z",
     "iopub.status.busy": "2022-04-22T18:06:09.535893Z",
     "iopub.status.idle": "2022-04-22T18:06:10.156794Z",
     "shell.execute_reply": "2022-04-22T18:06:10.157386Z",
     "shell.execute_reply.started": "2022-04-22T17:57:25.320915Z"
    },
    "papermill": {
     "duration": 0.845222,
     "end_time": "2022-04-22T18:06:10.157614",
     "exception": false,
     "start_time": "2022-04-22T18:06:09.312392",
     "status": "completed"
    },
    "tags": []
   },
   "outputs": [
    {
     "name": "stdout",
     "output_type": "stream",
     "text": [
      "#Deck missing values before: 299\n",
      "#Deck missing values after: 162\n"
     ]
    }
   ],
   "source": [
    "# Missing values before\n",
    "GCD_gb=combi_2[combi_2['GroupMembers']>1].groupby(['GroupID','Deck'])['Deck'].size().unstack().fillna(0)\n",
    "CD_bef=combi_2['Deck'][combi_2['Deck'] == 'X'].count()\n",
    "\n",
    "# Passengers with missing Cabin deck and in a group with known majority Cabin deck\n",
    "GCD_index=combi_2['Deck'][combi_2['Deck'] == 'X'][(combi_2[combi_2['Deck'] == 'X']['GroupID']).isin(GCD_gb.index)].index\n",
    "\n",
    "# Fill corresponding missing values\n",
    "combi_2.loc[GCD_index,'Deck']=combi_2.iloc[GCD_index,:]['GroupID'].map(lambda x: GCD_gb.idxmax(axis=1)[x])\n",
    "\n",
    "# Print number of missing values left\n",
    "print('#Deck missing values before:', CD_bef)\n",
    "print('#Deck missing values after:', combi_2['Deck'][combi_2['Deck'] == 'X'].count())"
   ]
  },
  {
   "cell_type": "code",
   "execution_count": 117,
   "id": "2b03d9f6",
   "metadata": {
    "execution": {
     "iopub.execute_input": "2022-04-22T18:06:10.587022Z",
     "iopub.status.busy": "2022-04-22T18:06:10.586377Z",
     "iopub.status.idle": "2022-04-22T18:06:10.608663Z",
     "shell.execute_reply": "2022-04-22T18:06:10.609289Z",
     "shell.execute_reply.started": "2022-04-22T17:57:26.000317Z"
    },
    "papermill": {
     "duration": 0.237457,
     "end_time": "2022-04-22T18:06:10.609459",
     "exception": false,
     "start_time": "2022-04-22T18:06:10.372002",
     "status": "completed"
    },
    "tags": []
   },
   "outputs": [
    {
     "data": {
      "text/html": [
       "<div>\n",
       "<style scoped>\n",
       "    .dataframe tbody tr th:only-of-type {\n",
       "        vertical-align: middle;\n",
       "    }\n",
       "\n",
       "    .dataframe tbody tr th {\n",
       "        vertical-align: top;\n",
       "    }\n",
       "\n",
       "    .dataframe thead th {\n",
       "        text-align: right;\n",
       "    }\n",
       "</style>\n",
       "<table border=\"1\" class=\"dataframe\">\n",
       "  <thead>\n",
       "    <tr style=\"text-align: right;\">\n",
       "      <th>Deck</th>\n",
       "      <th>A</th>\n",
       "      <th>B</th>\n",
       "      <th>C</th>\n",
       "      <th>D</th>\n",
       "      <th>E</th>\n",
       "      <th>F</th>\n",
       "      <th>G</th>\n",
       "      <th>T</th>\n",
       "      <th>X</th>\n",
       "    </tr>\n",
       "    <tr>\n",
       "      <th>HomePlanet</th>\n",
       "      <th></th>\n",
       "      <th></th>\n",
       "      <th></th>\n",
       "      <th></th>\n",
       "      <th></th>\n",
       "      <th></th>\n",
       "      <th></th>\n",
       "      <th></th>\n",
       "      <th></th>\n",
       "    </tr>\n",
       "  </thead>\n",
       "  <tbody>\n",
       "    <tr>\n",
       "      <th>Earth</th>\n",
       "      <td>0.0</td>\n",
       "      <td>0.0</td>\n",
       "      <td>0.0</td>\n",
       "      <td>1.0</td>\n",
       "      <td>601.0</td>\n",
       "      <td>2496.0</td>\n",
       "      <td>3821.0</td>\n",
       "      <td>0.0</td>\n",
       "      <td>101.0</td>\n",
       "    </tr>\n",
       "    <tr>\n",
       "      <th>Europa</th>\n",
       "      <td>361.0</td>\n",
       "      <td>1161.0</td>\n",
       "      <td>1122.0</td>\n",
       "      <td>309.0</td>\n",
       "      <td>204.0</td>\n",
       "      <td>0.0</td>\n",
       "      <td>0.0</td>\n",
       "      <td>11.0</td>\n",
       "      <td>29.0</td>\n",
       "    </tr>\n",
       "    <tr>\n",
       "      <th>Mars</th>\n",
       "      <td>0.0</td>\n",
       "      <td>0.0</td>\n",
       "      <td>0.0</td>\n",
       "      <td>420.0</td>\n",
       "      <td>529.0</td>\n",
       "      <td>1772.0</td>\n",
       "      <td>0.0</td>\n",
       "      <td>0.0</td>\n",
       "      <td>32.0</td>\n",
       "    </tr>\n",
       "  </tbody>\n",
       "</table>\n",
       "</div>"
      ],
      "text/plain": [
       "Deck            A       B       C      D      E       F       G     T      X\n",
       "HomePlanet                                                                  \n",
       "Earth         0.0     0.0     0.0    1.0  601.0  2496.0  3821.0   0.0  101.0\n",
       "Europa      361.0  1161.0  1122.0  309.0  204.0     0.0     0.0  11.0   29.0\n",
       "Mars          0.0     0.0     0.0  420.0  529.0  1772.0     0.0   0.0   32.0"
      ]
     },
     "execution_count": 117,
     "metadata": {},
     "output_type": "execute_result"
    }
   ],
   "source": [
    "# Joint distribution\n",
    "combi_2.groupby(['HomePlanet','Deck'])['Deck'].size().unstack().fillna(0)"
   ]
  },
  {
   "cell_type": "code",
   "execution_count": 118,
   "id": "2f109551",
   "metadata": {
    "execution": {
     "iopub.execute_input": "2022-04-22T18:06:11.063968Z",
     "iopub.status.busy": "2022-04-22T18:06:11.045625Z",
     "iopub.status.idle": "2022-04-22T18:06:11.072862Z",
     "shell.execute_reply": "2022-04-22T18:06:11.072310Z",
     "shell.execute_reply.started": "2022-04-22T17:57:26.026584Z"
    },
    "papermill": {
     "duration": 0.251415,
     "end_time": "2022-04-22T18:06:11.073015",
     "exception": false,
     "start_time": "2022-04-22T18:06:10.821600",
     "status": "completed"
    },
    "tags": []
   },
   "outputs": [
    {
     "name": "stdout",
     "output_type": "stream",
     "text": [
      "#Deck missing values before: 162\n",
      "#Deck missing values after: 0\n"
     ]
    }
   ],
   "source": [
    "Deck_count = combi_2['Deck'][combi_2['Deck'] == 'X'].count()\n",
    "\n",
    "#Passengers from Mars are most likely in deck F.\n",
    "combi_2.loc[(combi_2['Deck'] == 'X') & (combi_2['HomePlanet'] == 'Mars'), 'Deck'] = 'F'\n",
    "\n",
    "#Passengers from Europa are (more or less) most likely in deck B.\n",
    "combi_2.loc[(combi_2['Deck'] == 'X') & (combi_2['HomePlanet'] == 'Europa'), 'Deck'] = 'B'\n",
    "\n",
    "#Passengers from Earth are (more or less) most likely in deck G.\n",
    "combi_2.loc[(combi_2['Deck'] == 'X') & (combi_2['HomePlanet'] == 'Earth'), 'Deck'] = 'G'\n",
    "\n",
    "# Print number of missing values left\n",
    "print('#Deck missing values before:', Deck_count)\n",
    "print('#Deck missing values after:', combi_2['Deck'][combi_2['Deck'] == 'X'].count())"
   ]
  },
  {
   "cell_type": "code",
   "execution_count": 119,
   "id": "63510c94",
   "metadata": {
    "execution": {
     "iopub.execute_input": "2022-04-22T18:06:11.509120Z",
     "iopub.status.busy": "2022-04-22T18:06:11.508030Z",
     "iopub.status.idle": "2022-04-22T18:06:11.512789Z",
     "shell.execute_reply": "2022-04-22T18:06:11.513429Z",
     "shell.execute_reply.started": "2022-04-22T17:57:26.058163Z"
    },
    "papermill": {
     "duration": 0.227726,
     "end_time": "2022-04-22T18:06:11.513624",
     "exception": false,
     "start_time": "2022-04-22T18:06:11.285898",
     "status": "completed"
    },
    "tags": []
   },
   "outputs": [
    {
     "data": {
      "text/plain": [
       "Deck\n",
       "A     361\n",
       "B    1190\n",
       "C    1122\n",
       "D     730\n",
       "E    1334\n",
       "F    4300\n",
       "G    3922\n",
       "T      11\n",
       "Name: Deck, dtype: int64"
      ]
     },
     "execution_count": 119,
     "metadata": {},
     "output_type": "execute_result"
    }
   ],
   "source": [
    "# Last check\n",
    "combi_2.groupby(['Deck'])['Deck'].count().head(20)"
   ]
  },
  {
   "cell_type": "code",
   "execution_count": 120,
   "id": "eedf13e1",
   "metadata": {
    "execution": {
     "iopub.execute_input": "2022-04-22T18:06:11.947304Z",
     "iopub.status.busy": "2022-04-22T18:06:11.946287Z",
     "iopub.status.idle": "2022-04-22T18:06:11.990544Z",
     "shell.execute_reply": "2022-04-22T18:06:11.991148Z",
     "shell.execute_reply.started": "2022-04-22T17:57:26.089047Z"
    },
    "papermill": {
     "duration": 0.263298,
     "end_time": "2022-04-22T18:06:11.991353",
     "exception": false,
     "start_time": "2022-04-22T18:06:11.728055",
     "status": "completed"
    },
    "tags": []
   },
   "outputs": [
    {
     "data": {
      "text/plain": [
       "Index(['PassengerId', 'CryoSleep', 'Cabin', 'Age', 'VIP', 'RoomService',\n",
       "       'FoodCourt', 'ShoppingMall', 'Spa', 'VRDeck', 'Name', 'Transported',\n",
       "       'GroupID', 'GroupNum', 'GroupMembers', 'CabinNum', 'CabinPassengers',\n",
       "       'CabinChunk_1', 'CabinChunk_2', 'CabinChunk_3', 'CabinChunk_4',\n",
       "       'CabinChunk_5', 'CabinChunk_6', 'CabinChunk_7', 'Side', 'Side_P',\n",
       "       'Side_S', 'Side_X', 'Destination', 'Destination_55 Cancri e',\n",
       "       'Destination_PSO J318.5-22', 'Destination_TRAPPIST-1e', 'AgeGroup',\n",
       "       'RoomService_log', 'FoodCourt_log', 'ShoppingMall_log', 'Spa_log',\n",
       "       'VRDeck_log', 'Amenities', 'Amenities_log', 'Amenities_bin',\n",
       "       'RoomService_bin', 'FoodCourt_bin', 'ShoppingMall_bin', 'Spa_bin',\n",
       "       'VRDeck_bin', 'LastName', 'FamilyMembers', 'FamilyID', 'FamilyExpense',\n",
       "       'IndividualExpense', 'HomePlanet', 'HomePlanet_Earth',\n",
       "       'HomePlanet_Europa', 'HomePlanet_Mars', 'Deck', 'Deck_A', 'Deck_B',\n",
       "       'Deck_C', 'Deck_D', 'Deck_E', 'Deck_F', 'Deck_G', 'Deck_T'],\n",
       "      dtype='object')"
      ]
     },
     "execution_count": 120,
     "metadata": {},
     "output_type": "execute_result"
    }
   ],
   "source": [
    "# Generate the dummy variables\n",
    "combi_2['Deck_copy'] = combi_2['Deck'].copy()\n",
    "combi_2 = pd.get_dummies(combi_2, columns=['Deck'], drop_first=False)\n",
    "combi_2 = combi_2.rename({'Deck_copy': 'Deck'}, axis=1)\n",
    "combi_2.columns"
   ]
  },
  {
   "cell_type": "markdown",
   "id": "a39ba4b8",
   "metadata": {
    "papermill": {
     "duration": 0.215127,
     "end_time": "2022-04-22T18:06:12.425528",
     "exception": false,
     "start_time": "2022-04-22T18:06:12.210401",
     "status": "completed"
    },
    "tags": []
   },
   "source": [
    "<a id='feature_selection'></a>\n",
    "# 3.2 Feature selection"
   ]
  },
  {
   "cell_type": "code",
   "execution_count": 121,
   "id": "fdd20d23",
   "metadata": {
    "execution": {
     "iopub.execute_input": "2022-04-22T18:06:12.862654Z",
     "iopub.status.busy": "2022-04-22T18:06:12.862000Z",
     "iopub.status.idle": "2022-04-22T18:06:12.864564Z",
     "shell.execute_reply": "2022-04-22T18:06:12.865106Z",
     "shell.execute_reply.started": "2022-04-22T17:57:26.128959Z"
    },
    "papermill": {
     "duration": 0.227108,
     "end_time": "2022-04-22T18:06:12.865282",
     "exception": false,
     "start_time": "2022-04-22T18:06:12.638174",
     "status": "completed"
    },
    "tags": []
   },
   "outputs": [
    {
     "data": {
      "text/plain": [
       "Index(['PassengerId', 'Cabin', 'Name', 'GroupID', 'Side', 'Destination',\n",
       "       'LastName', 'FamilyID', 'HomePlanet', 'Deck'],\n",
       "      dtype='object')"
      ]
     },
     "execution_count": 121,
     "metadata": {},
     "output_type": "execute_result"
    }
   ],
   "source": [
    "# Last checks. There is no object type\n",
    "combi_2.select_dtypes('O').columns"
   ]
  },
  {
   "cell_type": "code",
   "execution_count": 122,
   "id": "3a564db9",
   "metadata": {
    "execution": {
     "iopub.execute_input": "2022-04-22T18:06:13.325643Z",
     "iopub.status.busy": "2022-04-22T18:06:13.317388Z",
     "iopub.status.idle": "2022-04-22T18:06:13.359344Z",
     "shell.execute_reply": "2022-04-22T18:06:13.358666Z",
     "shell.execute_reply.started": "2022-04-22T17:57:26.141562Z"
    },
    "papermill": {
     "duration": 0.258293,
     "end_time": "2022-04-22T18:06:13.359522",
     "exception": false,
     "start_time": "2022-04-22T18:06:13.101229",
     "status": "completed"
    },
    "tags": []
   },
   "outputs": [
    {
     "data": {
      "text/plain": [
       "Series([], dtype: float64)"
      ]
     },
     "execution_count": 122,
     "metadata": {},
     "output_type": "execute_result"
    }
   ],
   "source": [
    "# Check missing values\n",
    "nan_cols = [i for i in combi_2.columns if combi_2[i].isnull().sum() > 0]\n",
    "combi_2[nan_cols].isna().sum()/len(combi_2)"
   ]
  },
  {
   "cell_type": "code",
   "execution_count": 123,
   "id": "824cf519",
   "metadata": {
    "execution": {
     "iopub.execute_input": "2022-04-22T18:06:13.791233Z",
     "iopub.status.busy": "2022-04-22T18:06:13.790433Z",
     "iopub.status.idle": "2022-04-22T18:06:13.795602Z",
     "shell.execute_reply": "2022-04-22T18:06:13.796088Z",
     "shell.execute_reply.started": "2022-04-22T17:57:26.180378Z"
    },
    "papermill": {
     "duration": 0.222164,
     "end_time": "2022-04-22T18:06:13.796271",
     "exception": false,
     "start_time": "2022-04-22T18:06:13.574107",
     "status": "completed"
    },
    "tags": []
   },
   "outputs": [
    {
     "data": {
      "text/plain": [
       "Index(['PassengerId', 'CryoSleep', 'Cabin', 'Age', 'VIP', 'RoomService',\n",
       "       'FoodCourt', 'ShoppingMall', 'Spa', 'VRDeck', 'Name', 'Transported',\n",
       "       'GroupID', 'GroupNum', 'GroupMembers', 'CabinNum', 'CabinPassengers',\n",
       "       'CabinChunk_1', 'CabinChunk_2', 'CabinChunk_3', 'CabinChunk_4',\n",
       "       'CabinChunk_5', 'CabinChunk_6', 'CabinChunk_7', 'Side', 'Side_P',\n",
       "       'Side_S', 'Side_X', 'Destination', 'Destination_55 Cancri e',\n",
       "       'Destination_PSO J318.5-22', 'Destination_TRAPPIST-1e', 'AgeGroup',\n",
       "       'RoomService_log', 'FoodCourt_log', 'ShoppingMall_log', 'Spa_log',\n",
       "       'VRDeck_log', 'Amenities', 'Amenities_log', 'Amenities_bin',\n",
       "       'RoomService_bin', 'FoodCourt_bin', 'ShoppingMall_bin', 'Spa_bin',\n",
       "       'VRDeck_bin', 'LastName', 'FamilyMembers', 'FamilyID', 'FamilyExpense',\n",
       "       'IndividualExpense', 'HomePlanet', 'HomePlanet_Earth',\n",
       "       'HomePlanet_Europa', 'HomePlanet_Mars', 'Deck', 'Deck_A', 'Deck_B',\n",
       "       'Deck_C', 'Deck_D', 'Deck_E', 'Deck_F', 'Deck_G', 'Deck_T'],\n",
       "      dtype='object')"
      ]
     },
     "execution_count": 123,
     "metadata": {},
     "output_type": "execute_result"
    }
   ],
   "source": [
    "# Let's select the features to be included in the model\n",
    "combi_2.columns"
   ]
  },
  {
   "cell_type": "code",
   "execution_count": 124,
   "id": "a7ab2143",
   "metadata": {
    "execution": {
     "iopub.execute_input": "2022-04-22T18:06:14.231989Z",
     "iopub.status.busy": "2022-04-22T18:06:14.231118Z",
     "iopub.status.idle": "2022-04-22T18:06:14.242215Z",
     "shell.execute_reply": "2022-04-22T18:06:14.242686Z",
     "shell.execute_reply.started": "2022-04-22T17:57:26.189157Z"
    },
    "papermill": {
     "duration": 0.22749,
     "end_time": "2022-04-22T18:06:14.242880",
     "exception": false,
     "start_time": "2022-04-22T18:06:14.015390",
     "status": "completed"
    },
    "tags": []
   },
   "outputs": [],
   "source": [
    "# Select most relevant features\n",
    "train_selection = combi_2[combi_2['Transported'] != 2]\n",
    "\n",
    "# remove features that won't use for prediction\n",
    "drop_list = ['Name', 'LastName', 'PassengerId', 'GroupNum', 'GroupID', 'Cabin', 'Deck', 'Side', 'Destination', 'HomePlanet', 'FamilyID', 'CabinNum']\n",
    "train_selection = train_selection.drop(columns=drop_list)"
   ]
  },
  {
   "cell_type": "code",
   "execution_count": 125,
   "id": "6045c386",
   "metadata": {
    "execution": {
     "iopub.execute_input": "2022-04-22T18:06:14.676632Z",
     "iopub.status.busy": "2022-04-22T18:06:14.675943Z",
     "iopub.status.idle": "2022-04-22T18:06:17.313496Z",
     "shell.execute_reply": "2022-04-22T18:06:17.314258Z",
     "shell.execute_reply.started": "2022-04-22T17:57:26.211174Z"
    },
    "papermill": {
     "duration": 2.858247,
     "end_time": "2022-04-22T18:06:17.314515",
     "exception": false,
     "start_time": "2022-04-22T18:06:14.456268",
     "status": "completed"
    },
    "tags": []
   },
   "outputs": [
    {
     "data": {
      "image/png": "[encoded data removed]",
      "text/plain": [
       "<Figure size 720x576 with 1 Axes>"
      ]
     },
     "metadata": {
      "needs_background": "light"
     },
     "output_type": "display_data"
    },
    {
     "name": "stdout",
     "output_type": "stream",
     "text": [
      "['CabinChunk_6', 'Age', 'RoomService', 'VRDeck', 'VIP', 'GroupMembers', 'ShoppingMall', 'CabinChunk_3', 'Spa', 'CabinChunk_4', 'FoodCourt', 'CabinChunk_7', 'CabinPassengers', 'CabinChunk_5', 'CabinChunk_1', 'CryoSleep', 'CabinChunk_2']\n"
     ]
    }
   ],
   "source": [
    "from xgboost import XGBClassifier\n",
    "\n",
    "threshold = 0.01  # 0.01=1%\n",
    "\n",
    "X_train_sel = train_selection.loc[:, train_selection.columns != 'Transported']\n",
    "y_train_sel = train_selection['Transported']\n",
    "\n",
    "#model_feat = RandomForestRegressor(random_state=101, max_depth=10)\n",
    "model_feat = XGBClassifier(n_estimators=300,\n",
    "                           max_depth=3,\n",
    "                           objective='binary:hinge',\n",
    "                           subsample=0.6,\n",
    "                           colsample_bytree=0.5,\n",
    "                           eta=0.1,\n",
    "                           eval_metric='error',\n",
    "                           use_label_encoder=False,\n",
    "                           n_jobs=-1,\n",
    "                           random_state=101)\n",
    "model_feat.fit(X_train_sel, y_train_sel)\n",
    "\n",
    "features = X_train_sel.columns\n",
    "importances_feat = model_feat.feature_importances_\n",
    "importances = importances_feat[importances_feat > threshold]\n",
    "indices = np.argsort(importances)\n",
    "range_idx = range(len(indices))\n",
    "height = len(indices) // 2\n",
    "\n",
    "plt.figure(figsize=(10,height))\n",
    "plt.title('Feature Importances')\n",
    "plt.barh(range_idx, importances[indices], align='center', fc='palevioletred')\n",
    "plt.yticks(range_idx, [features[i] for i in indices])\n",
    "plt.xlabel('Relative Importance')\n",
    "plt.show()\n",
    "\n",
    "feature_list = [features[i] for i in indices]\n",
    "print(feature_list)"
   ]
  },
  {
   "cell_type": "code",
   "execution_count": 126,
   "id": "d212a0a6",
   "metadata": {
    "execution": {
     "iopub.execute_input": "2022-04-22T18:06:17.771468Z",
     "iopub.status.busy": "2022-04-22T18:06:17.770764Z",
     "iopub.status.idle": "2022-04-22T18:06:19.945626Z",
     "shell.execute_reply": "2022-04-22T18:06:19.946146Z",
     "shell.execute_reply.started": "2022-04-22T17:57:28.542576Z"
    },
    "papermill": {
     "duration": 2.411349,
     "end_time": "2022-04-22T18:06:19.946343",
     "exception": false,
     "start_time": "2022-04-22T18:06:17.534994",
     "status": "completed"
    },
    "tags": []
   },
   "outputs": [
    {
     "data": {
      "text/plain": [
       "<AxesSubplot:>"
      ]
     },
     "execution_count": 126,
     "metadata": {},
     "output_type": "execute_result"
    },
    {
     "data": {
      "image/png": "[encoded data removed]",
      "text/plain": [
       "<Figure size 1080x720 with 2 Axes>"
      ]
     },
     "metadata": {
      "needs_background": "light"
     },
     "output_type": "display_data"
    }
   ],
   "source": [
    "# correlation between all features (original + generated)\n",
    "plt.figure(figsize=(15, 10))\n",
    "sns.heatmap(train_selection.corr(), vmin=-1, vmax=1, cmap='BrBG')"
   ]
  },
  {
   "cell_type": "code",
   "execution_count": 127,
   "id": "9de49948",
   "metadata": {
    "execution": {
     "iopub.execute_input": "2022-04-22T18:06:20.394967Z",
     "iopub.status.busy": "2022-04-22T18:06:20.394236Z",
     "iopub.status.idle": "2022-04-22T18:06:21.775991Z",
     "shell.execute_reply": "2022-04-22T18:06:21.776492Z",
     "shell.execute_reply.started": "2022-04-22T17:57:30.372632Z"
    },
    "papermill": {
     "duration": 1.606998,
     "end_time": "2022-04-22T18:06:21.776702",
     "exception": false,
     "start_time": "2022-04-22T18:06:20.169704",
     "status": "completed"
    },
    "tags": []
   },
   "outputs": [
    {
     "data": {
      "image/png": "[encoded data removed]",
      "text/plain": [
       "<Figure size 576x864 with 2 Axes>"
      ]
     },
     "metadata": {
      "needs_background": "light"
     },
     "output_type": "display_data"
    }
   ],
   "source": [
    "# Let's check the correlation of 'Transported' with the rest of features\n",
    "plt.figure(figsize=(8, 12))\n",
    "heatmap = sns.heatmap(train_selection.corr().abs()[['Transported']].sort_values(by='Transported', ascending=False), \n",
    "                      vmin=0, vmax=1, annot=True, cmap='rocket_r')\n",
    "\n",
    "# As we can see, there are not good features. The variables with higher correlation are closely related to CryoSleep \n",
    "# (as we can see in the heatmap), so they do not give much information either. "
   ]
  },
  {
   "cell_type": "code",
   "execution_count": 128,
   "id": "f2858682",
   "metadata": {
    "execution": {
     "iopub.execute_input": "2022-04-22T18:06:22.230409Z",
     "iopub.status.busy": "2022-04-22T18:06:22.229626Z",
     "iopub.status.idle": "2022-04-22T18:06:22.241499Z",
     "shell.execute_reply": "2022-04-22T18:06:22.242052Z",
     "shell.execute_reply.started": "2022-04-22T18:02:24.303850Z"
    },
    "papermill": {
     "duration": 0.240372,
     "end_time": "2022-04-22T18:06:22.242246",
     "exception": false,
     "start_time": "2022-04-22T18:06:22.001874",
     "status": "completed"
    },
    "tags": []
   },
   "outputs": [
    {
     "data": {
      "text/plain": [
       "Index(['Transported', 'CryoSleep', 'VIP', 'Age', 'GroupMembers',\n",
       "       'CabinPassengers', 'Destination_55 Cancri e',\n",
       "       'Destination_PSO J318.5-22', 'Destination_TRAPPIST-1e',\n",
       "       'HomePlanet_Earth', 'HomePlanet_Europa', 'HomePlanet_Mars', 'Side_P',\n",
       "       'Side_S', 'Side_X', 'Deck_A', 'Deck_B', 'Deck_C', 'Deck_D', 'Deck_E',\n",
       "       'Deck_F', 'Deck_G', 'Deck_T', 'CabinChunk_1', 'CabinChunk_2',\n",
       "       'CabinChunk_3', 'CabinChunk_4', 'CabinChunk_5', 'CabinChunk_6',\n",
       "       'CabinChunk_7', 'RoomService', 'FoodCourt', 'ShoppingMall', 'Spa',\n",
       "       'VRDeck', 'FamilyExpense', 'Amenities_log'],\n",
       "      dtype='object')"
      ]
     },
     "execution_count": 128,
     "metadata": {},
     "output_type": "execute_result"
    }
   ],
   "source": [
    "# We take the most relevant features, in base to the previous analysis\n",
    "cols_sel = ['Transported']\n",
    "\n",
    "cols_sel = cols_sel + ['CryoSleep', 'VIP']\n",
    "cols_sel = cols_sel + ['Age', 'AgeKid']\n",
    "cols_sel = cols_sel + ['GroupMembers', 'CabinPassengers']    # ['FamilyMembers']\n",
    "\n",
    "cols_sel = cols_sel + ['Destination_55 Cancri e', 'Destination_PSO J318.5-22', 'Destination_TRAPPIST-1e']\n",
    "cols_sel = cols_sel + ['HomePlanet_Earth', 'HomePlanet_Europa', 'HomePlanet_Mars']\n",
    "\n",
    "cols_sel = cols_sel + ['Side_P', 'Side_S', 'Side_X']\n",
    "cols_sel = cols_sel + ['Deck_A', 'Deck_B', 'Deck_C', 'Deck_D', 'Deck_E', 'Deck_F', 'Deck_G', 'Deck_T']\n",
    "cols_sel = cols_sel + ['CabinChunk_1', 'CabinChunk_2', 'CabinChunk_3', 'CabinChunk_4', 'CabinChunk_5', 'CabinChunk_6', 'CabinChunk_7']\n",
    "\n",
    "#cols_sel = cols_sel + ['RoomService_bin', 'FoodCourt_bin', 'ShoppingMall_bin', 'Spa_bin', 'VRDeck_bin']\n",
    "#cols_sel = cols_sel + ['RoomService_log', 'FoodCourt_log', 'ShoppingMall_log', 'Spa_log', 'VRDeck_log'] \n",
    "cols_sel = cols_sel + ['RoomService', 'FoodCourt', 'ShoppingMall', 'Spa', 'VRDeck']\n",
    "cols_sel = cols_sel + ['FamilyExpense', 'Amenities_log']    # ['IndividualExpense', 'Amenities_bin']\n",
    "\n",
    "\n",
    "combi_3 = combi_2.filter(cols_sel)\n",
    "combi_3.columns"
   ]
  },
  {
   "cell_type": "markdown",
   "id": "82ce6987",
   "metadata": {
    "papermill": {
     "duration": 0.223859,
     "end_time": "2022-04-22T18:06:22.689724",
     "exception": false,
     "start_time": "2022-04-22T18:06:22.465865",
     "status": "completed"
    },
    "tags": []
   },
   "source": [
    "<a id='preparation_datasets'></a>\n",
    "# 4. Preparation of the training and test datasets"
   ]
  },
  {
   "cell_type": "code",
   "execution_count": 129,
   "id": "72e830bd",
   "metadata": {
    "execution": {
     "iopub.execute_input": "2022-04-22T18:06:23.196620Z",
     "iopub.status.busy": "2022-04-22T18:06:23.195925Z",
     "iopub.status.idle": "2022-04-22T18:06:23.226181Z",
     "shell.execute_reply": "2022-04-22T18:06:23.226681Z",
     "shell.execute_reply.started": "2022-04-22T18:02:26.569270Z"
    },
    "papermill": {
     "duration": 0.256808,
     "end_time": "2022-04-22T18:06:23.226873",
     "exception": false,
     "start_time": "2022-04-22T18:06:22.970065",
     "status": "completed"
    },
    "tags": []
   },
   "outputs": [
    {
     "name": "stdout",
     "output_type": "stream",
     "text": [
      "12970 combi_final\n",
      "6954 X_train\n",
      "1739 X_validation\n",
      "4277 X_test\n"
     ]
    }
   ],
   "source": [
    "combi_final = combi_3.copy()\n",
    "\n",
    "# Split train and validation datasets\n",
    "train_final = combi_final[combi_final['Transported'] != 2]\n",
    "\n",
    "X_train_pred = train_final.loc[:, train_final.columns != 'Transported']\n",
    "y_train_pred = train_final['Transported']\n",
    "\n",
    "train_set, validation_set = train_test_split(train_final, test_size=0.2, random_state=101)  \n",
    "X_train = train_set.loc[:, train_set.columns != 'Transported']\n",
    "y_train = train_set['Transported'] \n",
    "\n",
    "X_validation = validation_set.loc[:, validation_set.columns != 'Transported']\n",
    "y_validation = validation_set['Transported']\n",
    "\n",
    "# Test dataset\n",
    "test_final = combi_final[combi_final['Transported'] == 2]\n",
    "test_final.drop('Transported', axis=1, inplace=True)\n",
    "X_test = test_final\n",
    "\n",
    "print(len(combi_final), \"combi_final\")\n",
    "print(len(X_train), \"X_train\")\n",
    "print(len(X_validation), \"X_validation\")\n",
    "print(len(X_test), \"X_test\")"
   ]
  },
  {
   "cell_type": "markdown",
   "id": "c9c52f50",
   "metadata": {
    "papermill": {
     "duration": 0.220402,
     "end_time": "2022-04-22T18:06:23.670272",
     "exception": false,
     "start_time": "2022-04-22T18:06:23.449870",
     "status": "completed"
    },
    "tags": []
   },
   "source": [
    "<a id='training_model'></a>\n",
    "# 5. Training the model"
   ]
  },
  {
   "cell_type": "code",
   "execution_count": 130,
   "id": "16fe08fc",
   "metadata": {
    "execution": {
     "iopub.execute_input": "2022-04-22T18:06:24.119469Z",
     "iopub.status.busy": "2022-04-22T18:06:24.118734Z",
     "iopub.status.idle": "2022-04-22T18:06:24.122484Z",
     "shell.execute_reply": "2022-04-22T18:06:24.122973Z",
     "shell.execute_reply.started": "2022-04-22T17:57:31.626653Z"
    },
    "papermill": {
     "duration": 0.230969,
     "end_time": "2022-04-22T18:06:24.123175",
     "exception": false,
     "start_time": "2022-04-22T18:06:23.892206",
     "status": "completed"
    },
    "tags": []
   },
   "outputs": [],
   "source": [
    "from sklearn.metrics import accuracy_score"
   ]
  },
  {
   "cell_type": "code",
   "execution_count": 131,
   "id": "c1aa164c",
   "metadata": {
    "execution": {
     "iopub.execute_input": "2022-04-22T18:06:24.571382Z",
     "iopub.status.busy": "2022-04-22T18:06:24.570678Z",
     "iopub.status.idle": "2022-04-22T18:06:24.574503Z",
     "shell.execute_reply": "2022-04-22T18:06:24.575167Z",
     "shell.execute_reply.started": "2022-04-22T17:57:31.632754Z"
    },
    "papermill": {
     "duration": 0.23091,
     "end_time": "2022-04-22T18:06:24.575403",
     "exception": false,
     "start_time": "2022-04-22T18:06:24.344493",
     "status": "completed"
    },
    "tags": []
   },
   "outputs": [
    {
     "name": "stdout",
     "output_type": "stream",
     "text": [
      "# features: 36\n"
     ]
    }
   ],
   "source": [
    "num_f = len(X_train.columns)\n",
    "print(f'# features: {num_f}')"
   ]
  },
  {
   "cell_type": "code",
   "execution_count": 132,
   "id": "71f2fde9",
   "metadata": {
    "execution": {
     "iopub.execute_input": "2022-04-22T18:06:25.075379Z",
     "iopub.status.busy": "2022-04-22T18:06:25.074431Z",
     "iopub.status.idle": "2022-04-22T18:06:27.091716Z",
     "shell.execute_reply": "2022-04-22T18:06:27.092843Z",
     "shell.execute_reply.started": "2022-04-22T18:03:53.208076Z"
    },
    "papermill": {
     "duration": 2.273051,
     "end_time": "2022-04-22T18:06:27.093104",
     "exception": false,
     "start_time": "2022-04-22T18:06:24.820053",
     "status": "completed"
    },
    "tags": []
   },
   "outputs": [
    {
     "name": "stdout",
     "output_type": "stream",
     "text": [
      "accuracy_score for train = 0.8303134886396318\n",
      "accuracy_score for validation = 0.8090856814261069\n"
     ]
    }
   ],
   "source": [
    "classifier = XGBClassifier(n_estimators=200,\n",
    "                           max_depth=4,\n",
    "                           objective='binary:hinge',\n",
    "                           subsample=0.6,\n",
    "                           colsample_bytree=0.6,\n",
    "                           eta=0.1,\n",
    "                           eval_metric='error',\n",
    "                           use_label_encoder=False,\n",
    "                           n_jobs=-1,\n",
    "                           random_state=101)\n",
    "\n",
    "model = classifier.fit(X_train, y_train)\n",
    "\n",
    "predicted_train = model.predict(X_train)\n",
    "predicted_validation = model.predict(X_validation)\n",
    "\n",
    "print(f\"accuracy_score for train = {accuracy_score(y_train, predicted_train)}\")\n",
    "print(f\"accuracy_score for validation = {accuracy_score(y_validation, predicted_validation)}\")"
   ]
  },
  {
   "cell_type": "markdown",
   "id": "f254ef8f",
   "metadata": {
    "papermill": {
     "duration": 0.223427,
     "end_time": "2022-04-22T18:06:27.542685",
     "exception": false,
     "start_time": "2022-04-22T18:06:27.319258",
     "status": "completed"
    },
    "tags": []
   },
   "source": [
    "<a id='make_prediction'></a>\n",
    "# 6. Make prediction"
   ]
  },
  {
   "cell_type": "code",
   "execution_count": 133,
   "id": "c5cb8bc6",
   "metadata": {
    "execution": {
     "iopub.execute_input": "2022-04-22T18:06:28.019720Z",
     "iopub.status.busy": "2022-04-22T18:06:28.019056Z",
     "iopub.status.idle": "2022-04-22T18:06:29.599428Z",
     "shell.execute_reply": "2022-04-22T18:06:29.599956Z",
     "shell.execute_reply.started": "2022-04-22T18:04:01.779872Z"
    },
    "papermill": {
     "duration": 1.832946,
     "end_time": "2022-04-22T18:06:29.600171",
     "exception": false,
     "start_time": "2022-04-22T18:06:27.767225",
     "status": "completed"
    },
    "tags": []
   },
   "outputs": [],
   "source": [
    "# Train again, with the whole training dataset (train + validation)\n",
    "model = classifier.fit(X_train_pred, y_train_pred)"
   ]
  },
  {
   "cell_type": "code",
   "execution_count": 134,
   "id": "3739a2b0",
   "metadata": {
    "execution": {
     "iopub.execute_input": "2022-04-22T18:06:30.059302Z",
     "iopub.status.busy": "2022-04-22T18:06:30.058284Z",
     "iopub.status.idle": "2022-04-22T18:06:30.076438Z",
     "shell.execute_reply": "2022-04-22T18:06:30.076995Z",
     "shell.execute_reply.started": "2022-04-22T18:04:04.803420Z"
    },
    "papermill": {
     "duration": 0.251972,
     "end_time": "2022-04-22T18:06:30.077181",
     "exception": false,
     "start_time": "2022-04-22T18:06:29.825209",
     "status": "completed"
    },
    "tags": []
   },
   "outputs": [],
   "source": [
    "prediction = pd.DataFrame(index=test_df.index)\n",
    "prediction['PassengerId'] = test_df['PassengerId']\n",
    "prediction['Transported'] = model.predict(X_test)\n",
    "\n",
    "prediction['Transported'] = prediction['Transported'].replace({0:False, 1:True})"
   ]
  },
  {
   "cell_type": "code",
   "execution_count": 135,
   "id": "7e137342",
   "metadata": {
    "execution": {
     "iopub.execute_input": "2022-04-22T18:06:30.527396Z",
     "iopub.status.busy": "2022-04-22T18:06:30.526510Z",
     "iopub.status.idle": "2022-04-22T18:06:30.541227Z",
     "shell.execute_reply": "2022-04-22T18:06:30.540528Z",
     "shell.execute_reply.started": "2022-04-22T18:04:08.653472Z"
    },
    "papermill": {
     "duration": 0.241171,
     "end_time": "2022-04-22T18:06:30.541381",
     "exception": false,
     "start_time": "2022-04-22T18:06:30.300210",
     "status": "completed"
    },
    "tags": []
   },
   "outputs": [],
   "source": [
    "prediction.to_csv('submission.csv', sep=',', index=False)"
   ]
  }
 ],
 "metadata": {
  "kernelspec": {
   "display_name": "Python 3",
   "language": "python",
   "name": "python3"
  },
  "language_info": {
   "codemirror_mode": {
    "name": "ipython",
    "version": 3
   },
   "file_extension": ".py",
   "mimetype": "text/x-python",
   "name": "python",
   "nbconvert_exporter": "python",
   "pygments_lexer": "ipython3",
   "version": "3.7.12"
  },
  "papermill": {
   "default_parameters": {},
   "duration": 102.78033,
   "end_time": "2022-04-22T18:06:31.981721",
   "environment_variables": {},
   "exception": null,
   "input_path": "__notebook__.ipynb",
   "output_path": "__notebook__.ipynb",
   "parameters": {},
   "start_time": "2022-04-22T18:04:49.201391",
   "version": "2.3.3"
  }
 },
 "nbformat": 4,
 "nbformat_minor": 5
}
